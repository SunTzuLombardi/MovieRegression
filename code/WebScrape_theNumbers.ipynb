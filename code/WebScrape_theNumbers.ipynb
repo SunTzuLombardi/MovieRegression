{
 "cells": [
  {
   "cell_type": "markdown",
   "metadata": {},
   "source": [
    "Daniel M. Smith Flatiron School"
   ]
  },
  {
   "cell_type": "markdown",
   "metadata": {},
   "source": [
    "### WebScraping The-numbers.com\n",
    "Call Build URL string and input into getdfFromURL to download data fromt TheNumbers Query page.<br>\n",
    "Can only select 100 per scrape means more queries\n",
    "## Do Not run all or you will query many times"
   ]
  },
  {
   "cell_type": "code",
   "execution_count": 3,
   "metadata": {
    "ExecuteTime": {
     "end_time": "2021-08-13T19:02:48.730341Z",
     "start_time": "2021-08-13T19:02:35.510994Z"
    }
   },
   "outputs": [],
   "source": [
    "import pandas as pd\n",
    "from bs4 import BeautifulSoup\n",
    "import requests\n"
   ]
  },
  {
   "cell_type": "code",
   "execution_count": 4,
   "metadata": {
    "ExecuteTime": {
     "end_time": "2021-08-13T19:02:48.814380Z",
     "start_time": "2021-08-13T19:02:48.801369Z"
    }
   },
   "outputs": [],
   "source": [
    "def getdffromUrl(url):\n",
    "    '''\n",
    "    This getdffromUrl function returns a dataframe from the callung url. \n",
    "\n",
    "    :param url: The url to create a BeautifulSoup object in turn parsing the \n",
    "     report table and returning a dataframe.\n",
    "    :type str: \n",
    "    \n",
    "    :returns: A pandas dataframe of the report table from the-numbers\n",
    "    :rtype: pandas.df\n",
    "    '''\n",
    "    \n",
    "    html_page = requests.get(url) # Make a get request to retrieve the page\n",
    "    soup = BeautifulSoup(html_page.content, 'html.parser') # Pass the page contents to beautiful soup for parsing\n",
    "\n",
    "    table_container = soup.find('div', id=\"page_filling_chart\")\n",
    "    table_headers = table_container.findAll('th')\n",
    "    table_rows = table_container.findAll('tr')\n",
    "    return parse_table2(table_headers,table_rows)"
   ]
  },
  {
   "cell_type": "code",
   "execution_count": 5,
   "metadata": {
    "ExecuteTime": {
     "end_time": "2021-08-13T19:02:48.993338Z",
     "start_time": "2021-08-13T19:02:48.879339Z"
    }
   },
   "outputs": [],
   "source": [
    "#genre = All, \n",
    "#creative_type=All, Science Fiction,Dramatization,Factual,Historical Fiction, Kids Fiction, Multiple Creative Types, \n",
    "#   Contempory Fiction, Fantasy, Super Hero\n",
    "#Distributor\n",
    "#Prod Method\n",
    "#'All/All/All/All/'\n",
    "def buildstarturl(genre='All', creative_type='All', domestic_distributor='All',\n",
    "                  prod_method='All' ):\n",
    "    starturl = genre + '/' + creative_type + '/' + domestic_distributor + '/'\\\n",
    "    + prod_method + '/'\n",
    "    return starturl"
   ]
  },
  {
   "cell_type": "code",
   "execution_count": 6,
   "metadata": {
    "ExecuteTime": {
     "end_time": "2021-08-13T19:03:16.057236Z",
     "start_time": "2021-08-13T19:03:16.050239Z"
    }
   },
   "outputs": [],
   "source": [
    "#rating-\n",
    "#creativesourceidea\n",
    "#Productioncountry\n",
    "#ProductionCompany\n",
    "#Keywords\n",
    "#-(US)/All/All/All/All/\n",
    "def buildmidurl(rating='All', creative_source='All', prod_country='All',\n",
    "                  prod_company='All',keywords='All' ):\n",
    "    midurl = rating + '-(US)/' + creative_source + '/' + prod_country + '/'\\\n",
    "            + prod_company + '/' + keywords + '/'\n",
    "    return midurl"
   ]
  },
  {
   "cell_type": "code",
   "execution_count": 7,
   "metadata": {
    "ExecuteTime": {
     "end_time": "2021-08-13T19:03:19.009880Z",
     "start_time": "2021-08-13T19:03:19.003878Z"
    }
   },
   "outputs": [],
   "source": [
    "#Min Budget\n",
    "#maxbudget\n",
    "#min release year\n",
    "#max release year\n",
    "#min release month\n",
    "#max release month\n",
    "#min runtime\n",
    "#max runtime\n",
    "#minopening weekend\n",
    "#max opening weekend\n",
    "#.05/400/2010/2010/7/12/61/2020/.5/358\n",
    "#/None/None/None/None/None/None\n",
    "def buildendurl(minbudget='None',maxbudget='400', min_rel_yr='None', max_rel_yr='None',\n",
    "                min_rel_mth='None', max_rel_mth='None', minruntime='0',\n",
    "                maxruntime='2048', min_open_wknd='None', max_open_wknd='None'):\n",
    "    \n",
    "    endurl = minbudget + '/' + maxbudget + '/' + min_rel_yr + '/'\\\n",
    "    + max_rel_yr + '/' + min_rel_mth + '/' + max_rel_mth + '/'\\\n",
    "    + minruntime + '/' + maxruntime + '/' + min_open_wknd + '/' + max_open_wknd\n",
    "    \n",
    "    return endurl"
   ]
  },
  {
   "cell_type": "code",
   "execution_count": 26,
   "metadata": {
    "ExecuteTime": {
     "end_time": "2021-08-13T19:18:20.044596Z",
     "start_time": "2021-08-13T19:18:20.032594Z"
    }
   },
   "outputs": [],
   "source": [
    "# Builds the URL String with inputs on MPAA rating, Min Budget,MaxBudget, Start Year, End Year\n",
    "def buildurl(rating, minbudget, maxbudget, startyear, endyear):\n",
    "    '''\n",
    "    This buildurl function returns a full url string to query the-numbers.com \n",
    "    site.\n",
    "\n",
    "    :param rating: The MPAA rating of movies to query\n",
    "    :type amount: \n",
    "    :param minbudget: The minumum production budget to query\n",
    "    :type amount: str\n",
    "    :param maxbudget: The minumum production budget to query\n",
    "    :type amount: str\n",
    "    :param startyear: The start year to query\n",
    "    :type amount: str\n",
    "    :param endyear: The end year to query\n",
    "    :type amount: str\n",
    "\n",
    "    :returns: A url calling the-numbers reporting page\n",
    "    :rtype: str\n",
    "    '''\n",
    "\n",
    "    baseurl = 'https://www.the-numbers.com/movies/report/'\n",
    "    #'All/All/All/All/'\n",
    "    starturl = buildstarturl(genre='All', creative_type='All', \n",
    "                             domestic_distributor='All',\n",
    "                             prod_method='All' )#'All/All/All/All/'\n",
    "    \n",
    "    midurl = buildmidurl(rating,creative_source='All', prod_country='All',\n",
    "                  prod_company='All',keywords='All')#'-(US)/All/All/All/All/'\n",
    "    \n",
    "    endurl = buildendurl(minbudget=minbudget,maxbudget=maxbudget, \n",
    "                         min_rel_yr=startyear, max_rel_yr=endyear,\n",
    "                                min_rel_mth='None', max_rel_mth='None', \n",
    "                         minruntime='0', maxruntime='2048', \n",
    "                         min_open_wknd='None', max_open_wknd='None')#'/None/None/None/None/None/None'\n",
    "    \n",
    "    params = '?show-release-date=On&show-release-year=Off'\\\n",
    "    +'&show-production-budget=On&show-opening-weekend-theaters=On'\\\n",
    "            +'&show-domestic-box-office=On'\\\n",
    "            +'&show-maximum-theaters=On'\\\n",
    "            +'&show-inflation-adjusted-domestic-box-office=On'\\\n",
    "            +'&show-theatrical-engagements=On'\\\n",
    "            +'&show-international-box-office=On'\\\n",
    "            +'&show-opening-weekend-revenue=On'\\\n",
    "            +'&show-worldwide-box-office=On'\\\n",
    "            +'&show-worldwide-release-date=On'\\\n",
    "            +'&show-worldwide-release-year=Off'\\\n",
    "            +'&show-theatrical-distributor=On'\\\n",
    "            +'&show-genre=On&show-source=On'\\\n",
    "            +'&show-production-method=On'\\\n",
    "            +'&show-creative-type=On'\\\n",
    "            +'&view-order-by=domestic-box-office'\\\n",
    "            +'&view-order-direction=desc'\n",
    "\n",
    "    url = baseurl + starturl + midurl + endurl + params\n",
    "\n",
    "    return url"
   ]
  },
  {
   "cell_type": "code",
   "execution_count": 32,
   "metadata": {
    "ExecuteTime": {
     "end_time": "2021-08-13T19:53:45.757596Z",
     "start_time": "2021-08-13T19:53:45.745587Z"
    }
   },
   "outputs": [],
   "source": [
    "# Final Parse table from the numbers returns a data frame\n",
    "def parse_table2(table_headers, table_rows):\n",
    "    '''\n",
    "    This parse_table2 function returns a dataframe from the inputs of\n",
    "    html table headers and html table rows. \n",
    "\n",
    "    :param table_headers: The table_headers of an html table \n",
    "    :type ResultSet: \n",
    "    :param table_rows: The table_rows of an html table \n",
    "    :type ResultSet: \n",
    "    \n",
    "    :returns: A pandas dataframe of the report table from the-numbers\n",
    "    :rtype: pandas.df\n",
    "    '''\n",
    "    headers = []\n",
    "    movies = []\n",
    "\n",
    "    # create list of headers\n",
    "    for i in range(0, len(table_headers)):\n",
    "        headers.append(table_headers[i].get_text())\n",
    "\n",
    "    # create list of rows/datacells\n",
    "    for i in range(1, len(table_rows)):\n",
    "        tds = table_rows[i].findAll('td')\n",
    "        movie_dict = {}\n",
    "        for i in range(0, len(tds)):\n",
    "            #print(table_headers[i].get_text() ,tds[i].get_text())\n",
    "            movie_dict[table_headers[i].get_text()] = tds[i].get_text()\n",
    "        movies.append(movie_dict)\n",
    "\n",
    "    df = pd.DataFrame(movies)\n",
    "    df.drop(columns=headers[0], inplace=True)\n",
    "\n",
    "    return df"
   ]
  },
  {
   "cell_type": "code",
   "execution_count": 657,
   "metadata": {
    "ExecuteTime": {
     "end_time": "2021-05-02T10:54:16.616563Z",
     "start_time": "2021-05-02T10:54:16.611576Z"
    },
    "scrolled": true
   },
   "outputs": [],
   "source": [
    "df_g_rated_2 = parse_table2(table_headers,table_rows)"
   ]
  },
  {
   "cell_type": "code",
   "execution_count": 658,
   "metadata": {
    "ExecuteTime": {
     "end_time": "2021-05-02T10:54:18.983368Z",
     "start_time": "2021-05-02T10:54:18.974359Z"
    }
   },
   "outputs": [
    {
     "data": {
      "text/html": [
       "<div>\n",
       "<style scoped>\n",
       "    .dataframe tbody tr th:only-of-type {\n",
       "        vertical-align: middle;\n",
       "    }\n",
       "\n",
       "    .dataframe tbody tr th {\n",
       "        vertical-align: top;\n",
       "    }\n",
       "\n",
       "    .dataframe thead th {\n",
       "        text-align: right;\n",
       "    }\n",
       "</style>\n",
       "<table border=\"1\" class=\"dataframe\">\n",
       "  <thead>\n",
       "    <tr style=\"text-align: right;\">\n",
       "      <th></th>\n",
       "      <th>Released</th>\n",
       "      <th>Title</th>\n",
       "      <th>Source</th>\n",
       "    </tr>\n",
       "  </thead>\n",
       "  <tbody>\n",
       "    <tr>\n",
       "      <th>0</th>\n",
       "      <td>Feb 11, 2011</td>\n",
       "      <td>Gnomeo and Juliet</td>\n",
       "      <td>Based on Play</td>\n",
       "    </tr>\n",
       "    <tr>\n",
       "      <th>1</th>\n",
       "      <td>Feb 11, 2011</td>\n",
       "      <td>Justin Bieber: Never Say Never</td>\n",
       "      <td>Based on Real Life Events</td>\n",
       "    </tr>\n",
       "    <tr>\n",
       "      <th>2</th>\n",
       "      <td>Jul 15, 2011</td>\n",
       "      <td>Winnie the Pooh</td>\n",
       "      <td>Based on Fiction Book/Short Story</td>\n",
       "    </tr>\n",
       "    <tr>\n",
       "      <th>3</th>\n",
       "      <td>Jul 23, 2010</td>\n",
       "      <td>Ramona and Beezus</td>\n",
       "      <td>Based on Fiction Book/Short Story</td>\n",
       "    </tr>\n",
       "    <tr>\n",
       "      <th>4</th>\n",
       "      <td>Feb 17, 2012</td>\n",
       "      <td>Kari gurashi no Arietti</td>\n",
       "      <td>Based on Fiction Book/Short Story</td>\n",
       "    </tr>\n",
       "    <tr>\n",
       "      <th>5</th>\n",
       "      <td>Dec 13, 2011</td>\n",
       "      <td>George Balanchine's The Nutcracker</td>\n",
       "      <td>Based on Ballet</td>\n",
       "    </tr>\n",
       "    <tr>\n",
       "      <th>6</th>\n",
       "      <td>Oct 21, 2011</td>\n",
       "      <td>The Mighty Macs</td>\n",
       "      <td>Based on Real Life Events</td>\n",
       "    </tr>\n",
       "    <tr>\n",
       "      <th>7</th>\n",
       "      <td>Aug 29, 2012</td>\n",
       "      <td>The Oogieloves in the BIG Balloon Adv…</td>\n",
       "      <td>Original Screenplay</td>\n",
       "    </tr>\n",
       "    <tr>\n",
       "      <th>8</th>\n",
       "      <td>Oct 4, 2011</td>\n",
       "      <td>La vÃ©ritable histoire du Chat BottÃ©</td>\n",
       "      <td></td>\n",
       "    </tr>\n",
       "    <tr>\n",
       "      <th>9</th>\n",
       "      <td>Dec 31, 2012</td>\n",
       "      <td>Zambezia</td>\n",
       "      <td>Original Screenplay</td>\n",
       "    </tr>\n",
       "    <tr>\n",
       "      <th>10</th>\n",
       "      <td>Mar 9, 2010</td>\n",
       "      <td>Hachiko: A Dogâs Story</td>\n",
       "      <td>Original Screenplay</td>\n",
       "    </tr>\n",
       "    <tr>\n",
       "      <th>11</th>\n",
       "      <td>Dec 31, 2010</td>\n",
       "      <td>Belka i Strelka. Zvezdnye sobaki</td>\n",
       "      <td>Original Screenplay</td>\n",
       "    </tr>\n",
       "  </tbody>\n",
       "</table>\n",
       "</div>"
      ],
      "text/plain": [
       "        Released                                   Title  \\\n",
       "0   Feb 11, 2011                       Gnomeo and Juliet   \n",
       "1   Feb 11, 2011          Justin Bieber: Never Say Never   \n",
       "2   Jul 15, 2011                         Winnie the Pooh   \n",
       "3   Jul 23, 2010                       Ramona and Beezus   \n",
       "4   Feb 17, 2012                 Kari gurashi no Arietti   \n",
       "5   Dec 13, 2011      George Balanchine's The Nutcracker   \n",
       "6   Oct 21, 2011                         The Mighty Macs   \n",
       "7   Aug 29, 2012  The Oogieloves in the BIG Balloon Adv…   \n",
       "8    Oct 4, 2011   La vÃ©ritable histoire du Chat BottÃ©   \n",
       "9   Dec 31, 2012                                Zambezia   \n",
       "10   Mar 9, 2010                Hachiko: A Dogâs Story   \n",
       "11  Dec 31, 2010        Belka i Strelka. Zvezdnye sobaki   \n",
       "\n",
       "                               Source  \n",
       "0                       Based on Play  \n",
       "1           Based on Real Life Events  \n",
       "2   Based on Fiction Book/Short Story  \n",
       "3   Based on Fiction Book/Short Story  \n",
       "4   Based on Fiction Book/Short Story  \n",
       "5                     Based on Ballet  \n",
       "6           Based on Real Life Events  \n",
       "7                 Original Screenplay  \n",
       "8                                      \n",
       "9                 Original Screenplay  \n",
       "10                Original Screenplay  \n",
       "11                Original Screenplay  "
      ]
     },
     "execution_count": 658,
     "metadata": {},
     "output_type": "execute_result"
    }
   ],
   "source": [
    "df_g_rated_2"
   ]
  },
  {
   "cell_type": "code",
   "execution_count": 13,
   "metadata": {
    "ExecuteTime": {
     "end_time": "2021-08-11T23:02:29.399368Z",
     "start_time": "2021-08-11T23:02:29.391373Z"
    }
   },
   "outputs": [
    {
     "data": {
      "text/plain": [
       "'https://www.the-numbers.com/movies/report/All/All/All/All/G-(US)/All/All/All/All/2/65/2010/2018/None/None/0/2048/None/None?show-release-date=On&show-release-year=On&show-production-budget=On&show-opening-weekend-theaters=On&show-domestic-box-office=On&show-maximum-theaters=On&show-inflation-adjusted-domestic-box-office=On&show-theatrical-engagements=On&show-international-box-office=On&show-opening-weekend-revenue=On&show-worldwide-box-office=On&show-worldwide-release-date=On&show-worldwide-release-year=On&show-theatrical-distributor=On&show-genre=On&show-source=On&show-production-method=On&show-creative-type=On&view-order-by=domestic-box-office&view-order-direction=desc'"
      ]
     },
     "execution_count": 13,
     "metadata": {},
     "output_type": "execute_result"
    }
   ],
   "source": [
    "buildurl('G','2','65','2010','2018')"
   ]
  },
  {
   "cell_type": "code",
   "execution_count": 33,
   "metadata": {
    "ExecuteTime": {
     "end_time": "2021-08-13T19:55:11.996345Z",
     "start_time": "2021-08-13T19:55:10.987341Z"
    }
   },
   "outputs": [],
   "source": [
    "df_G = getdffromUrl(buildurl('G','.05','400','2010','2019'))"
   ]
  },
  {
   "cell_type": "code",
   "execution_count": 31,
   "metadata": {
    "ExecuteTime": {
     "end_time": "2021-08-13T19:20:06.566224Z",
     "start_time": "2021-08-13T19:20:06.515232Z"
    }
   },
   "outputs": [
    {
     "data": {
      "text/html": [
       "<div>\n",
       "<style scoped>\n",
       "    .dataframe tbody tr th:only-of-type {\n",
       "        vertical-align: middle;\n",
       "    }\n",
       "\n",
       "    .dataframe tbody tr th {\n",
       "        vertical-align: top;\n",
       "    }\n",
       "\n",
       "    .dataframe thead th {\n",
       "        text-align: right;\n",
       "    }\n",
       "</style>\n",
       "<table border=\"1\" class=\"dataframe\">\n",
       "  <thead>\n",
       "    <tr style=\"text-align: right;\">\n",
       "      <th></th>\n",
       "      <th>Released</th>\n",
       "      <th>ReleasedWorldwide</th>\n",
       "      <th>Title</th>\n",
       "      <th>TheatricalDistributor</th>\n",
       "      <th>Genre</th>\n",
       "      <th>Source</th>\n",
       "      <th>ProductionMethod</th>\n",
       "      <th>CreativeType</th>\n",
       "      <th>ProductionBudget</th>\n",
       "      <th>Opening WeekendTheaters</th>\n",
       "      <th>MaximumTheaters</th>\n",
       "      <th>TheatricalEngagements</th>\n",
       "      <th>Opening WeekendRevenue</th>\n",
       "      <th>DomesticBox Office</th>\n",
       "      <th>Infl. Adj. Dom.Box Office</th>\n",
       "      <th>InternationalBox Office</th>\n",
       "      <th>WorldwideBox Office</th>\n",
       "    </tr>\n",
       "  </thead>\n",
       "  <tbody>\n",
       "    <tr>\n",
       "      <th>0</th>\n",
       "      <td>Mar 5, 2010</td>\n",
       "      <td>Mar 4, 2010</td>\n",
       "      <td>Alice in Wonderland</td>\n",
       "      <td>Walt Disney</td>\n",
       "      <td>Adventure</td>\n",
       "      <td>Based on Fiction Book/Short Story</td>\n",
       "      <td>Animation/Live Action</td>\n",
       "      <td>Fantasy</td>\n",
       "      <td>$200,000,000</td>\n",
       "      <td>3,728</td>\n",
       "      <td>3,739</td>\n",
       "      <td>27,013</td>\n",
       "      <td>$116,101,023</td>\n",
       "      <td>$334,191,110</td>\n",
       "      <td>$387,983,589</td>\n",
       "      <td>$691,300,000</td>\n",
       "      <td>$1,025,491,110</td>\n",
       "    </tr>\n",
       "    <tr>\n",
       "      <th>1</th>\n",
       "      <td>Jul 9, 2010</td>\n",
       "      <td>Jul 9, 2010</td>\n",
       "      <td>Despicable Me</td>\n",
       "      <td>Universal</td>\n",
       "      <td>Adventure</td>\n",
       "      <td>Original Screenplay</td>\n",
       "      <td>Digital Animation</td>\n",
       "      <td>Kids Fiction</td>\n",
       "      <td>$69,000,000</td>\n",
       "      <td>3,476</td>\n",
       "      <td>3,602</td>\n",
       "      <td>33,507</td>\n",
       "      <td>$56,397,125</td>\n",
       "      <td>$251,513,985</td>\n",
       "      <td>$291,996,673</td>\n",
       "      <td>$291,950,588</td>\n",
       "      <td>$543,464,573</td>\n",
       "    </tr>\n",
       "    <tr>\n",
       "      <th>2</th>\n",
       "      <td>May 21, 2010</td>\n",
       "      <td>May 21, 2010</td>\n",
       "      <td>Shrek Forever After</td>\n",
       "      <td>Paramount Pictures</td>\n",
       "      <td>Adventure</td>\n",
       "      <td>Based on Fiction Book/Short Story</td>\n",
       "      <td>Digital Animation</td>\n",
       "      <td>Kids Fiction</td>\n",
       "      <td>$165,000,000</td>\n",
       "      <td>4,359</td>\n",
       "      <td>4,386</td>\n",
       "      <td>25,897</td>\n",
       "      <td>$70,838,207</td>\n",
       "      <td>$238,736,787</td>\n",
       "      <td>$277,164,636</td>\n",
       "      <td>$517,507,886</td>\n",
       "      <td>$756,244,673</td>\n",
       "    </tr>\n",
       "    <tr>\n",
       "      <th>3</th>\n",
       "      <td>Mar 26, 2010</td>\n",
       "      <td>Mar 26, 2010</td>\n",
       "      <td>How to Train Your Dragon</td>\n",
       "      <td>Paramount Pictures</td>\n",
       "      <td>Adventure</td>\n",
       "      <td>Based on Fiction Book/Short Story</td>\n",
       "      <td>Digital Animation</td>\n",
       "      <td>Fantasy</td>\n",
       "      <td>$165,000,000</td>\n",
       "      <td>4,055</td>\n",
       "      <td>4,060</td>\n",
       "      <td>33,192</td>\n",
       "      <td>$43,732,319</td>\n",
       "      <td>$217,581,232</td>\n",
       "      <td>$252,603,809</td>\n",
       "      <td>$277,289,760</td>\n",
       "      <td>$494,870,992</td>\n",
       "    </tr>\n",
       "    <tr>\n",
       "      <th>4</th>\n",
       "      <td>Nov 24, 2010</td>\n",
       "      <td>Nov 24, 2010</td>\n",
       "      <td>Tangled</td>\n",
       "      <td>Walt Disney</td>\n",
       "      <td>Musical</td>\n",
       "      <td>Based on Folk Tale/Legend/Fairytale</td>\n",
       "      <td>Digital Animation</td>\n",
       "      <td>Kids Fiction</td>\n",
       "      <td>$260,000,000</td>\n",
       "      <td>3,603</td>\n",
       "      <td>3,603</td>\n",
       "      <td>32,392</td>\n",
       "      <td>$48,767,052</td>\n",
       "      <td>$200,821,936</td>\n",
       "      <td>$232,953,630</td>\n",
       "      <td>$384,752,381</td>\n",
       "      <td>$585,574,317</td>\n",
       "    </tr>\n",
       "    <tr>\n",
       "      <th>...</th>\n",
       "      <td>...</td>\n",
       "      <td>...</td>\n",
       "      <td>...</td>\n",
       "      <td>...</td>\n",
       "      <td>...</td>\n",
       "      <td>...</td>\n",
       "      <td>...</td>\n",
       "      <td>...</td>\n",
       "      <td>...</td>\n",
       "      <td>...</td>\n",
       "      <td>...</td>\n",
       "      <td>...</td>\n",
       "      <td>...</td>\n",
       "      <td>...</td>\n",
       "      <td>...</td>\n",
       "      <td>...</td>\n",
       "      <td>...</td>\n",
       "    </tr>\n",
       "    <tr>\n",
       "      <th>78</th>\n",
       "      <td>May 1, 2010</td>\n",
       "      <td>May 1, 2010</td>\n",
       "      <td>My Girlfriend's Boyfriend</td>\n",
       "      <td></td>\n",
       "      <td>Romantic Comedy</td>\n",
       "      <td></td>\n",
       "      <td>Live Action</td>\n",
       "      <td></td>\n",
       "      <td>$1,400,000</td>\n",
       "      <td>0</td>\n",
       "      <td>0</td>\n",
       "      <td>0</td>\n",
       "      <td>$0</td>\n",
       "      <td>$0</td>\n",
       "      <td>$0</td>\n",
       "      <td>$0</td>\n",
       "      <td>$0</td>\n",
       "    </tr>\n",
       "    <tr>\n",
       "      <th>79</th>\n",
       "      <td>Jun 3, 2011</td>\n",
       "      <td>Jun 3, 2011</td>\n",
       "      <td>The Lion of Judah</td>\n",
       "      <td>Rocky Mountain Pictures</td>\n",
       "      <td>Adventure</td>\n",
       "      <td>Based on Religious Text</td>\n",
       "      <td>Digital Animation</td>\n",
       "      <td>Kids Fiction</td>\n",
       "      <td>$1,500,000</td>\n",
       "      <td>0</td>\n",
       "      <td>0</td>\n",
       "      <td>0</td>\n",
       "      <td>$0</td>\n",
       "      <td>$0</td>\n",
       "      <td>$0</td>\n",
       "      <td>$0</td>\n",
       "      <td>$0</td>\n",
       "    </tr>\n",
       "    <tr>\n",
       "      <th>80</th>\n",
       "      <td>Dec 31, 2010</td>\n",
       "      <td>Dec 31, 2010</td>\n",
       "      <td>Konferenz der Tiere</td>\n",
       "      <td></td>\n",
       "      <td>Adventure</td>\n",
       "      <td>Original Screenplay</td>\n",
       "      <td>Digital Animation</td>\n",
       "      <td>Kids Fiction</td>\n",
       "      <td>$30,000,000</td>\n",
       "      <td>0</td>\n",
       "      <td>0</td>\n",
       "      <td>0</td>\n",
       "      <td>$0</td>\n",
       "      <td>$0</td>\n",
       "      <td>$0</td>\n",
       "      <td>$53,048,539</td>\n",
       "      <td>$53,048,539</td>\n",
       "    </tr>\n",
       "    <tr>\n",
       "      <th>81</th>\n",
       "      <td>Mar 15, 2011</td>\n",
       "      <td>Mar 15, 2011</td>\n",
       "      <td>A Shine of Rainbows</td>\n",
       "      <td></td>\n",
       "      <td>Drama</td>\n",
       "      <td></td>\n",
       "      <td></td>\n",
       "      <td></td>\n",
       "      <td>$6,000,000</td>\n",
       "      <td>0</td>\n",
       "      <td>0</td>\n",
       "      <td>0</td>\n",
       "      <td>$0</td>\n",
       "      <td>$0</td>\n",
       "      <td>$0</td>\n",
       "      <td>$0</td>\n",
       "      <td>$0</td>\n",
       "    </tr>\n",
       "    <tr>\n",
       "      <th>82</th>\n",
       "      <td>Dec 31, 2010</td>\n",
       "      <td>Dec 31, 2010</td>\n",
       "      <td>The Christmas Bunny</td>\n",
       "      <td></td>\n",
       "      <td></td>\n",
       "      <td></td>\n",
       "      <td></td>\n",
       "      <td></td>\n",
       "      <td>$250,000</td>\n",
       "      <td>0</td>\n",
       "      <td>0</td>\n",
       "      <td>0</td>\n",
       "      <td>$0</td>\n",
       "      <td>$0</td>\n",
       "      <td>$0</td>\n",
       "      <td>$0</td>\n",
       "      <td>$0</td>\n",
       "    </tr>\n",
       "  </tbody>\n",
       "</table>\n",
       "<p>83 rows × 17 columns</p>\n",
       "</div>"
      ],
      "text/plain": [
       "        Released ReleasedWorldwide                      Title  \\\n",
       "0    Mar 5, 2010       Mar 4, 2010        Alice in Wonderland   \n",
       "1    Jul 9, 2010       Jul 9, 2010              Despicable Me   \n",
       "2   May 21, 2010      May 21, 2010        Shrek Forever After   \n",
       "3   Mar 26, 2010      Mar 26, 2010   How to Train Your Dragon   \n",
       "4   Nov 24, 2010      Nov 24, 2010                    Tangled   \n",
       "..           ...               ...                        ...   \n",
       "78   May 1, 2010       May 1, 2010  My Girlfriend's Boyfriend   \n",
       "79   Jun 3, 2011       Jun 3, 2011          The Lion of Judah   \n",
       "80  Dec 31, 2010      Dec 31, 2010        Konferenz der Tiere   \n",
       "81  Mar 15, 2011      Mar 15, 2011        A Shine of Rainbows   \n",
       "82  Dec 31, 2010      Dec 31, 2010        The Christmas Bunny   \n",
       "\n",
       "      TheatricalDistributor            Genre  \\\n",
       "0               Walt Disney        Adventure   \n",
       "1                 Universal        Adventure   \n",
       "2        Paramount Pictures        Adventure   \n",
       "3        Paramount Pictures        Adventure   \n",
       "4               Walt Disney          Musical   \n",
       "..                      ...              ...   \n",
       "78                           Romantic Comedy   \n",
       "79  Rocky Mountain Pictures        Adventure   \n",
       "80                                 Adventure   \n",
       "81                                     Drama   \n",
       "82                                             \n",
       "\n",
       "                                 Source       ProductionMethod  CreativeType  \\\n",
       "0     Based on Fiction Book/Short Story  Animation/Live Action       Fantasy   \n",
       "1                   Original Screenplay      Digital Animation  Kids Fiction   \n",
       "2     Based on Fiction Book/Short Story      Digital Animation  Kids Fiction   \n",
       "3     Based on Fiction Book/Short Story      Digital Animation       Fantasy   \n",
       "4   Based on Folk Tale/Legend/Fairytale      Digital Animation  Kids Fiction   \n",
       "..                                  ...                    ...           ...   \n",
       "78                                                 Live Action                 \n",
       "79              Based on Religious Text      Digital Animation  Kids Fiction   \n",
       "80                  Original Screenplay      Digital Animation  Kids Fiction   \n",
       "81                                                                             \n",
       "82                                                                             \n",
       "\n",
       "   ProductionBudget Opening WeekendTheaters MaximumTheaters  \\\n",
       "0      $200,000,000                   3,728           3,739   \n",
       "1       $69,000,000                   3,476           3,602   \n",
       "2      $165,000,000                   4,359           4,386   \n",
       "3      $165,000,000                   4,055           4,060   \n",
       "4      $260,000,000                   3,603           3,603   \n",
       "..              ...                     ...             ...   \n",
       "78       $1,400,000                       0               0   \n",
       "79       $1,500,000                       0               0   \n",
       "80      $30,000,000                       0               0   \n",
       "81       $6,000,000                       0               0   \n",
       "82         $250,000                       0               0   \n",
       "\n",
       "   TheatricalEngagements Opening WeekendRevenue DomesticBox Office  \\\n",
       "0                 27,013           $116,101,023       $334,191,110   \n",
       "1                 33,507            $56,397,125       $251,513,985   \n",
       "2                 25,897            $70,838,207       $238,736,787   \n",
       "3                 33,192            $43,732,319       $217,581,232   \n",
       "4                 32,392            $48,767,052       $200,821,936   \n",
       "..                   ...                    ...                ...   \n",
       "78                     0                     $0                 $0   \n",
       "79                     0                     $0                 $0   \n",
       "80                     0                     $0                 $0   \n",
       "81                     0                     $0                 $0   \n",
       "82                     0                     $0                 $0   \n",
       "\n",
       "   Infl. Adj. Dom.Box Office InternationalBox Office WorldwideBox Office  \n",
       "0               $387,983,589            $691,300,000      $1,025,491,110  \n",
       "1               $291,996,673            $291,950,588        $543,464,573  \n",
       "2               $277,164,636            $517,507,886        $756,244,673  \n",
       "3               $252,603,809            $277,289,760        $494,870,992  \n",
       "4               $232,953,630            $384,752,381        $585,574,317  \n",
       "..                       ...                     ...                 ...  \n",
       "78                        $0                      $0                  $0  \n",
       "79                        $0                      $0                  $0  \n",
       "80                        $0             $53,048,539         $53,048,539  \n",
       "81                        $0                      $0                  $0  \n",
       "82                        $0                      $0                  $0  \n",
       "\n",
       "[83 rows x 17 columns]"
      ]
     },
     "execution_count": 31,
     "metadata": {},
     "output_type": "execute_result"
    }
   ],
   "source": [
    "df_PG_to2011"
   ]
  },
  {
   "cell_type": "code",
   "execution_count": 34,
   "metadata": {
    "ExecuteTime": {
     "end_time": "2021-08-13T19:55:21.256804Z",
     "start_time": "2021-08-13T19:55:20.140767Z"
    }
   },
   "outputs": [],
   "source": [
    "df_PG_to2011 = getdffromUrl(buildurl('PG','.05','400','2010','2011'))"
   ]
  },
  {
   "cell_type": "code",
   "execution_count": 35,
   "metadata": {
    "ExecuteTime": {
     "end_time": "2021-08-13T19:55:22.559172Z",
     "start_time": "2021-08-13T19:55:21.557791Z"
    }
   },
   "outputs": [],
   "source": [
    "df_PG_to2012  = getdffromUrl(buildurl('PG','.05','400','2012','2012'))"
   ]
  },
  {
   "cell_type": "code",
   "execution_count": 36,
   "metadata": {
    "ExecuteTime": {
     "end_time": "2021-08-13T19:55:23.834480Z",
     "start_time": "2021-08-13T19:55:22.880231Z"
    }
   },
   "outputs": [],
   "source": [
    "df_PG_to2013  = getdffromUrl(buildurl('PG','.05','400','2013','2013'))"
   ]
  },
  {
   "cell_type": "code",
   "execution_count": 37,
   "metadata": {
    "ExecuteTime": {
     "end_time": "2021-08-13T19:55:25.574747Z",
     "start_time": "2021-08-13T19:55:24.247554Z"
    }
   },
   "outputs": [],
   "source": [
    "df_PG_to2014  = getdffromUrl(buildurl('PG','.05','400','2014','2014'))"
   ]
  },
  {
   "cell_type": "code",
   "execution_count": 38,
   "metadata": {
    "ExecuteTime": {
     "end_time": "2021-08-13T19:55:27.306299Z",
     "start_time": "2021-08-13T19:55:26.255756Z"
    }
   },
   "outputs": [],
   "source": [
    "df_PG_to2015  = getdffromUrl(buildurl('PG','.05','400','2015','2015'))"
   ]
  },
  {
   "cell_type": "code",
   "execution_count": 39,
   "metadata": {
    "ExecuteTime": {
     "end_time": "2021-08-13T19:55:29.155335Z",
     "start_time": "2021-08-13T19:55:28.008013Z"
    }
   },
   "outputs": [],
   "source": [
    "df_PG_to2016  = getdffromUrl(buildurl('PG','.05','400','2016','2016'))"
   ]
  },
  {
   "cell_type": "code",
   "execution_count": 40,
   "metadata": {
    "ExecuteTime": {
     "end_time": "2021-08-13T19:55:31.322072Z",
     "start_time": "2021-08-13T19:55:30.315653Z"
    }
   },
   "outputs": [],
   "source": [
    "df_PG_to2017  = getdffromUrl(buildurl('PG','.05','400','2017','2017'))"
   ]
  },
  {
   "cell_type": "code",
   "execution_count": 41,
   "metadata": {
    "ExecuteTime": {
     "end_time": "2021-08-13T19:55:33.324105Z",
     "start_time": "2021-08-13T19:55:32.199477Z"
    }
   },
   "outputs": [],
   "source": [
    "df_PG_to2018  = getdffromUrl(buildurl('PG','.05','400','2018','2018'))"
   ]
  },
  {
   "cell_type": "code",
   "execution_count": 42,
   "metadata": {
    "ExecuteTime": {
     "end_time": "2021-08-13T19:55:36.116445Z",
     "start_time": "2021-08-13T19:55:34.058625Z"
    }
   },
   "outputs": [],
   "source": [
    "df_PG_to2019  = getdffromUrl(buildurl('PG','.05','400','2019','2019'))"
   ]
  },
  {
   "cell_type": "code",
   "execution_count": 43,
   "metadata": {
    "ExecuteTime": {
     "end_time": "2021-08-13T19:55:38.043056Z",
     "start_time": "2021-08-13T19:55:37.056973Z"
    }
   },
   "outputs": [],
   "source": [
    "df_PG_to2020  = getdffromUrl(buildurl('PG','.05','400','2020','2020'))"
   ]
  },
  {
   "cell_type": "code",
   "execution_count": 44,
   "metadata": {
    "ExecuteTime": {
     "end_time": "2021-08-13T19:55:39.740546Z",
     "start_time": "2021-08-13T19:55:38.833307Z"
    }
   },
   "outputs": [],
   "source": [
    "df_PG_to2021  = getdffromUrl(buildurl('PG','.05','400','2014','2014'))"
   ]
  },
  {
   "cell_type": "code",
   "execution_count": null,
   "metadata": {
    "ExecuteTime": {
     "end_time": "2021-08-12T00:43:13.484766Z",
     "start_time": "2021-08-12T00:43:12.267513Z"
    }
   },
   "outputs": [],
   "source": []
  },
  {
   "cell_type": "code",
   "execution_count": null,
   "metadata": {
    "ExecuteTime": {
     "end_time": "2021-08-12T00:42:39.720934Z",
     "start_time": "2021-08-12T00:42:38.170883Z"
    }
   },
   "outputs": [],
   "source": []
  },
  {
   "cell_type": "code",
   "execution_count": 45,
   "metadata": {
    "ExecuteTime": {
     "end_time": "2021-08-13T19:55:45.143873Z",
     "start_time": "2021-08-13T19:55:43.906612Z"
    }
   },
   "outputs": [
    {
     "data": {
      "text/plain": [
       "71"
      ]
     },
     "execution_count": 45,
     "metadata": {},
     "output_type": "execute_result"
    }
   ],
   "source": [
    "df_PG13_2010  = getdffromUrl(buildurl('PG-13','.05','400','2010','2010'))\n",
    "len(df_PG13_2010)"
   ]
  },
  {
   "cell_type": "code",
   "execution_count": 46,
   "metadata": {
    "ExecuteTime": {
     "end_time": "2021-08-13T19:55:47.442441Z",
     "start_time": "2021-08-13T19:55:46.285935Z"
    }
   },
   "outputs": [
    {
     "data": {
      "text/plain": [
       "89"
      ]
     },
     "execution_count": 46,
     "metadata": {},
     "output_type": "execute_result"
    }
   ],
   "source": [
    "df_PG13_2011  = getdffromUrl(buildurl('PG-13','.05','400','2011','2011'))\n",
    "len(df_PG13_2011)"
   ]
  },
  {
   "cell_type": "code",
   "execution_count": 47,
   "metadata": {
    "ExecuteTime": {
     "end_time": "2021-08-13T19:55:49.798212Z",
     "start_time": "2021-08-13T19:55:48.560471Z"
    }
   },
   "outputs": [
    {
     "data": {
      "text/plain": [
       "81"
      ]
     },
     "execution_count": 47,
     "metadata": {},
     "output_type": "execute_result"
    }
   ],
   "source": [
    "df_PG13_2012  = getdffromUrl(buildurl('PG-13','.05','400','2012','2012'))\n",
    "len(df_PG13_2012)"
   ]
  },
  {
   "cell_type": "code",
   "execution_count": 48,
   "metadata": {
    "ExecuteTime": {
     "end_time": "2021-08-13T19:55:52.102538Z",
     "start_time": "2021-08-13T19:55:50.912420Z"
    }
   },
   "outputs": [],
   "source": [
    "df_PG13_2013  = getdffromUrl(buildurl('PG-13','.05','400','2013','2013'))"
   ]
  },
  {
   "cell_type": "code",
   "execution_count": 49,
   "metadata": {
    "ExecuteTime": {
     "end_time": "2021-08-13T19:55:54.387621Z",
     "start_time": "2021-08-13T19:55:53.211535Z"
    }
   },
   "outputs": [],
   "source": [
    "df_PG13_2014  = getdffromUrl(buildurl('PG-13','.05','400','2014','2014'))"
   ]
  },
  {
   "cell_type": "code",
   "execution_count": 50,
   "metadata": {
    "ExecuteTime": {
     "end_time": "2021-08-13T19:55:56.818091Z",
     "start_time": "2021-08-13T19:55:55.633203Z"
    }
   },
   "outputs": [],
   "source": [
    "df_PG13_2015  = getdffromUrl(buildurl('PG-13','.05','400','2015','2015'))"
   ]
  },
  {
   "cell_type": "code",
   "execution_count": 51,
   "metadata": {
    "ExecuteTime": {
     "end_time": "2021-08-13T19:55:59.492564Z",
     "start_time": "2021-08-13T19:55:58.210201Z"
    }
   },
   "outputs": [],
   "source": [
    "df_PG13_2016  = getdffromUrl(buildurl('PG-13','.05','400','2016','2016'))"
   ]
  },
  {
   "cell_type": "code",
   "execution_count": 52,
   "metadata": {
    "ExecuteTime": {
     "end_time": "2021-08-13T19:56:01.988850Z",
     "start_time": "2021-08-13T19:56:00.812759Z"
    }
   },
   "outputs": [],
   "source": [
    "df_PG13_2017  = getdffromUrl(buildurl('PG-13','.05','400','2017','2017'))"
   ]
  },
  {
   "cell_type": "code",
   "execution_count": 53,
   "metadata": {
    "ExecuteTime": {
     "end_time": "2021-08-13T19:56:04.340304Z",
     "start_time": "2021-08-13T19:56:03.213488Z"
    }
   },
   "outputs": [],
   "source": [
    "df_PG13_2018  = getdffromUrl(buildurl('PG-13','.05','400','2018','2018'))"
   ]
  },
  {
   "cell_type": "code",
   "execution_count": 54,
   "metadata": {
    "ExecuteTime": {
     "end_time": "2021-08-13T19:56:06.927088Z",
     "start_time": "2021-08-13T19:56:05.635104Z"
    }
   },
   "outputs": [],
   "source": [
    "df_PG13_2019  = getdffromUrl(buildurl('PG-13','.05','400','2019','2019'))"
   ]
  },
  {
   "cell_type": "code",
   "execution_count": 55,
   "metadata": {
    "ExecuteTime": {
     "end_time": "2021-08-13T19:56:10.520132Z",
     "start_time": "2021-08-13T19:56:09.323299Z"
    }
   },
   "outputs": [],
   "source": [
    "df_PG13_2020  = getdffromUrl(buildurl('PG-13','.05','400','2020','2020'))"
   ]
  },
  {
   "cell_type": "code",
   "execution_count": 56,
   "metadata": {
    "ExecuteTime": {
     "end_time": "2021-08-13T19:56:13.142015Z",
     "start_time": "2021-08-13T19:56:11.988037Z"
    }
   },
   "outputs": [],
   "source": [
    "df_PG13_2021  = getdffromUrl(buildurl('PG-13','.05','400','2021','2021'))"
   ]
  },
  {
   "cell_type": "code",
   "execution_count": 57,
   "metadata": {
    "ExecuteTime": {
     "end_time": "2021-08-13T19:56:16.174417Z",
     "start_time": "2021-08-13T19:56:15.054016Z"
    }
   },
   "outputs": [],
   "source": [
    "df_R_2020  = getdffromUrl(buildurl('R','.05','400','2020','2020'))"
   ]
  },
  {
   "cell_type": "code",
   "execution_count": 58,
   "metadata": {
    "ExecuteTime": {
     "end_time": "2021-08-13T19:56:18.842053Z",
     "start_time": "2021-08-13T19:56:17.753474Z"
    }
   },
   "outputs": [],
   "source": [
    "df_R_2021  = getdffromUrl(buildurl('R','.05','400','2021','2021'))"
   ]
  },
  {
   "cell_type": "code",
   "execution_count": 59,
   "metadata": {
    "ExecuteTime": {
     "end_time": "2021-08-13T19:56:21.798336Z",
     "start_time": "2021-08-13T19:56:20.557740Z"
    }
   },
   "outputs": [],
   "source": [
    "df_R_2019  = getdffromUrl(buildurl('R','.05','400','2019','2019'))"
   ]
  },
  {
   "cell_type": "code",
   "execution_count": 60,
   "metadata": {
    "ExecuteTime": {
     "end_time": "2021-08-13T19:56:24.750504Z",
     "start_time": "2021-08-13T19:56:23.529173Z"
    }
   },
   "outputs": [],
   "source": [
    "df_R_2018  = getdffromUrl(buildurl('R','.05','400','2018','2018'))"
   ]
  },
  {
   "cell_type": "code",
   "execution_count": 61,
   "metadata": {
    "ExecuteTime": {
     "end_time": "2021-08-13T19:56:28.199862Z",
     "start_time": "2021-08-13T19:56:26.948239Z"
    }
   },
   "outputs": [],
   "source": [
    "df_R_2017  = getdffromUrl(buildurl('R','.05','400','2017','2017'))"
   ]
  },
  {
   "cell_type": "code",
   "execution_count": 83,
   "metadata": {
    "ExecuteTime": {
     "end_time": "2021-08-13T19:59:39.208352Z",
     "start_time": "2021-08-13T19:59:36.758464Z"
    }
   },
   "outputs": [],
   "source": [
    "df_R_2016_1  = getdffromUrl(buildurl('R','.05','30','2016','2016'))"
   ]
  },
  {
   "cell_type": "code",
   "execution_count": null,
   "metadata": {
    "ExecuteTime": {
     "end_time": "2021-08-13T19:56:33.325962Z",
     "start_time": "2021-08-13T19:56:33.300966Z"
    }
   },
   "outputs": [],
   "source": []
  },
  {
   "cell_type": "code",
   "execution_count": 82,
   "metadata": {
    "ExecuteTime": {
     "end_time": "2021-08-13T19:59:34.126158Z",
     "start_time": "2021-08-13T19:59:33.322350Z"
    }
   },
   "outputs": [],
   "source": [
    "df_R_2016_2  = getdffromUrl(buildurl('R','30.01','200','2016','2016'))"
   ]
  },
  {
   "cell_type": "code",
   "execution_count": 80,
   "metadata": {
    "ExecuteTime": {
     "end_time": "2021-08-13T19:59:26.092835Z",
     "start_time": "2021-08-13T19:59:23.674294Z"
    }
   },
   "outputs": [],
   "source": [
    "df_R_2015_1  = getdffromUrl(buildurl('R','.05','30','2015','2015'))"
   ]
  },
  {
   "cell_type": "code",
   "execution_count": 79,
   "metadata": {
    "ExecuteTime": {
     "end_time": "2021-08-13T19:59:21.058029Z",
     "start_time": "2021-08-13T19:59:19.857957Z"
    }
   },
   "outputs": [
    {
     "data": {
      "text/plain": [
       "23"
      ]
     },
     "execution_count": 79,
     "metadata": {},
     "output_type": "execute_result"
    }
   ],
   "source": [
    "df_R_2015_2  = getdffromUrl(buildurl('R','30.01','400','2015','2015'))\n",
    "len(df_R_2015_2)"
   ]
  },
  {
   "cell_type": "code",
   "execution_count": 78,
   "metadata": {
    "ExecuteTime": {
     "end_time": "2021-08-13T19:59:15.403747Z",
     "start_time": "2021-08-13T19:59:14.218115Z"
    }
   },
   "outputs": [],
   "source": [
    "df_R_2014_2  = getdffromUrl(buildurl('R','30.01','400','2014','2014'))"
   ]
  },
  {
   "cell_type": "code",
   "execution_count": 77,
   "metadata": {
    "ExecuteTime": {
     "end_time": "2021-08-13T19:59:09.901127Z",
     "start_time": "2021-08-13T19:59:08.495140Z"
    }
   },
   "outputs": [],
   "source": [
    "df_R_2014_1  = getdffromUrl(buildurl('R','.05','30','2014','2014'))"
   ]
  },
  {
   "cell_type": "code",
   "execution_count": 76,
   "metadata": {
    "ExecuteTime": {
     "end_time": "2021-08-13T19:59:03.733311Z",
     "start_time": "2021-08-13T19:59:02.407812Z"
    }
   },
   "outputs": [
    {
     "data": {
      "text/plain": [
       "81"
      ]
     },
     "execution_count": 76,
     "metadata": {},
     "output_type": "execute_result"
    }
   ],
   "source": [
    "df_R_2013_1  = getdffromUrl(buildurl('R','.05','30','2013','2013'))\n",
    "len(df_R_2013_1)"
   ]
  },
  {
   "cell_type": "code",
   "execution_count": 75,
   "metadata": {
    "ExecuteTime": {
     "end_time": "2021-08-13T19:58:59.524813Z",
     "start_time": "2021-08-13T19:58:58.162449Z"
    }
   },
   "outputs": [
    {
     "data": {
      "text/plain": [
       "24"
      ]
     },
     "execution_count": 75,
     "metadata": {},
     "output_type": "execute_result"
    }
   ],
   "source": [
    "df_R_2013_2  = getdffromUrl(buildurl('R','30.01','400','2013','2013'))\n",
    "len(df_R_2013_2)"
   ]
  },
  {
   "cell_type": "code",
   "execution_count": 74,
   "metadata": {
    "ExecuteTime": {
     "end_time": "2021-08-13T19:58:55.834458Z",
     "start_time": "2021-08-13T19:58:54.480339Z"
    }
   },
   "outputs": [
    {
     "data": {
      "text/plain": [
       "75"
      ]
     },
     "execution_count": 74,
     "metadata": {},
     "output_type": "execute_result"
    }
   ],
   "source": [
    "df_R_2012_1  = getdffromUrl(buildurl('R','.05','30','2012','2012'))\n",
    "len(df_R_2012_1)"
   ]
  },
  {
   "cell_type": "code",
   "execution_count": 73,
   "metadata": {
    "ExecuteTime": {
     "end_time": "2021-08-13T19:58:52.298034Z",
     "start_time": "2021-08-13T19:58:51.094560Z"
    }
   },
   "outputs": [
    {
     "data": {
      "text/plain": [
       "29"
      ]
     },
     "execution_count": 73,
     "metadata": {},
     "output_type": "execute_result"
    }
   ],
   "source": [
    "df_R_2012_2  = getdffromUrl(buildurl('R','30.01','400','2012','2012'))\n",
    "len(df_R_2012_2)"
   ]
  },
  {
   "cell_type": "code",
   "execution_count": 71,
   "metadata": {
    "ExecuteTime": {
     "end_time": "2021-08-13T19:57:57.225833Z",
     "start_time": "2021-08-13T19:57:55.754729Z"
    }
   },
   "outputs": [
    {
     "data": {
      "text/plain": [
       "85"
      ]
     },
     "execution_count": 71,
     "metadata": {},
     "output_type": "execute_result"
    }
   ],
   "source": [
    "df_R_2011_1  = getdffromUrl(buildurl('R','.05','30','2011','2011'))\n",
    "len(df_R_2011_1)"
   ]
  },
  {
   "cell_type": "code",
   "execution_count": 64,
   "metadata": {
    "ExecuteTime": {
     "end_time": "2021-08-13T19:56:36.867654Z",
     "start_time": "2021-08-13T19:56:35.718327Z"
    }
   },
   "outputs": [
    {
     "data": {
      "text/plain": [
       "23"
      ]
     },
     "execution_count": 64,
     "metadata": {},
     "output_type": "execute_result"
    }
   ],
   "source": [
    "df_R_2011_2  = getdffromUrl(buildurl('R','30.01','400','2011','2011'))\n",
    "len(df_R_2011_2)"
   ]
  },
  {
   "cell_type": "code",
   "execution_count": 65,
   "metadata": {
    "ExecuteTime": {
     "end_time": "2021-08-13T19:56:39.998638Z",
     "start_time": "2021-08-13T19:56:38.745243Z"
    }
   },
   "outputs": [
    {
     "data": {
      "text/plain": [
       "99"
      ]
     },
     "execution_count": 65,
     "metadata": {},
     "output_type": "execute_result"
    }
   ],
   "source": [
    "df_R_2010_1  = getdffromUrl(buildurl('R','.05','30','2010','2010'))\n",
    "len(df_R_2010_1)"
   ]
  },
  {
   "cell_type": "code",
   "execution_count": 66,
   "metadata": {
    "ExecuteTime": {
     "end_time": "2021-08-13T19:56:43.371403Z",
     "start_time": "2021-08-13T19:56:41.946929Z"
    }
   },
   "outputs": [
    {
     "data": {
      "text/plain": [
       "22"
      ]
     },
     "execution_count": 66,
     "metadata": {},
     "output_type": "execute_result"
    }
   ],
   "source": [
    "df_R_2010_2  = getdffromUrl(buildurl('R','30.01','400','2010','2010'))\n",
    "len(df_R_2010_2)"
   ]
  },
  {
   "cell_type": "code",
   "execution_count": 67,
   "metadata": {
    "ExecuteTime": {
     "end_time": "2021-08-13T19:56:45.531237Z",
     "start_time": "2021-08-13T19:56:45.525694Z"
    }
   },
   "outputs": [],
   "source": [
    "df_all = pd.DataFrame()"
   ]
  },
  {
   "cell_type": "code",
   "execution_count": 68,
   "metadata": {
    "ExecuteTime": {
     "end_time": "2021-08-13T19:56:47.389474Z",
     "start_time": "2021-08-13T19:56:47.383469Z"
    }
   },
   "outputs": [],
   "source": [
    "df_all = df_all.append(df_G,ignore_index=True)"
   ]
  },
  {
   "cell_type": "code",
   "execution_count": 84,
   "metadata": {
    "ExecuteTime": {
     "end_time": "2021-08-13T19:59:51.262222Z",
     "start_time": "2021-08-13T19:59:51.090223Z"
    }
   },
   "outputs": [],
   "source": [
    "df_all = df_all.append(df_PG_to2011,ignore_index=True)\n",
    "df_all = df_all.append(df_PG_to2012,ignore_index=True)\n",
    "df_all = df_all.append(df_PG_to2013,ignore_index=True)\n",
    "df_all = df_all.append(df_PG_to2014,ignore_index=True)\n",
    "df_all = df_all.append(df_PG_to2015,ignore_index=True)\n",
    "df_all = df_all.append(df_PG_to2016,ignore_index=True)\n",
    "df_all = df_all.append(df_PG_to2017,ignore_index=True)\n",
    "df_all = df_all.append(df_PG_to2018,ignore_index=True)\n",
    "df_all = df_all.append(df_PG_to2019,ignore_index=True)\n",
    "df_all = df_all.append(df_PG_to2020,ignore_index=True)\n",
    "df_all = df_all.append(df_PG_to2021,ignore_index=True)\n",
    "\n",
    "df_all = df_all.append(df_PG13_2010,ignore_index=True)\n",
    "df_all = df_all.append(df_PG13_2011,ignore_index=True)\n",
    "df_all = df_all.append(df_PG13_2012,ignore_index=True)\n",
    "df_all = df_all.append(df_PG13_2013,ignore_index=True)\n",
    "df_all = df_all.append(df_PG13_2014,ignore_index=True)\n",
    "df_all = df_all.append(df_PG13_2015,ignore_index=True)\n",
    "df_all = df_all.append(df_PG13_2016,ignore_index=True)\n",
    "df_all = df_all.append(df_PG13_2017,ignore_index=True)\n",
    "df_all = df_all.append(df_PG13_2018,ignore_index=True)\n",
    "df_all = df_all.append(df_PG13_2019,ignore_index=True)\n",
    "df_all = df_all.append(df_PG13_2020,ignore_index=True)\n",
    "df_all = df_all.append(df_PG13_2021,ignore_index=True)\n",
    "    \n",
    "df_all = df_all.append(df_R_2010_1,ignore_index=True)\n",
    "df_all = df_all.append(df_R_2010_2,ignore_index=True)\n",
    "df_all = df_all.append(df_R_2011_1,ignore_index=True)\n",
    "df_all = df_all.append(df_R_2011_2,ignore_index=True)\n",
    "df_all = df_all.append(df_R_2012_1,ignore_index=True)\n",
    "df_all = df_all.append(df_R_2012_2,ignore_index=True)\n",
    "df_all = df_all.append(df_R_2013_1,ignore_index=True)\n",
    "df_all = df_all.append(df_R_2013_2,ignore_index=True)\n",
    "df_all = df_all.append(df_R_2014_1,ignore_index=True)\n",
    "df_all = df_all.append(df_R_2014_2,ignore_index=True)\n",
    "df_all = df_all.append(df_R_2015_1,ignore_index=True)\n",
    "df_all = df_all.append(df_R_2015_2,ignore_index=True)\n",
    "df_all = df_all.append(df_R_2016_1,ignore_index=True)\n",
    "df_all = df_all.append(df_R_2016_2,ignore_index=True)\n",
    "df_all = df_all.append(df_R_2017,ignore_index=True)\n",
    "df_all = df_all.append(df_R_2018,ignore_index=True)\n",
    "df_all = df_all.append(df_R_2019,ignore_index=True)\n",
    "df_all = df_all.append(df_R_2020,ignore_index=True)\n",
    "df_all = df_all.append(df_R_2021,ignore_index=True)"
   ]
  },
  {
   "cell_type": "code",
   "execution_count": 85,
   "metadata": {
    "ExecuteTime": {
     "end_time": "2021-08-13T19:59:56.307012Z",
     "start_time": "2021-08-13T19:59:55.988091Z"
    }
   },
   "outputs": [],
   "source": [
    "df_all.to_csv('./data/tn_moviesource2.csv', mode='a', header=True, encoding='utf-8')"
   ]
  },
  {
   "cell_type": "code",
   "execution_count": 17,
   "metadata": {
    "ExecuteTime": {
     "end_time": "2021-08-12T21:03:56.270709Z",
     "start_time": "2021-08-12T21:03:56.258734Z"
    },
    "scrolled": true
   },
   "outputs": [],
   "source": []
  },
  {
   "cell_type": "code",
   "execution_count": 183,
   "metadata": {
    "ExecuteTime": {
     "end_time": "2021-08-12T06:24:21.600357Z",
     "start_time": "2021-08-12T06:24:20.261524Z"
    }
   },
   "outputs": [],
   "source": []
  },
  {
   "cell_type": "code",
   "execution_count": 79,
   "metadata": {
    "ExecuteTime": {
     "end_time": "2021-08-12T21:30:33.839926Z",
     "start_time": "2021-08-12T21:30:33.792927Z"
    }
   },
   "outputs": [],
   "source": []
  },
  {
   "cell_type": "code",
   "execution_count": 81,
   "metadata": {
    "ExecuteTime": {
     "end_time": "2021-08-12T21:36:51.880614Z",
     "start_time": "2021-08-12T21:36:51.800608Z"
    }
   },
   "outputs": [
    {
     "data": {
      "text/html": [
       "<div>\n",
       "<style scoped>\n",
       "    .dataframe tbody tr th:only-of-type {\n",
       "        vertical-align: middle;\n",
       "    }\n",
       "\n",
       "    .dataframe tbody tr th {\n",
       "        vertical-align: top;\n",
       "    }\n",
       "\n",
       "    .dataframe thead th {\n",
       "        text-align: right;\n",
       "    }\n",
       "</style>\n",
       "<table border=\"1\" class=\"dataframe\">\n",
       "  <thead>\n",
       "    <tr style=\"text-align: right;\">\n",
       "      <th></th>\n",
       "      <th>Unnamed: 0</th>\n",
       "      <th>Released</th>\n",
       "      <th>ReleasedWorldwide</th>\n",
       "      <th>Title</th>\n",
       "      <th>TheatricalDistributor</th>\n",
       "      <th>Genre</th>\n",
       "      <th>Source</th>\n",
       "      <th>ProductionMethod</th>\n",
       "      <th>CreativeType</th>\n",
       "      <th>ProductionBudget</th>\n",
       "      <th>Opening WeekendTheaters</th>\n",
       "      <th>MaximumTheaters</th>\n",
       "      <th>TheatricalEngagements</th>\n",
       "      <th>Opening WeekendRevenue</th>\n",
       "      <th>DomesticBox Office</th>\n",
       "      <th>Infl. Adj. Dom.Box Office</th>\n",
       "      <th>InternationalBox Office</th>\n",
       "      <th>WorldwideBox Office</th>\n",
       "    </tr>\n",
       "  </thead>\n",
       "  <tbody>\n",
       "    <tr>\n",
       "      <th>0</th>\n",
       "      <td>0</td>\n",
       "      <td>2019</td>\n",
       "      <td>2019</td>\n",
       "      <td>Toy Story 4</td>\n",
       "      <td>Walt Disney</td>\n",
       "      <td>Adventure</td>\n",
       "      <td>Original Screenplay</td>\n",
       "      <td>Digital Animation</td>\n",
       "      <td>Kids Fiction</td>\n",
       "      <td>$200,000,000</td>\n",
       "      <td>4,575</td>\n",
       "      <td>4,575</td>\n",
       "      <td>38,194</td>\n",
       "      <td>$120,908,065</td>\n",
       "      <td>$434,038,008</td>\n",
       "      <td>$434,038,008</td>\n",
       "      <td>$639,042,321</td>\n",
       "      <td>$1,073,080,329</td>\n",
       "    </tr>\n",
       "    <tr>\n",
       "      <th>1</th>\n",
       "      <td>1</td>\n",
       "      <td>2010</td>\n",
       "      <td>2010</td>\n",
       "      <td>Toy Story 3</td>\n",
       "      <td>Walt Disney</td>\n",
       "      <td>Adventure</td>\n",
       "      <td>Original Screenplay</td>\n",
       "      <td>Digital Animation</td>\n",
       "      <td>Kids Fiction</td>\n",
       "      <td>$200,000,000</td>\n",
       "      <td>4,028</td>\n",
       "      <td>4,028</td>\n",
       "      <td>33,699</td>\n",
       "      <td>$110,307,189</td>\n",
       "      <td>$415,004,880</td>\n",
       "      <td>$481,805,411</td>\n",
       "      <td>$653,874,642</td>\n",
       "      <td>$1,068,879,522</td>\n",
       "    </tr>\n",
       "    <tr>\n",
       "      <th>2</th>\n",
       "      <td>2</td>\n",
       "      <td>2013</td>\n",
       "      <td>2013</td>\n",
       "      <td>Monsters University</td>\n",
       "      <td>Walt Disney</td>\n",
       "      <td>Adventure</td>\n",
       "      <td>Original Screenplay</td>\n",
       "      <td>Digital Animation</td>\n",
       "      <td>Kids Fiction</td>\n",
       "      <td>$200,000,000</td>\n",
       "      <td>4,004</td>\n",
       "      <td>4,004</td>\n",
       "      <td>24,656</td>\n",
       "      <td>$82,429,469</td>\n",
       "      <td>$268,488,329</td>\n",
       "      <td>$302,503,449</td>\n",
       "      <td>$474,967,481</td>\n",
       "      <td>$743,455,810</td>\n",
       "    </tr>\n",
       "    <tr>\n",
       "      <th>3</th>\n",
       "      <td>3</td>\n",
       "      <td>2011</td>\n",
       "      <td>2011</td>\n",
       "      <td>Cars 2</td>\n",
       "      <td>Walt Disney</td>\n",
       "      <td>Adventure</td>\n",
       "      <td>Original Screenplay</td>\n",
       "      <td>Digital Animation</td>\n",
       "      <td>Kids Fiction</td>\n",
       "      <td>$200,000,000</td>\n",
       "      <td>4,115</td>\n",
       "      <td>4,115</td>\n",
       "      <td>25,790</td>\n",
       "      <td>$66,135,507</td>\n",
       "      <td>$191,450,875</td>\n",
       "      <td>$221,146,280</td>\n",
       "      <td>$368,704,508</td>\n",
       "      <td>$560,155,383</td>\n",
       "    </tr>\n",
       "    <tr>\n",
       "      <th>4</th>\n",
       "      <td>4</td>\n",
       "      <td>2017</td>\n",
       "      <td>2017</td>\n",
       "      <td>Cars 3</td>\n",
       "      <td>Walt Disney</td>\n",
       "      <td>Adventure</td>\n",
       "      <td>Original Screenplay</td>\n",
       "      <td>Digital Animation</td>\n",
       "      <td>Kids Fiction</td>\n",
       "      <td>$175,000,000</td>\n",
       "      <td>4,256</td>\n",
       "      <td>4,256</td>\n",
       "      <td>24,083</td>\n",
       "      <td>$53,688,680</td>\n",
       "      <td>$152,901,115</td>\n",
       "      <td>$156,139,821</td>\n",
       "      <td>$230,640,254</td>\n",
       "      <td>$383,541,369</td>\n",
       "    </tr>\n",
       "    <tr>\n",
       "      <th>...</th>\n",
       "      <td>...</td>\n",
       "      <td>...</td>\n",
       "      <td>...</td>\n",
       "      <td>...</td>\n",
       "      <td>...</td>\n",
       "      <td>...</td>\n",
       "      <td>...</td>\n",
       "      <td>...</td>\n",
       "      <td>...</td>\n",
       "      <td>...</td>\n",
       "      <td>...</td>\n",
       "      <td>...</td>\n",
       "      <td>...</td>\n",
       "      <td>...</td>\n",
       "      <td>...</td>\n",
       "      <td>...</td>\n",
       "      <td>...</td>\n",
       "      <td>...</td>\n",
       "    </tr>\n",
       "    <tr>\n",
       "      <th>2833</th>\n",
       "      <td>2833</td>\n",
       "      <td>2021</td>\n",
       "      <td>2021</td>\n",
       "      <td>Our Friend</td>\n",
       "      <td>Roadside Attractions</td>\n",
       "      <td>Drama</td>\n",
       "      <td>Based on Factual Book/Article</td>\n",
       "      <td>Live Action</td>\n",
       "      <td>Dramatization</td>\n",
       "      <td>$10,000,000</td>\n",
       "      <td>543</td>\n",
       "      <td>818</td>\n",
       "      <td>2,405</td>\n",
       "      <td>$250,000</td>\n",
       "      <td>$657,351</td>\n",
       "      <td>$657,351</td>\n",
       "      <td>$56,744</td>\n",
       "      <td>$714,095</td>\n",
       "    </tr>\n",
       "    <tr>\n",
       "      <th>2834</th>\n",
       "      <td>2834</td>\n",
       "      <td>2021</td>\n",
       "      <td>2021</td>\n",
       "      <td>Malcolm &amp; Marie</td>\n",
       "      <td>NaN</td>\n",
       "      <td>Drama</td>\n",
       "      <td>Original Screenplay</td>\n",
       "      <td>Live Action</td>\n",
       "      <td>Contemporary Fiction</td>\n",
       "      <td>$2,500,000</td>\n",
       "      <td>0</td>\n",
       "      <td>0</td>\n",
       "      <td>0</td>\n",
       "      <td>$0</td>\n",
       "      <td>$0</td>\n",
       "      <td>$0</td>\n",
       "      <td>$0</td>\n",
       "      <td>$0</td>\n",
       "    </tr>\n",
       "    <tr>\n",
       "      <th>2835</th>\n",
       "      <td>2835</td>\n",
       "      <td>2021</td>\n",
       "      <td>2021</td>\n",
       "      <td>Army of the Dead</td>\n",
       "      <td>Netflix</td>\n",
       "      <td>Action</td>\n",
       "      <td>Original Screenplay</td>\n",
       "      <td>Live Action</td>\n",
       "      <td>Science Fiction</td>\n",
       "      <td>$90,000,000</td>\n",
       "      <td>0</td>\n",
       "      <td>0</td>\n",
       "      <td>0</td>\n",
       "      <td>$0</td>\n",
       "      <td>$0</td>\n",
       "      <td>$0</td>\n",
       "      <td>$0</td>\n",
       "      <td>$0</td>\n",
       "    </tr>\n",
       "    <tr>\n",
       "      <th>2836</th>\n",
       "      <td>2836</td>\n",
       "      <td>2021</td>\n",
       "      <td>2021</td>\n",
       "      <td>Midnight in the Switchgrass</td>\n",
       "      <td>Lionsgate</td>\n",
       "      <td>Thriller/Suspense</td>\n",
       "      <td>Based on Real Life Events</td>\n",
       "      <td>Live Action</td>\n",
       "      <td>Dramatization</td>\n",
       "      <td>$15,000,000</td>\n",
       "      <td>0</td>\n",
       "      <td>0</td>\n",
       "      <td>0</td>\n",
       "      <td>$0</td>\n",
       "      <td>$0</td>\n",
       "      <td>$0</td>\n",
       "      <td>$36,248</td>\n",
       "      <td>$36,248</td>\n",
       "    </tr>\n",
       "    <tr>\n",
       "      <th>2837</th>\n",
       "      <td>2837</td>\n",
       "      <td>2021</td>\n",
       "      <td>2021</td>\n",
       "      <td>Annette</td>\n",
       "      <td>Amazon Studios</td>\n",
       "      <td>Musical</td>\n",
       "      <td>Original Screenplay</td>\n",
       "      <td>Live Action</td>\n",
       "      <td>Contemporary Fiction</td>\n",
       "      <td>$15,500,000</td>\n",
       "      <td>0</td>\n",
       "      <td>0</td>\n",
       "      <td>0</td>\n",
       "      <td>$0</td>\n",
       "      <td>$0</td>\n",
       "      <td>$0</td>\n",
       "      <td>$2,135,397</td>\n",
       "      <td>$2,135,397</td>\n",
       "    </tr>\n",
       "  </tbody>\n",
       "</table>\n",
       "<p>2838 rows × 18 columns</p>\n",
       "</div>"
      ],
      "text/plain": [
       "      Unnamed: 0  Released  ReleasedWorldwide                        Title  \\\n",
       "0              0      2019               2019                  Toy Story 4   \n",
       "1              1      2010               2010                  Toy Story 3   \n",
       "2              2      2013               2013          Monsters University   \n",
       "3              3      2011               2011                       Cars 2   \n",
       "4              4      2017               2017                       Cars 3   \n",
       "...          ...       ...                ...                          ...   \n",
       "2833        2833      2021               2021                   Our Friend   \n",
       "2834        2834      2021               2021              Malcolm & Marie   \n",
       "2835        2835      2021               2021             Army of the Dead   \n",
       "2836        2836      2021               2021  Midnight in the Switchgrass   \n",
       "2837        2837      2021               2021                      Annette   \n",
       "\n",
       "     TheatricalDistributor              Genre                         Source  \\\n",
       "0              Walt Disney          Adventure            Original Screenplay   \n",
       "1              Walt Disney          Adventure            Original Screenplay   \n",
       "2              Walt Disney          Adventure            Original Screenplay   \n",
       "3              Walt Disney          Adventure            Original Screenplay   \n",
       "4              Walt Disney          Adventure            Original Screenplay   \n",
       "...                    ...                ...                            ...   \n",
       "2833  Roadside Attractions              Drama  Based on Factual Book/Article   \n",
       "2834                   NaN              Drama            Original Screenplay   \n",
       "2835               Netflix             Action            Original Screenplay   \n",
       "2836             Lionsgate  Thriller/Suspense      Based on Real Life Events   \n",
       "2837        Amazon Studios            Musical            Original Screenplay   \n",
       "\n",
       "       ProductionMethod          CreativeType ProductionBudget  \\\n",
       "0     Digital Animation          Kids Fiction     $200,000,000   \n",
       "1     Digital Animation          Kids Fiction     $200,000,000   \n",
       "2     Digital Animation          Kids Fiction     $200,000,000   \n",
       "3     Digital Animation          Kids Fiction     $200,000,000   \n",
       "4     Digital Animation          Kids Fiction     $175,000,000   \n",
       "...                 ...                   ...              ...   \n",
       "2833        Live Action         Dramatization      $10,000,000   \n",
       "2834        Live Action  Contemporary Fiction       $2,500,000   \n",
       "2835        Live Action       Science Fiction      $90,000,000   \n",
       "2836        Live Action         Dramatization      $15,000,000   \n",
       "2837        Live Action  Contemporary Fiction      $15,500,000   \n",
       "\n",
       "     Opening WeekendTheaters MaximumTheaters TheatricalEngagements  \\\n",
       "0                      4,575           4,575                38,194   \n",
       "1                      4,028           4,028                33,699   \n",
       "2                      4,004           4,004                24,656   \n",
       "3                      4,115           4,115                25,790   \n",
       "4                      4,256           4,256                24,083   \n",
       "...                      ...             ...                   ...   \n",
       "2833                     543             818                 2,405   \n",
       "2834                       0               0                     0   \n",
       "2835                       0               0                     0   \n",
       "2836                       0               0                     0   \n",
       "2837                       0               0                     0   \n",
       "\n",
       "     Opening WeekendRevenue DomesticBox Office Infl. Adj. Dom.Box Office  \\\n",
       "0              $120,908,065       $434,038,008              $434,038,008   \n",
       "1              $110,307,189       $415,004,880              $481,805,411   \n",
       "2               $82,429,469       $268,488,329              $302,503,449   \n",
       "3               $66,135,507       $191,450,875              $221,146,280   \n",
       "4               $53,688,680       $152,901,115              $156,139,821   \n",
       "...                     ...                ...                       ...   \n",
       "2833               $250,000           $657,351                  $657,351   \n",
       "2834                     $0                 $0                        $0   \n",
       "2835                     $0                 $0                        $0   \n",
       "2836                     $0                 $0                        $0   \n",
       "2837                     $0                 $0                        $0   \n",
       "\n",
       "     InternationalBox Office WorldwideBox Office  \n",
       "0               $639,042,321      $1,073,080,329  \n",
       "1               $653,874,642      $1,068,879,522  \n",
       "2               $474,967,481        $743,455,810  \n",
       "3               $368,704,508        $560,155,383  \n",
       "4               $230,640,254        $383,541,369  \n",
       "...                      ...                 ...  \n",
       "2833                 $56,744            $714,095  \n",
       "2834                      $0                  $0  \n",
       "2835                      $0                  $0  \n",
       "2836                 $36,248             $36,248  \n",
       "2837              $2,135,397          $2,135,397  \n",
       "\n",
       "[2838 rows x 18 columns]"
      ]
     },
     "execution_count": 81,
     "metadata": {},
     "output_type": "execute_result"
    }
   ],
   "source": [
    "tn_df"
   ]
  },
  {
   "cell_type": "code",
   "execution_count": 576,
   "metadata": {
    "ExecuteTime": {
     "end_time": "2021-05-02T06:43:23.638347Z",
     "start_time": "2021-05-02T06:43:23.633325Z"
    }
   },
   "outputs": [],
   "source": [
    "df_r_rated_2018.to_csv('../data/tn_mpaa_ratings.csv', mode='a', header=False)"
   ]
  },
  {
   "cell_type": "markdown",
   "metadata": {},
   "source": [
    "#The Numbers HOLDIng Cell for Initial URLS\n",
    "G  2010-2018 'https://www.the-numbers.com/movies/report/All/All/All/All/G-(US)/All/All/All/All/2/65/2010/2019/None/None/None/None/None/None?show-release-date=On&view-order-by=domestic-box-office&view-order-direction=desc&show-production-budget=On&show-worldwide-box-office=On'\n",
    "PG 2010-2014 'https://www.the-numbers.com/movies/report/All/All/All/All/PG-(US)/All/All/All/All/2/65/2010/2014/None/None/None/None/None/None?show-release-date=On&view-order-by=domestic-box-office&view-order-direction=desc&show-production-budget=On&show-worldwide-box-office=On'\n",
    "PG 2015-2019 'https://www.the-numbers.com/movies/report/All/All/All/All/PG-(US)/All/All/All/All/2/65/2015/2019/None/None/None/None/None/None?show-release-date=On&view-order-by=domestic-box-office&view-order-direction=desc&show-production-budget=On&show-worldwide-box-office=On'\n",
    "\n",
    "PG-13 2010   'https://www.the-numbers.com/movies/report/All/All/All/All/PG-13-(US)/All/All/All/All/2/65/2010/2010/None/None/None/None/None/None?show-release-date=On&view-order-by=domestic-box-office&view-order-direction=desc&show-production-budget=On&show-worldwide-box-office=On'\n",
    "PG-13 2011   https://www.the-numbers.com/movies/report/All/All/All/All/PG-13-(US)/All/All/All/All/2/65/2011/2011/None/None/None/None/None/None?show-release-date=On&view-order-by=domestic-box-office&view-order-direction=desc&show-production-budget=On&show-domestic-box-office=On&show-international-box-office=On&show-worldwide-box-office=On&show-theatrical-distributor=On&show-genre=On&show-source=On\n",
    "PG-13 2012   https://www.the-numbers.com/movies/report/All/All/All/All/PG-13-(US)/All/All/All/All/2/65/2012/2012/None/None/None/None/None/None?show-release-date=On&view-order-by=domestic-box-office&view-order-direction=desc&show-production-budget=On&show-domestic-box-office=On&show-international-box-office=On&show-worldwide-box-office=On&show-theatrical-distributor=On&show-genre=On&show-source=On\n",
    "PG-13 2013\n",
    "PG-13 2014\n",
    "PG-13 2015\n",
    "PG-13 2016\n",
    "PG-13 2017\n",
    "PG-13 2018\n",
    "\n",
    "R 2010 2m-30 m  https://www.the-numbers.com/movies/report/All/All/All/All/R-(US)/All/All/All/All/2/30/2010/2010/None/None/None/None/None/None?show-release-date=On&view-order-by=domestic-box-office&view-order-direction=desc&show-production-budget=On&show-domestic-box-office=On&show-international-box-office=On&show-worldwide-box-office=On&show-theatrical-distributor=On&show-genre=On&show-source=On\n",
    "R 2010 31m-65m  https://www.the-numbers.com/movies/report/All/All/All/All/R-(US)/All/All/All/All/31/65/2010/2010/None/None/None/None/None/None?show-release-date=On&view-order-by=domestic-box-office&view-order-direction=desc&show-production-budget=On&show-domestic-box-office=On&show-international-box-office=On&show-worldwide-box-office=On&show-theatrical-distributor=On&show-genre=On&show-source=On\n",
    "R 2011\n",
    "R 2012\n",
    "R 2013\n",
    "R 2014\n",
    "R 2015\n",
    "R 2016\n",
    "R 2017\n",
    "R 2018 'https://www.the-numbers.com/movies/report/All/All/All/All/R-(US)/All/All/All/All/2/65/2018/2018/None/None/None/None/None/None?show-release-date=On&view-order-by=domestic-box-office&view-order-direction=desc&show-production-budget=On&show-worldwide-box-office=On'\n",
    "\n",
    "\n",
    "\n",
    "R 2018 https://www.the-numbers.com/movies/report/All/All/All/All/R-(US)/All/All/All/All/2/65/2018/2018/None/None/None/None/None/None?show-release-date=On&view-order-by=domestic-box-office&view-order-direction=desc&show-production-budget=On&show-domestic-box-office=On&show-international-box-office=On&show-worldwide-box-office=On&show-theatrical-distributor=On&show-genre=On&show-source=On\n",
    "\n",
    "url='https://www.the-numbers.com/movies/report/All/All/All/All/G-(US)/All/All/All/All/2/65/2010/2019/None/None/None/None/None/None?show-release-date=On&view-order-by=domestic-box-office&view-order-direction=desc&show-source=On'\n",
    "html_page = requests.get(url) # Make a get request to retrieve the page\n",
    "soup = BeautifulSoup(html_page.content, 'html.parser') # Pass the page contents to beautiful soup for parsing\n",
    "\n",
    "table_container = soup.find('div', id=\"page_filling_chart\")\n",
    "table_headers = table_container.findAll('th')\n",
    "table_rows = table_container.findAll('tr')"
   ]
  },
  {
   "cell_type": "code",
   "execution_count": null,
   "metadata": {},
   "outputs": [],
   "source": []
  }
 ],
 "metadata": {
  "kernelspec": {
   "display_name": "learn-env",
   "language": "python",
   "name": "learn-env"
  },
  "language_info": {
   "codemirror_mode": {
    "name": "ipython",
    "version": 3
   },
   "file_extension": ".py",
   "mimetype": "text/x-python",
   "name": "python",
   "nbconvert_exporter": "python",
   "pygments_lexer": "ipython3",
   "version": "3.8.5"
  },
  "toc": {
   "base_numbering": 1,
   "nav_menu": {},
   "number_sections": true,
   "sideBar": true,
   "skip_h1_title": false,
   "title_cell": "Table of Contents",
   "title_sidebar": "Contents",
   "toc_cell": false,
   "toc_position": {},
   "toc_section_display": true,
   "toc_window_display": false
  },
  "varInspector": {
   "cols": {
    "lenName": 16,
    "lenType": 16,
    "lenVar": 40
   },
   "kernels_config": {
    "python": {
     "delete_cmd_postfix": "",
     "delete_cmd_prefix": "del ",
     "library": "var_list.py",
     "varRefreshCmd": "print(var_dic_list())"
    },
    "r": {
     "delete_cmd_postfix": ") ",
     "delete_cmd_prefix": "rm(",
     "library": "var_list.r",
     "varRefreshCmd": "cat(var_dic_list()) "
    }
   },
   "types_to_exclude": [
    "module",
    "function",
    "builtin_function_or_method",
    "instance",
    "_Feature"
   ],
   "window_display": false
  }
 },
 "nbformat": 4,
 "nbformat_minor": 4
}
