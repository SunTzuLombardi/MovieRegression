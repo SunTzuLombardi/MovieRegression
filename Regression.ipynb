{
 "cells": [
  {
   "cell_type": "markdown",
   "metadata": {},
   "source": [
    "In This notebook, we will perform the Regression Analysis of the Movie data."
   ]
  },
  {
   "cell_type": "code",
   "execution_count": 497,
   "metadata": {
    "ExecuteTime": {
     "end_time": "2021-09-03T13:49:49.936911Z",
     "start_time": "2021-09-03T13:49:49.777805Z"
    }
   },
   "outputs": [],
   "source": [
    "import pandas as pd\n",
    "import numpy as np\n",
    "import matplotlib.pyplot as plt\n",
    "%matplotlib inline\n",
    "\n",
    "movies = pd.read_csv('./data/tn_moviesource2.csv', encoding='utf-8', index_col=0)"
   ]
  },
  {
   "cell_type": "code",
   "execution_count": 498,
   "metadata": {
    "ExecuteTime": {
     "end_time": "2021-09-03T13:49:51.999778Z",
     "start_time": "2021-09-03T13:49:51.993813Z"
    }
   },
   "outputs": [],
   "source": [
    "def clean_currency(x):\n",
    "    \"\"\" If the value is a string, then remove currency symbol and delimiters\n",
    "    otherwise, the value is numeric and can be converted\n",
    "    \"\"\"\n",
    "    if isinstance(x, str):\n",
    "        return(x.replace('$', '').replace(',', ''))\n",
    "    return(x)"
   ]
  },
  {
   "cell_type": "code",
   "execution_count": 499,
   "metadata": {
    "ExecuteTime": {
     "end_time": "2021-09-03T13:49:54.093013Z",
     "start_time": "2021-09-03T13:49:54.053033Z"
    }
   },
   "outputs": [],
   "source": [
    "colstoclean = ['ProductionBudget', 'Opening WeekendTheaters',\n",
    "       'MaximumTheaters', 'TheatricalEngagements', 'Opening WeekendRevenue',\n",
    "       'DomesticBox Office', 'Infl. Adj. Dom.Box Office',\n",
    "       'InternationalBox Office', 'WorldwideBox Office']\n",
    "for col in colstoclean:\n",
    "    movies[col] = movies[col].apply(clean_currency).astype('float')"
   ]
  },
  {
   "cell_type": "code",
   "execution_count": null,
   "metadata": {
    "ExecuteTime": {
     "end_time": "2021-08-31T13:26:07.349721Z",
     "start_time": "2021-08-31T13:26:07.298722Z"
    }
   },
   "outputs": [],
   "source": []
  },
  {
   "cell_type": "markdown",
   "metadata": {},
   "source": [
    "#Need to merge IMDB movie data with Actor Director influence\n",
    "#Need to merge Bass Model Coeffiecients with Movie data\n",
    "#Need to merge with IMDB movie data including actors and directors "
   ]
  },
  {
   "cell_type": "markdown",
   "metadata": {
    "ExecuteTime": {
     "end_time": "2021-08-20T10:24:21.646669Z",
     "start_time": "2021-08-20T10:24:21.572674Z"
    }
   },
   "source": [
    "## Merge IMDB movie data with Actor/Director influence"
   ]
  },
  {
   "cell_type": "code",
   "execution_count": 16,
   "metadata": {
    "ExecuteTime": {
     "end_time": "2021-08-31T13:31:27.303548Z",
     "start_time": "2021-08-31T13:31:26.662535Z"
    }
   },
   "outputs": [],
   "source": [
    "titleswprins_df = pd.read_csv('./data/titleswprins.csv', encoding='utf-8',index_col=0 )"
   ]
  },
  {
   "cell_type": "code",
   "execution_count": 32,
   "metadata": {
    "ExecuteTime": {
     "end_time": "2021-08-31T14:19:14.700654Z",
     "start_time": "2021-08-31T14:19:14.682665Z"
    }
   },
   "outputs": [],
   "source": [
    "act_actress_df = titleswprins_df[(titleswprins_df.category=='actor')  |  (titleswprins_df.category=='actress')]"
   ]
  },
  {
   "cell_type": "code",
   "execution_count": 33,
   "metadata": {
    "ExecuteTime": {
     "end_time": "2021-08-31T14:19:48.148786Z",
     "start_time": "2021-08-31T14:19:48.137791Z"
    }
   },
   "outputs": [],
   "source": [
    "director_df = titleswprins_df[(titleswprins_df.category=='director')]"
   ]
  },
  {
   "cell_type": "code",
   "execution_count": 35,
   "metadata": {
    "ExecuteTime": {
     "end_time": "2021-08-31T14:20:11.263612Z",
     "start_time": "2021-08-31T14:20:11.203586Z"
    }
   },
   "outputs": [
    {
     "data": {
      "text/plain": [
       "2015    326\n",
       "2016    284\n",
       "2011    282\n",
       "2013    264\n",
       "2012    258\n",
       "2017    254\n",
       "2014    251\n",
       "2010    246\n",
       "2018    217\n",
       "2019    211\n",
       "2020     80\n",
       "2021     34\n",
       "Name: Released, dtype: int64"
      ]
     },
     "execution_count": 35,
     "metadata": {},
     "output_type": "execute_result"
    }
   ],
   "source": [
    "director_df.Released.value_counts()"
   ]
  },
  {
   "cell_type": "code",
   "execution_count": 68,
   "metadata": {
    "ExecuteTime": {
     "end_time": "2021-08-31T23:38:18.360566Z",
     "start_time": "2021-08-31T23:38:17.288658Z"
    }
   },
   "outputs": [],
   "source": [
    "bigact_wicar_df = pd.read_csv('./data/bigactor_wicar.csv', encoding='utf-8',index_col=0 )"
   ]
  },
  {
   "cell_type": "code",
   "execution_count": 41,
   "metadata": {
    "ExecuteTime": {
     "end_time": "2021-08-31T14:46:10.105411Z",
     "start_time": "2021-08-31T14:46:09.981337Z"
    }
   },
   "outputs": [],
   "source": [
    "bigdir_wicar_df = pd.read_csv('./data/bigdir_wicar_df.csv', encoding='utf-8',index_col=0 )"
   ]
  },
  {
   "cell_type": "code",
   "execution_count": 707,
   "metadata": {
    "ExecuteTime": {
     "end_time": "2021-09-07T08:25:15.843908Z",
     "start_time": "2021-09-07T08:25:15.751911Z"
    }
   },
   "outputs": [
    {
     "data": {
      "text/html": [
       "<div>\n",
       "<style scoped>\n",
       "    .dataframe tbody tr th:only-of-type {\n",
       "        vertical-align: middle;\n",
       "    }\n",
       "\n",
       "    .dataframe tbody tr th {\n",
       "        vertical-align: top;\n",
       "    }\n",
       "\n",
       "    .dataframe thead th {\n",
       "        text-align: right;\n",
       "    }\n",
       "</style>\n",
       "<table border=\"1\" class=\"dataframe\">\n",
       "  <thead>\n",
       "    <tr style=\"text-align: right;\">\n",
       "      <th></th>\n",
       "      <th>index</th>\n",
       "      <th>mid</th>\n",
       "      <th>title</th>\n",
       "      <th>released</th>\n",
       "      <th>director</th>\n",
       "      <th>boxoffice</th>\n",
       "      <th>inf_adj_boxoffice</th>\n",
       "      <th>cr</th>\n",
       "      <th>wicar</th>\n",
       "    </tr>\n",
       "  </thead>\n",
       "  <tbody>\n",
       "    <tr>\n",
       "      <th>19879</th>\n",
       "      <td>1777</td>\n",
       "      <td>tt0082971</td>\n",
       "      <td>Raiders of the Lost Ark</td>\n",
       "      <td>06-12-1981</td>\n",
       "      <td>Steven Spielberg</td>\n",
       "      <td>$248,159,971</td>\n",
       "      <td>4.576070e+08</td>\n",
       "      <td>0</td>\n",
       "      <td>0.000000e+00</td>\n",
       "    </tr>\n",
       "    <tr>\n",
       "      <th>19880</th>\n",
       "      <td>280</td>\n",
       "      <td>tt0083866</td>\n",
       "      <td>E.T. the Extra-Terrestrial</td>\n",
       "      <td>06-11-1982</td>\n",
       "      <td>Steven Spielberg</td>\n",
       "      <td>$435,110,554</td>\n",
       "      <td>7.931630e+08</td>\n",
       "      <td>248159971</td>\n",
       "      <td>4.162135e+02</td>\n",
       "    </tr>\n",
       "    <tr>\n",
       "      <th>19881</th>\n",
       "      <td>2894</td>\n",
       "      <td>tt0087469</td>\n",
       "      <td>Indiana Jones and the Temple of Doom</td>\n",
       "      <td>05-23-1984</td>\n",
       "      <td>Steven Spielberg</td>\n",
       "      <td>$179,870,271</td>\n",
       "      <td>3.202950e+08</td>\n",
       "      <td>683270525</td>\n",
       "      <td>1.472279e+03</td>\n",
       "    </tr>\n",
       "    <tr>\n",
       "      <th>19882</th>\n",
       "      <td>2647</td>\n",
       "      <td>tt0088939</td>\n",
       "      <td>The Color Purple</td>\n",
       "      <td>02-07-1986</td>\n",
       "      <td>Steven Spielberg</td>\n",
       "      <td>$98,467,863</td>\n",
       "      <td>1.711864e+08</td>\n",
       "      <td>863140796</td>\n",
       "      <td>1.213343e+03</td>\n",
       "    </tr>\n",
       "    <tr>\n",
       "      <th>19883</th>\n",
       "      <td>1522</td>\n",
       "      <td>tt0092965</td>\n",
       "      <td>Empire of the Sun</td>\n",
       "      <td>12-25-1987</td>\n",
       "      <td>Steven Spielberg</td>\n",
       "      <td>$22,238,696</td>\n",
       "      <td>3.819274e+07</td>\n",
       "      <td>961608659</td>\n",
       "      <td>9.264151e+02</td>\n",
       "    </tr>\n",
       "    <tr>\n",
       "      <th>19884</th>\n",
       "      <td>201</td>\n",
       "      <td>tt0097576</td>\n",
       "      <td>Indiana Jones and the Last Crusade</td>\n",
       "      <td>05-24-1989</td>\n",
       "      <td>Steven Spielberg</td>\n",
       "      <td>$197,171,806</td>\n",
       "      <td>3.303022e+08</td>\n",
       "      <td>983847355</td>\n",
       "      <td>4.218214e+02</td>\n",
       "    </tr>\n",
       "    <tr>\n",
       "      <th>19885</th>\n",
       "      <td>2350</td>\n",
       "      <td>tt0096794</td>\n",
       "      <td>Always</td>\n",
       "      <td>12-22-1989</td>\n",
       "      <td>Steven Spielberg</td>\n",
       "      <td>$43,858,790</td>\n",
       "      <td>7.347225e+07</td>\n",
       "      <td>1181019161</td>\n",
       "      <td>3.647954e+03</td>\n",
       "    </tr>\n",
       "    <tr>\n",
       "      <th>19886</th>\n",
       "      <td>897</td>\n",
       "      <td>tt0102057</td>\n",
       "      <td>Hook</td>\n",
       "      <td>12-11-1991</td>\n",
       "      <td>Steven Spielberg</td>\n",
       "      <td>$119,654,823</td>\n",
       "      <td>1.953963e+08</td>\n",
       "      <td>1224877951</td>\n",
       "      <td>1.656098e+03</td>\n",
       "    </tr>\n",
       "    <tr>\n",
       "      <th>19887</th>\n",
       "      <td>1631</td>\n",
       "      <td>tt0107290</td>\n",
       "      <td>Jurassic Park</td>\n",
       "      <td>06-11-1993</td>\n",
       "      <td>Steven Spielberg</td>\n",
       "      <td>$404,214,720</td>\n",
       "      <td>6.430248e+08</td>\n",
       "      <td>1344532774</td>\n",
       "      <td>8.988044e+03</td>\n",
       "    </tr>\n",
       "    <tr>\n",
       "      <th>19888</th>\n",
       "      <td>1865</td>\n",
       "      <td>tt0108052</td>\n",
       "      <td>Schindler's List</td>\n",
       "      <td>02-04-1994</td>\n",
       "      <td>Steven Spielberg</td>\n",
       "      <td>$96,898,818</td>\n",
       "      <td>1.521021e+08</td>\n",
       "      <td>1748747494</td>\n",
       "      <td>4.225527e+04</td>\n",
       "    </tr>\n",
       "    <tr>\n",
       "      <th>19889</th>\n",
       "      <td>954</td>\n",
       "      <td>tt0119567</td>\n",
       "      <td>The Lost World: Jurassic Park</td>\n",
       "      <td>05-23-1997</td>\n",
       "      <td>Steven Spielberg</td>\n",
       "      <td>$229,086,679</td>\n",
       "      <td>3.450962e+08</td>\n",
       "      <td>1845646312</td>\n",
       "      <td>2.914800e+04</td>\n",
       "    </tr>\n",
       "    <tr>\n",
       "      <th>19890</th>\n",
       "      <td>4026</td>\n",
       "      <td>tt0118607</td>\n",
       "      <td>Amistad</td>\n",
       "      <td>12-25-1997</td>\n",
       "      <td>Steven Spielberg</td>\n",
       "      <td>$44,229,441</td>\n",
       "      <td>6.662723e+07</td>\n",
       "      <td>2074732991</td>\n",
       "      <td>6.611953e+04</td>\n",
       "    </tr>\n",
       "    <tr>\n",
       "      <th>19891</th>\n",
       "      <td>3560</td>\n",
       "      <td>tt0120815</td>\n",
       "      <td>Saving Private Ryan</td>\n",
       "      <td>07-24-1998</td>\n",
       "      <td>Steven Spielberg</td>\n",
       "      <td>$217,049,603</td>\n",
       "      <td>3.223838e+08</td>\n",
       "      <td>2118962432</td>\n",
       "      <td>1.825313e+04</td>\n",
       "    </tr>\n",
       "    <tr>\n",
       "      <th>19892</th>\n",
       "      <td>393</td>\n",
       "      <td>tt0212720</td>\n",
       "      <td>A.I. Artificial Intelligence</td>\n",
       "      <td>06-29-2001</td>\n",
       "      <td>Steven Spielberg</td>\n",
       "      <td>$78,616,689</td>\n",
       "      <td>1.117929e+08</td>\n",
       "      <td>2336012035</td>\n",
       "      <td>2.572519e+05</td>\n",
       "    </tr>\n",
       "    <tr>\n",
       "      <th>19893</th>\n",
       "      <td>416</td>\n",
       "      <td>tt0181689</td>\n",
       "      <td>Minority Report</td>\n",
       "      <td>06-21-2002</td>\n",
       "      <td>Steven Spielberg</td>\n",
       "      <td>$132,072,926</td>\n",
       "      <td>1.850210e+08</td>\n",
       "      <td>2414628724</td>\n",
       "      <td>1.277248e+05</td>\n",
       "    </tr>\n",
       "    <tr>\n",
       "      <th>19894</th>\n",
       "      <td>699</td>\n",
       "      <td>tt0264464</td>\n",
       "      <td>Catch Me If You Can</td>\n",
       "      <td>12-25-2002</td>\n",
       "      <td>Steven Spielberg</td>\n",
       "      <td>$164,615,351</td>\n",
       "      <td>2.306096e+08</td>\n",
       "      <td>2546701650</td>\n",
       "      <td>2.110490e+05</td>\n",
       "    </tr>\n",
       "    <tr>\n",
       "      <th>19895</th>\n",
       "      <td>2942</td>\n",
       "      <td>tt0362227</td>\n",
       "      <td>The Terminal</td>\n",
       "      <td>06-18-2004</td>\n",
       "      <td>Steven Spielberg</td>\n",
       "      <td>$77,872,883</td>\n",
       "      <td>1.058059e+08</td>\n",
       "      <td>2711317001</td>\n",
       "      <td>5.369594e+05</td>\n",
       "    </tr>\n",
       "    <tr>\n",
       "      <th>19896</th>\n",
       "      <td>459</td>\n",
       "      <td>tt0407304</td>\n",
       "      <td>War of the Worlds</td>\n",
       "      <td>06-29-2005</td>\n",
       "      <td>Steven Spielberg</td>\n",
       "      <td>$234,280,354</td>\n",
       "      <td>3.133734e+08</td>\n",
       "      <td>2789189884</td>\n",
       "      <td>3.534084e+05</td>\n",
       "    </tr>\n",
       "    <tr>\n",
       "      <th>19897</th>\n",
       "      <td>2486</td>\n",
       "      <td>tt0408306</td>\n",
       "      <td>Munich</td>\n",
       "      <td>01-06-2006</td>\n",
       "      <td>Steven Spielberg</td>\n",
       "      <td>$47,403,685</td>\n",
       "      <td>6.240695e+07</td>\n",
       "      <td>3023470238</td>\n",
       "      <td>1.489437e+06</td>\n",
       "    </tr>\n",
       "    <tr>\n",
       "      <th>19898</th>\n",
       "      <td>3032</td>\n",
       "      <td>tt0367882</td>\n",
       "      <td>Indiana Jones and the Kingdom of the Crystal S...</td>\n",
       "      <td>05-22-2008</td>\n",
       "      <td>Steven Spielberg</td>\n",
       "      <td>$317,101,119</td>\n",
       "      <td>4.040820e+08</td>\n",
       "      <td>3070873923</td>\n",
       "      <td>6.190858e+05</td>\n",
       "    </tr>\n",
       "    <tr>\n",
       "      <th>19899</th>\n",
       "      <td>182</td>\n",
       "      <td>tt0983193</td>\n",
       "      <td>The Adventures of Tintin</td>\n",
       "      <td>12-21-2011</td>\n",
       "      <td>Steven Spielberg</td>\n",
       "      <td>$77,591,831</td>\n",
       "      <td>9.396371e+07</td>\n",
       "      <td>3387975042</td>\n",
       "      <td>1.143180e+07</td>\n",
       "    </tr>\n",
       "    <tr>\n",
       "      <th>19900</th>\n",
       "      <td>1012</td>\n",
       "      <td>tt1568911</td>\n",
       "      <td>War Horse</td>\n",
       "      <td>12-25-2011</td>\n",
       "      <td>Steven Spielberg</td>\n",
       "      <td>$79,884,879</td>\n",
       "      <td>9.674059e+07</td>\n",
       "      <td>3465566873</td>\n",
       "      <td>2.977162e+06</td>\n",
       "    </tr>\n",
       "    <tr>\n",
       "      <th>19901</th>\n",
       "      <td>1459</td>\n",
       "      <td>tt0443272</td>\n",
       "      <td>Lincoln</td>\n",
       "      <td>11-16-2012</td>\n",
       "      <td>Steven Spielberg</td>\n",
       "      <td>$182,207,973</td>\n",
       "      <td>2.168093e+08</td>\n",
       "      <td>3545451752</td>\n",
       "      <td>4.023971e+06</td>\n",
       "    </tr>\n",
       "    <tr>\n",
       "      <th>19902</th>\n",
       "      <td>1012</td>\n",
       "      <td>tt3682448</td>\n",
       "      <td>Bridge of Spies</td>\n",
       "      <td>10-16-2015</td>\n",
       "      <td>Steven Spielberg</td>\n",
       "      <td>$72,313,754</td>\n",
       "      <td>8.146868e+07</td>\n",
       "      <td>3727659725</td>\n",
       "      <td>2.598081e+07</td>\n",
       "    </tr>\n",
       "    <tr>\n",
       "      <th>19903</th>\n",
       "      <td>268</td>\n",
       "      <td>tt3691740</td>\n",
       "      <td>The BFG</td>\n",
       "      <td>07-01-2016</td>\n",
       "      <td>Steven Spielberg</td>\n",
       "      <td>$55,483,770</td>\n",
       "      <td>6.133731e+07</td>\n",
       "      <td>3799973479</td>\n",
       "      <td>1.805903e+07</td>\n",
       "    </tr>\n",
       "    <tr>\n",
       "      <th>19904</th>\n",
       "      <td>2066</td>\n",
       "      <td>tt6294822</td>\n",
       "      <td>The Post</td>\n",
       "      <td>01-12-2018</td>\n",
       "      <td>Steven Spielberg</td>\n",
       "      <td>$81,903,458</td>\n",
       "      <td>8.708795e+07</td>\n",
       "      <td>3855457249</td>\n",
       "      <td>2.723295e+07</td>\n",
       "    </tr>\n",
       "    <tr>\n",
       "      <th>19905</th>\n",
       "      <td>1006</td>\n",
       "      <td>tt1677720</td>\n",
       "      <td>Ready Player One</td>\n",
       "      <td>03-29-2018</td>\n",
       "      <td>Steven Spielberg</td>\n",
       "      <td>$137,690,172</td>\n",
       "      <td>1.464060e+08</td>\n",
       "      <td>3937360707</td>\n",
       "      <td>3.921207e+07</td>\n",
       "    </tr>\n",
       "    <tr>\n",
       "      <th>19906</th>\n",
       "      <td>2041</td>\n",
       "      <td>tt3581652</td>\n",
       "      <td>West Side Story</td>\n",
       "      <td>12-10-2021</td>\n",
       "      <td>Steven Spielberg</td>\n",
       "      <td>0</td>\n",
       "      <td>0.000000e+00</td>\n",
       "      <td>4075050879</td>\n",
       "      <td>1.856180e+08</td>\n",
       "    </tr>\n",
       "  </tbody>\n",
       "</table>\n",
       "</div>"
      ],
      "text/plain": [
       "       index        mid                                              title  \\\n",
       "19879   1777  tt0082971                            Raiders of the Lost Ark   \n",
       "19880    280  tt0083866                         E.T. the Extra-Terrestrial   \n",
       "19881   2894  tt0087469               Indiana Jones and the Temple of Doom   \n",
       "19882   2647  tt0088939                                   The Color Purple   \n",
       "19883   1522  tt0092965                                  Empire of the Sun   \n",
       "19884    201  tt0097576                 Indiana Jones and the Last Crusade   \n",
       "19885   2350  tt0096794                                             Always   \n",
       "19886    897  tt0102057                                               Hook   \n",
       "19887   1631  tt0107290                                      Jurassic Park   \n",
       "19888   1865  tt0108052                                   Schindler's List   \n",
       "19889    954  tt0119567                      The Lost World: Jurassic Park   \n",
       "19890   4026  tt0118607                                            Amistad   \n",
       "19891   3560  tt0120815                                Saving Private Ryan   \n",
       "19892    393  tt0212720                       A.I. Artificial Intelligence   \n",
       "19893    416  tt0181689                                    Minority Report   \n",
       "19894    699  tt0264464                                Catch Me If You Can   \n",
       "19895   2942  tt0362227                                       The Terminal   \n",
       "19896    459  tt0407304                                  War of the Worlds   \n",
       "19897   2486  tt0408306                                             Munich   \n",
       "19898   3032  tt0367882  Indiana Jones and the Kingdom of the Crystal S...   \n",
       "19899    182  tt0983193                           The Adventures of Tintin   \n",
       "19900   1012  tt1568911                                          War Horse   \n",
       "19901   1459  tt0443272                                            Lincoln   \n",
       "19902   1012  tt3682448                                    Bridge of Spies   \n",
       "19903    268  tt3691740                                            The BFG   \n",
       "19904   2066  tt6294822                                           The Post   \n",
       "19905   1006  tt1677720                                   Ready Player One   \n",
       "19906   2041  tt3581652                                    West Side Story   \n",
       "\n",
       "         released          director     boxoffice  inf_adj_boxoffice  \\\n",
       "19879  06-12-1981  Steven Spielberg  $248,159,971       4.576070e+08   \n",
       "19880  06-11-1982  Steven Spielberg  $435,110,554       7.931630e+08   \n",
       "19881  05-23-1984  Steven Spielberg  $179,870,271       3.202950e+08   \n",
       "19882  02-07-1986  Steven Spielberg   $98,467,863       1.711864e+08   \n",
       "19883  12-25-1987  Steven Spielberg   $22,238,696       3.819274e+07   \n",
       "19884  05-24-1989  Steven Spielberg  $197,171,806       3.303022e+08   \n",
       "19885  12-22-1989  Steven Spielberg   $43,858,790       7.347225e+07   \n",
       "19886  12-11-1991  Steven Spielberg  $119,654,823       1.953963e+08   \n",
       "19887  06-11-1993  Steven Spielberg  $404,214,720       6.430248e+08   \n",
       "19888  02-04-1994  Steven Spielberg   $96,898,818       1.521021e+08   \n",
       "19889  05-23-1997  Steven Spielberg  $229,086,679       3.450962e+08   \n",
       "19890  12-25-1997  Steven Spielberg   $44,229,441       6.662723e+07   \n",
       "19891  07-24-1998  Steven Spielberg  $217,049,603       3.223838e+08   \n",
       "19892  06-29-2001  Steven Spielberg   $78,616,689       1.117929e+08   \n",
       "19893  06-21-2002  Steven Spielberg  $132,072,926       1.850210e+08   \n",
       "19894  12-25-2002  Steven Spielberg  $164,615,351       2.306096e+08   \n",
       "19895  06-18-2004  Steven Spielberg   $77,872,883       1.058059e+08   \n",
       "19896  06-29-2005  Steven Spielberg  $234,280,354       3.133734e+08   \n",
       "19897  01-06-2006  Steven Spielberg   $47,403,685       6.240695e+07   \n",
       "19898  05-22-2008  Steven Spielberg  $317,101,119       4.040820e+08   \n",
       "19899  12-21-2011  Steven Spielberg   $77,591,831       9.396371e+07   \n",
       "19900  12-25-2011  Steven Spielberg   $79,884,879       9.674059e+07   \n",
       "19901  11-16-2012  Steven Spielberg  $182,207,973       2.168093e+08   \n",
       "19902  10-16-2015  Steven Spielberg   $72,313,754       8.146868e+07   \n",
       "19903  07-01-2016  Steven Spielberg   $55,483,770       6.133731e+07   \n",
       "19904  01-12-2018  Steven Spielberg   $81,903,458       8.708795e+07   \n",
       "19905  03-29-2018  Steven Spielberg  $137,690,172       1.464060e+08   \n",
       "19906  12-10-2021  Steven Spielberg             0       0.000000e+00   \n",
       "\n",
       "               cr         wicar  \n",
       "19879           0  0.000000e+00  \n",
       "19880   248159971  4.162135e+02  \n",
       "19881   683270525  1.472279e+03  \n",
       "19882   863140796  1.213343e+03  \n",
       "19883   961608659  9.264151e+02  \n",
       "19884   983847355  4.218214e+02  \n",
       "19885  1181019161  3.647954e+03  \n",
       "19886  1224877951  1.656098e+03  \n",
       "19887  1344532774  8.988044e+03  \n",
       "19888  1748747494  4.225527e+04  \n",
       "19889  1845646312  2.914800e+04  \n",
       "19890  2074732991  6.611953e+04  \n",
       "19891  2118962432  1.825313e+04  \n",
       "19892  2336012035  2.572519e+05  \n",
       "19893  2414628724  1.277248e+05  \n",
       "19894  2546701650  2.110490e+05  \n",
       "19895  2711317001  5.369594e+05  \n",
       "19896  2789189884  3.534084e+05  \n",
       "19897  3023470238  1.489437e+06  \n",
       "19898  3070873923  6.190858e+05  \n",
       "19899  3387975042  1.143180e+07  \n",
       "19900  3465566873  2.977162e+06  \n",
       "19901  3545451752  4.023971e+06  \n",
       "19902  3727659725  2.598081e+07  \n",
       "19903  3799973479  1.805903e+07  \n",
       "19904  3855457249  2.723295e+07  \n",
       "19905  3937360707  3.921207e+07  \n",
       "19906  4075050879  1.856180e+08  "
      ]
     },
     "execution_count": 707,
     "metadata": {},
     "output_type": "execute_result"
    }
   ],
   "source": [
    "bigdir_wicar_df[bigdir_wicar_df.director == 'Steven Spielberg']"
   ]
  },
  {
   "cell_type": "code",
   "execution_count": 581,
   "metadata": {
    "ExecuteTime": {
     "end_time": "2021-09-07T03:56:46.574913Z",
     "start_time": "2021-09-07T03:56:46.544930Z"
    }
   },
   "outputs": [
    {
     "data": {
      "text/html": [
       "<div>\n",
       "<style scoped>\n",
       "    .dataframe tbody tr th:only-of-type {\n",
       "        vertical-align: middle;\n",
       "    }\n",
       "\n",
       "    .dataframe tbody tr th {\n",
       "        vertical-align: top;\n",
       "    }\n",
       "\n",
       "    .dataframe thead th {\n",
       "        text-align: right;\n",
       "    }\n",
       "</style>\n",
       "<table border=\"1\" class=\"dataframe\">\n",
       "  <thead>\n",
       "    <tr style=\"text-align: right;\">\n",
       "      <th></th>\n",
       "      <th>mid</th>\n",
       "      <th>title</th>\n",
       "      <th>released</th>\n",
       "      <th>director</th>\n",
       "      <th>boxoffice</th>\n",
       "      <th>inf_adj_boxoffice</th>\n",
       "      <th>cr</th>\n",
       "      <th>wicar</th>\n",
       "    </tr>\n",
       "  </thead>\n",
       "  <tbody>\n",
       "    <tr>\n",
       "      <th>189</th>\n",
       "      <td>tt0810913</td>\n",
       "      <td>Jack and Jill</td>\n",
       "      <td>11-11-2011</td>\n",
       "      <td>Dennis Dugan</td>\n",
       "      <td>$74,158,157</td>\n",
       "      <td>89805528.13</td>\n",
       "      <td>834518970</td>\n",
       "      <td>3685661.525</td>\n",
       "    </tr>\n",
       "  </tbody>\n",
       "</table>\n",
       "</div>"
      ],
      "text/plain": [
       "           mid          title    released      director    boxoffice  \\\n",
       "189  tt0810913  Jack and Jill  11-11-2011  Dennis Dugan  $74,158,157   \n",
       "\n",
       "     inf_adj_boxoffice         cr        wicar  \n",
       "189        89805528.13  834518970  3685661.525  "
      ]
     },
     "execution_count": 581,
     "metadata": {},
     "output_type": "execute_result"
    }
   ],
   "source": [
    "bigdir_wicar_df[bigdir_wicar_df.title == 'Jack and Jill']"
   ]
  },
  {
   "cell_type": "code",
   "execution_count": 709,
   "metadata": {
    "ExecuteTime": {
     "end_time": "2021-09-07T08:29:28.971794Z",
     "start_time": "2021-09-07T08:29:28.956769Z"
    }
   },
   "outputs": [
    {
     "data": {
      "text/plain": [
       "39212066.1"
      ]
     },
     "execution_count": 709,
     "metadata": {},
     "output_type": "execute_result"
    }
   ],
   "source": [
    "lookup_dir_inf('tt1677720')"
   ]
  },
  {
   "cell_type": "code",
   "execution_count": 708,
   "metadata": {
    "ExecuteTime": {
     "end_time": "2021-09-07T08:28:52.464131Z",
     "start_time": "2021-09-07T08:28:52.449131Z"
    }
   },
   "outputs": [
    {
     "data": {
      "text/plain": [
       "39212066.1"
      ]
     },
     "execution_count": 708,
     "metadata": {},
     "output_type": "execute_result"
    }
   ],
   "source": [
    "bigdir_wicar_df.loc[bigdir_wicar_df.mid == 'tt1677720']['wicar'].nlargest(1).sum()"
   ]
  },
  {
   "cell_type": "code",
   "execution_count": 579,
   "metadata": {
    "ExecuteTime": {
     "end_time": "2021-09-07T03:55:57.414806Z",
     "start_time": "2021-09-07T03:55:57.406812Z"
    }
   },
   "outputs": [],
   "source": [
    "#lookup tconst in director_df lookup tconst=mid in bigdirec_wicar\n",
    "#return direc influence\n",
    "def lookup_dir_inf(x):\n",
    "    inf_rat = 0\n",
    "    try:\n",
    "        inf_rat = bigdir_wicar_df.loc[bigdir_wicar_df.mid == x]['wicar']\n",
    "        return inf_rat.nlargest(1).sum()\n",
    "    except:\n",
    "        return 0\n",
    "    "
   ]
  },
  {
   "cell_type": "code",
   "execution_count": 580,
   "metadata": {
    "ExecuteTime": {
     "end_time": "2021-09-07T03:55:59.733031Z",
     "start_time": "2021-09-07T03:55:59.726032Z"
    }
   },
   "outputs": [],
   "source": [
    "#lookup tconst in director_df lookup tconst=mid in bigdirec_wicar\n",
    "#return top two actor influence\n",
    "def lookup_act_inf(movieid):\n",
    "    inf_rat = 0\n",
    "    try:\n",
    "        inf_rat = bigact_wicar_df.loc[bigact_wicar_df.tconst == movieid]['wicar']\n",
    "        return inf_rat.nlargest(2).sum()\n",
    "    except:\n",
    "         return 0\n",
    "   "
   ]
  },
  {
   "cell_type": "code",
   "execution_count": 727,
   "metadata": {
    "ExecuteTime": {
     "end_time": "2021-09-07T08:33:39.175481Z",
     "start_time": "2021-09-07T08:33:39.167476Z"
    }
   },
   "outputs": [],
   "source": [
    "#Test Lookup dir Influence\n",
    "def test_lookup_dir_infl(mid,answer):\n",
    "    inf = lookup_dir_inf(mid)\n",
    "    if(inf == answer):\n",
    "        return True\n",
    "    else:\n",
    "        print('Inf', inf, 'answer',answer)\n",
    "        return False\n",
    "    \n",
    "#Test Lookup actor Influence\n",
    "def test_lookup_actor_infl(mid, answer):\n",
    "    inf = lookup_act_inf('mid')\n",
    "    if(inf == answer):\n",
    "        return True\n",
    "    else:\n",
    "        print('Inf', inf, 'answer',answer)\n",
    "        return False\n",
    "    "
   ]
  },
  {
   "cell_type": "markdown",
   "metadata": {},
   "source": [
    "#### Lookup Act Influence"
   ]
  },
  {
   "cell_type": "code",
   "execution_count": 747,
   "metadata": {
    "ExecuteTime": {
     "end_time": "2021-09-07T09:14:08.261397Z",
     "start_time": "2021-09-07T09:13:22.502641Z"
    }
   },
   "outputs": [
    {
     "name": "stderr",
     "output_type": "stream",
     "text": [
      "<ipython-input-747-a58871750136>:7: SettingWithCopyWarning: \n",
      "A value is trying to be set on a copy of a slice from a DataFrame.\n",
      "Try using .loc[row_indexer,col_indexer] = value instead\n",
      "\n",
      "See the caveats in the documentation: https://pandas.pydata.org/pandas-docs/stable/user_guide/indexing.html#returning-a-view-versus-a-copy\n",
      "  act_actress_df['act_infl']  = infl\n"
     ]
    }
   ],
   "source": [
    "#Actor Infl\n",
    "#lookup actor influence for each movie in act_actress_df\n",
    "infl = []\n",
    "for mid in act_actress_df['tconst']:\n",
    "    rat = lookup_act_inf(mid)\n",
    "    infl.append(rat)\n",
    "act_actress_df['act_infl']  = infl"
   ]
  },
  {
   "cell_type": "markdown",
   "metadata": {},
   "source": [
    "#### Lookup Director Influence"
   ]
  },
  {
   "cell_type": "code",
   "execution_count": 740,
   "metadata": {
    "ExecuteTime": {
     "end_time": "2021-09-07T08:54:09.542225Z",
     "start_time": "2021-09-07T08:54:02.166768Z"
    },
    "scrolled": true
   },
   "outputs": [
    {
     "name": "stderr",
     "output_type": "stream",
     "text": [
      "<ipython-input-740-f5f87b8e919e>:5: SettingWithCopyWarning: \n",
      "A value is trying to be set on a copy of a slice from a DataFrame.\n",
      "Try using .loc[row_indexer,col_indexer] = value instead\n",
      "\n",
      "See the caveats in the documentation: https://pandas.pydata.org/pandas-docs/stable/user_guide/indexing.html#returning-a-view-versus-a-copy\n",
      "  director_df['dir_infl'] = infl\n"
     ]
    }
   ],
   "source": [
    "#Director infl\n",
    "infl = []\n",
    "for mid in director_df['tconst']:\n",
    "    rat = lookup_dir_inf(mid)\n",
    "    infl.append(rat)\n",
    "director_df['dir_infl'] = infl"
   ]
  },
  {
   "cell_type": "markdown",
   "metadata": {
    "ExecuteTime": {
     "end_time": "2021-09-07T08:39:25.988726Z",
     "start_time": "2021-09-07T08:39:25.942722Z"
    }
   },
   "source": [
    "#### Lookup tconst "
   ]
  },
  {
   "cell_type": "code",
   "execution_count": 664,
   "metadata": {
    "ExecuteTime": {
     "end_time": "2021-09-07T07:46:35.338098Z",
     "start_time": "2021-09-07T07:46:35.288096Z"
    }
   },
   "outputs": [],
   "source": [
    "#lookup moviesname in titles with prins(acts and dirs) return tconst/movieid\n",
    "#return\n",
    "def lookup_movie_tconst(moviename):\n",
    "    mid = ''\n",
    "    try:\n",
    "        mid = titleswprins_df.loc[titleswprins_df.Title == moviename]['tconst'].iloc[0]\n",
    "    except IndexError:\n",
    "        mid = 'N/A'\n",
    "    return mid"
   ]
  },
  {
   "cell_type": "markdown",
   "metadata": {},
   "source": [
    "Lookup all Titles for the IMDB tcosnt to merge on later."
   ]
  },
  {
   "cell_type": "code",
   "execution_count": 458,
   "metadata": {
    "ExecuteTime": {
     "end_time": "2021-09-03T13:04:55.574612Z",
     "start_time": "2021-09-03T13:04:55.481613Z"
    }
   },
   "outputs": [
    {
     "data": {
      "text/html": [
       "<div>\n",
       "<style scoped>\n",
       "    .dataframe tbody tr th:only-of-type {\n",
       "        vertical-align: middle;\n",
       "    }\n",
       "\n",
       "    .dataframe tbody tr th {\n",
       "        vertical-align: top;\n",
       "    }\n",
       "\n",
       "    .dataframe thead th {\n",
       "        text-align: right;\n",
       "    }\n",
       "</style>\n",
       "<table border=\"1\" class=\"dataframe\">\n",
       "  <thead>\n",
       "    <tr style=\"text-align: right;\">\n",
       "      <th></th>\n",
       "      <th>Released</th>\n",
       "      <th>ReleasedWorldwide</th>\n",
       "      <th>Title</th>\n",
       "      <th>TheatricalDistributor</th>\n",
       "      <th>Genre</th>\n",
       "      <th>Source</th>\n",
       "      <th>ProductionMethod</th>\n",
       "      <th>CreativeType</th>\n",
       "      <th>ProductionBudget</th>\n",
       "      <th>Opening WeekendTheaters</th>\n",
       "      <th>MaximumTheaters</th>\n",
       "      <th>TheatricalEngagements</th>\n",
       "      <th>Opening WeekendRevenue</th>\n",
       "      <th>DomesticBox Office</th>\n",
       "      <th>Infl. Adj. Dom.Box Office</th>\n",
       "      <th>InternationalBox Office</th>\n",
       "      <th>WorldwideBox Office</th>\n",
       "      <th>tconst</th>\n",
       "      <th>Released_dt</th>\n",
       "      <th>year</th>\n",
       "    </tr>\n",
       "  </thead>\n",
       "  <tbody>\n",
       "    <tr>\n",
       "      <th>0</th>\n",
       "      <td>Jun 21, 2019</td>\n",
       "      <td>Jun 20, 2019</td>\n",
       "      <td>Toy Story 4</td>\n",
       "      <td>Walt Disney</td>\n",
       "      <td>Adventure</td>\n",
       "      <td>Original Screenplay</td>\n",
       "      <td>Digital Animation</td>\n",
       "      <td>Kids Fiction</td>\n",
       "      <td>200000000.0</td>\n",
       "      <td>4575.0</td>\n",
       "      <td>4575.0</td>\n",
       "      <td>38194.0</td>\n",
       "      <td>120908065.0</td>\n",
       "      <td>434038008.0</td>\n",
       "      <td>434038008.0</td>\n",
       "      <td>639042321.0</td>\n",
       "      <td>1.073080e+09</td>\n",
       "      <td>tt1979376</td>\n",
       "      <td>2019-06-21</td>\n",
       "      <td>2019.0</td>\n",
       "    </tr>\n",
       "    <tr>\n",
       "      <th>1</th>\n",
       "      <td>Jun 18, 2010</td>\n",
       "      <td>Jun 18, 2010</td>\n",
       "      <td>Toy Story 3</td>\n",
       "      <td>Walt Disney</td>\n",
       "      <td>Adventure</td>\n",
       "      <td>Original Screenplay</td>\n",
       "      <td>Digital Animation</td>\n",
       "      <td>Kids Fiction</td>\n",
       "      <td>200000000.0</td>\n",
       "      <td>4028.0</td>\n",
       "      <td>4028.0</td>\n",
       "      <td>33699.0</td>\n",
       "      <td>110307189.0</td>\n",
       "      <td>415004880.0</td>\n",
       "      <td>481805411.0</td>\n",
       "      <td>653874642.0</td>\n",
       "      <td>1.068880e+09</td>\n",
       "      <td>tt0435761</td>\n",
       "      <td>2010-06-18</td>\n",
       "      <td>2010.0</td>\n",
       "    </tr>\n",
       "    <tr>\n",
       "      <th>2</th>\n",
       "      <td>Jun 21, 2013</td>\n",
       "      <td>Jun 21, 2013</td>\n",
       "      <td>Monsters University</td>\n",
       "      <td>Walt Disney</td>\n",
       "      <td>Adventure</td>\n",
       "      <td>Original Screenplay</td>\n",
       "      <td>Digital Animation</td>\n",
       "      <td>Kids Fiction</td>\n",
       "      <td>200000000.0</td>\n",
       "      <td>4004.0</td>\n",
       "      <td>4004.0</td>\n",
       "      <td>24656.0</td>\n",
       "      <td>82429469.0</td>\n",
       "      <td>268488329.0</td>\n",
       "      <td>302503449.0</td>\n",
       "      <td>474967481.0</td>\n",
       "      <td>7.434558e+08</td>\n",
       "      <td>tt1453405</td>\n",
       "      <td>2013-06-21</td>\n",
       "      <td>2013.0</td>\n",
       "    </tr>\n",
       "    <tr>\n",
       "      <th>3</th>\n",
       "      <td>Jun 24, 2011</td>\n",
       "      <td>Jun 23, 2011</td>\n",
       "      <td>Cars 2</td>\n",
       "      <td>Walt Disney</td>\n",
       "      <td>Adventure</td>\n",
       "      <td>Original Screenplay</td>\n",
       "      <td>Digital Animation</td>\n",
       "      <td>Kids Fiction</td>\n",
       "      <td>200000000.0</td>\n",
       "      <td>4115.0</td>\n",
       "      <td>4115.0</td>\n",
       "      <td>25790.0</td>\n",
       "      <td>66135507.0</td>\n",
       "      <td>191450875.0</td>\n",
       "      <td>221146280.0</td>\n",
       "      <td>368704508.0</td>\n",
       "      <td>5.601554e+08</td>\n",
       "      <td>tt1216475</td>\n",
       "      <td>2011-06-24</td>\n",
       "      <td>2011.0</td>\n",
       "    </tr>\n",
       "    <tr>\n",
       "      <th>4</th>\n",
       "      <td>Jun 16, 2017</td>\n",
       "      <td>Jun 16, 2017</td>\n",
       "      <td>Cars 3</td>\n",
       "      <td>Walt Disney</td>\n",
       "      <td>Adventure</td>\n",
       "      <td>Original Screenplay</td>\n",
       "      <td>Digital Animation</td>\n",
       "      <td>Kids Fiction</td>\n",
       "      <td>175000000.0</td>\n",
       "      <td>4256.0</td>\n",
       "      <td>4256.0</td>\n",
       "      <td>24083.0</td>\n",
       "      <td>53688680.0</td>\n",
       "      <td>152901115.0</td>\n",
       "      <td>156139821.0</td>\n",
       "      <td>230640254.0</td>\n",
       "      <td>3.835414e+08</td>\n",
       "      <td>tt3606752</td>\n",
       "      <td>2017-06-16</td>\n",
       "      <td>2017.0</td>\n",
       "    </tr>\n",
       "    <tr>\n",
       "      <th>...</th>\n",
       "      <td>...</td>\n",
       "      <td>...</td>\n",
       "      <td>...</td>\n",
       "      <td>...</td>\n",
       "      <td>...</td>\n",
       "      <td>...</td>\n",
       "      <td>...</td>\n",
       "      <td>...</td>\n",
       "      <td>...</td>\n",
       "      <td>...</td>\n",
       "      <td>...</td>\n",
       "      <td>...</td>\n",
       "      <td>...</td>\n",
       "      <td>...</td>\n",
       "      <td>...</td>\n",
       "      <td>...</td>\n",
       "      <td>...</td>\n",
       "      <td>...</td>\n",
       "      <td>...</td>\n",
       "      <td>...</td>\n",
       "    </tr>\n",
       "    <tr>\n",
       "      <th>1302</th>\n",
       "      <td>Oct 25, 2013</td>\n",
       "      <td>Oct 25, 2013</td>\n",
       "      <td>The Counselor</td>\n",
       "      <td>20th Century Fox</td>\n",
       "      <td>Thriller/Suspense</td>\n",
       "      <td>Original Screenplay</td>\n",
       "      <td>Live Action</td>\n",
       "      <td>Contemporary Fiction</td>\n",
       "      <td>25000000.0</td>\n",
       "      <td>3044.0</td>\n",
       "      <td>3044.0</td>\n",
       "      <td>8015.0</td>\n",
       "      <td>7842930.0</td>\n",
       "      <td>16973715.0</td>\n",
       "      <td>19124056.0</td>\n",
       "      <td>54035619.0</td>\n",
       "      <td>7.100933e+07</td>\n",
       "      <td>tt2193215</td>\n",
       "      <td>2013-10-25</td>\n",
       "      <td>2019.0</td>\n",
       "    </tr>\n",
       "    <tr>\n",
       "      <th>1303</th>\n",
       "      <td>Jul 12, 2013</td>\n",
       "      <td>Jul 12, 2013</td>\n",
       "      <td>Fruitvale Station</td>\n",
       "      <td>Weinstein Co.</td>\n",
       "      <td>Drama</td>\n",
       "      <td>Based on Real Life Events</td>\n",
       "      <td>Live Action</td>\n",
       "      <td>Contemporary Fiction</td>\n",
       "      <td>900000.0</td>\n",
       "      <td>7.0</td>\n",
       "      <td>1086.0</td>\n",
       "      <td>4860.0</td>\n",
       "      <td>377285.0</td>\n",
       "      <td>16098998.0</td>\n",
       "      <td>18138595.0</td>\n",
       "      <td>1450647.0</td>\n",
       "      <td>1.754964e+07</td>\n",
       "      <td>tt2334649</td>\n",
       "      <td>2013-07-12</td>\n",
       "      <td>2019.0</td>\n",
       "    </tr>\n",
       "    <tr>\n",
       "      <th>1304</th>\n",
       "      <td>Nov 1, 2013</td>\n",
       "      <td>Sep 4, 2013</td>\n",
       "      <td>About Time</td>\n",
       "      <td>Universal</td>\n",
       "      <td>Romantic Comedy</td>\n",
       "      <td>Original Screenplay</td>\n",
       "      <td>Live Action</td>\n",
       "      <td>Science Fiction</td>\n",
       "      <td>12000000.0</td>\n",
       "      <td>175.0</td>\n",
       "      <td>1280.0</td>\n",
       "      <td>4539.0</td>\n",
       "      <td>1076250.0</td>\n",
       "      <td>15323921.0</td>\n",
       "      <td>17265327.0</td>\n",
       "      <td>73214821.0</td>\n",
       "      <td>8.853874e+07</td>\n",
       "      <td>tt2194499</td>\n",
       "      <td>2013-11-01</td>\n",
       "      <td>2019.0</td>\n",
       "    </tr>\n",
       "    <tr>\n",
       "      <th>1305</th>\n",
       "      <td>Mar 15, 2013</td>\n",
       "      <td>Mar 6, 2013</td>\n",
       "      <td>Spring Breakers</td>\n",
       "      <td>A24</td>\n",
       "      <td>Thriller/Suspense</td>\n",
       "      <td>Original Screenplay</td>\n",
       "      <td>Live Action</td>\n",
       "      <td>Contemporary Fiction</td>\n",
       "      <td>5000000.0</td>\n",
       "      <td>3.0</td>\n",
       "      <td>1379.0</td>\n",
       "      <td>4363.0</td>\n",
       "      <td>263002.0</td>\n",
       "      <td>14124286.0</td>\n",
       "      <td>15913705.0</td>\n",
       "      <td>17024965.0</td>\n",
       "      <td>3.114925e+07</td>\n",
       "      <td>tt2101441</td>\n",
       "      <td>2013-03-15</td>\n",
       "      <td>2019.0</td>\n",
       "    </tr>\n",
       "    <tr>\n",
       "      <th>1306</th>\n",
       "      <td>Dec 6, 2013</td>\n",
       "      <td>Nov 6, 2013</td>\n",
       "      <td>Inside Llewyn Davis</td>\n",
       "      <td>CBS Films</td>\n",
       "      <td>Drama</td>\n",
       "      <td>Based on Factual Book/Article</td>\n",
       "      <td>Live Action</td>\n",
       "      <td>Historical Fiction</td>\n",
       "      <td>11000000.0</td>\n",
       "      <td>4.0</td>\n",
       "      <td>729.0</td>\n",
       "      <td>2755.0</td>\n",
       "      <td>405411.0</td>\n",
       "      <td>13248209.0</td>\n",
       "      <td>14896340.0</td>\n",
       "      <td>19695038.0</td>\n",
       "      <td>3.294325e+07</td>\n",
       "      <td>tt2042568</td>\n",
       "      <td>2013-12-06</td>\n",
       "      <td>2019.0</td>\n",
       "    </tr>\n",
       "  </tbody>\n",
       "</table>\n",
       "<p>1307 rows × 20 columns</p>\n",
       "</div>"
      ],
      "text/plain": [
       "          Released ReleasedWorldwide                Title  \\\n",
       "0     Jun 21, 2019      Jun 20, 2019          Toy Story 4   \n",
       "1     Jun 18, 2010      Jun 18, 2010          Toy Story 3   \n",
       "2     Jun 21, 2013      Jun 21, 2013  Monsters University   \n",
       "3     Jun 24, 2011      Jun 23, 2011               Cars 2   \n",
       "4     Jun 16, 2017      Jun 16, 2017               Cars 3   \n",
       "...            ...               ...                  ...   \n",
       "1302  Oct 25, 2013      Oct 25, 2013        The Counselor   \n",
       "1303  Jul 12, 2013      Jul 12, 2013    Fruitvale Station   \n",
       "1304   Nov 1, 2013       Sep 4, 2013           About Time   \n",
       "1305  Mar 15, 2013       Mar 6, 2013      Spring Breakers   \n",
       "1306   Dec 6, 2013       Nov 6, 2013  Inside Llewyn Davis   \n",
       "\n",
       "     TheatricalDistributor              Genre                         Source  \\\n",
       "0              Walt Disney          Adventure            Original Screenplay   \n",
       "1              Walt Disney          Adventure            Original Screenplay   \n",
       "2              Walt Disney          Adventure            Original Screenplay   \n",
       "3              Walt Disney          Adventure            Original Screenplay   \n",
       "4              Walt Disney          Adventure            Original Screenplay   \n",
       "...                    ...                ...                            ...   \n",
       "1302      20th Century Fox  Thriller/Suspense            Original Screenplay   \n",
       "1303         Weinstein Co.              Drama      Based on Real Life Events   \n",
       "1304             Universal    Romantic Comedy            Original Screenplay   \n",
       "1305                   A24  Thriller/Suspense            Original Screenplay   \n",
       "1306             CBS Films              Drama  Based on Factual Book/Article   \n",
       "\n",
       "       ProductionMethod          CreativeType  ProductionBudget  \\\n",
       "0     Digital Animation          Kids Fiction       200000000.0   \n",
       "1     Digital Animation          Kids Fiction       200000000.0   \n",
       "2     Digital Animation          Kids Fiction       200000000.0   \n",
       "3     Digital Animation          Kids Fiction       200000000.0   \n",
       "4     Digital Animation          Kids Fiction       175000000.0   \n",
       "...                 ...                   ...               ...   \n",
       "1302        Live Action  Contemporary Fiction        25000000.0   \n",
       "1303        Live Action  Contemporary Fiction          900000.0   \n",
       "1304        Live Action       Science Fiction        12000000.0   \n",
       "1305        Live Action  Contemporary Fiction         5000000.0   \n",
       "1306        Live Action    Historical Fiction        11000000.0   \n",
       "\n",
       "      Opening WeekendTheaters  MaximumTheaters  TheatricalEngagements  \\\n",
       "0                      4575.0           4575.0                38194.0   \n",
       "1                      4028.0           4028.0                33699.0   \n",
       "2                      4004.0           4004.0                24656.0   \n",
       "3                      4115.0           4115.0                25790.0   \n",
       "4                      4256.0           4256.0                24083.0   \n",
       "...                       ...              ...                    ...   \n",
       "1302                   3044.0           3044.0                 8015.0   \n",
       "1303                      7.0           1086.0                 4860.0   \n",
       "1304                    175.0           1280.0                 4539.0   \n",
       "1305                      3.0           1379.0                 4363.0   \n",
       "1306                      4.0            729.0                 2755.0   \n",
       "\n",
       "      Opening WeekendRevenue  DomesticBox Office  Infl. Adj. Dom.Box Office  \\\n",
       "0                120908065.0         434038008.0                434038008.0   \n",
       "1                110307189.0         415004880.0                481805411.0   \n",
       "2                 82429469.0         268488329.0                302503449.0   \n",
       "3                 66135507.0         191450875.0                221146280.0   \n",
       "4                 53688680.0         152901115.0                156139821.0   \n",
       "...                      ...                 ...                        ...   \n",
       "1302               7842930.0          16973715.0                 19124056.0   \n",
       "1303                377285.0          16098998.0                 18138595.0   \n",
       "1304               1076250.0          15323921.0                 17265327.0   \n",
       "1305                263002.0          14124286.0                 15913705.0   \n",
       "1306                405411.0          13248209.0                 14896340.0   \n",
       "\n",
       "      InternationalBox Office  WorldwideBox Office     tconst Released_dt  \\\n",
       "0                 639042321.0         1.073080e+09  tt1979376  2019-06-21   \n",
       "1                 653874642.0         1.068880e+09  tt0435761  2010-06-18   \n",
       "2                 474967481.0         7.434558e+08  tt1453405  2013-06-21   \n",
       "3                 368704508.0         5.601554e+08  tt1216475  2011-06-24   \n",
       "4                 230640254.0         3.835414e+08  tt3606752  2017-06-16   \n",
       "...                       ...                  ...        ...         ...   \n",
       "1302               54035619.0         7.100933e+07  tt2193215  2013-10-25   \n",
       "1303                1450647.0         1.754964e+07  tt2334649  2013-07-12   \n",
       "1304               73214821.0         8.853874e+07  tt2194499  2013-11-01   \n",
       "1305               17024965.0         3.114925e+07  tt2101441  2013-03-15   \n",
       "1306               19695038.0         3.294325e+07  tt2042568  2013-12-06   \n",
       "\n",
       "        year  \n",
       "0     2019.0  \n",
       "1     2010.0  \n",
       "2     2013.0  \n",
       "3     2011.0  \n",
       "4     2017.0  \n",
       "...      ...  \n",
       "1302  2019.0  \n",
       "1303  2019.0  \n",
       "1304  2019.0  \n",
       "1305  2019.0  \n",
       "1306  2019.0  \n",
       "\n",
       "[1307 rows x 20 columns]"
      ]
     },
     "execution_count": 458,
     "metadata": {},
     "output_type": "execute_result"
    }
   ],
   "source": [
    "movies_clean.drop_duplicates(ignore_index=True,subset=['Title'])"
   ]
  },
  {
   "cell_type": "code",
   "execution_count": 500,
   "metadata": {
    "ExecuteTime": {
     "end_time": "2021-09-03T13:50:16.487064Z",
     "start_time": "2021-09-03T13:50:05.453311Z"
    },
    "scrolled": true
   },
   "outputs": [],
   "source": [
    "movies['tconst'] = pd.Series([lookup_movie_tconst(x) for x in movies['Title']])"
   ]
  },
  {
   "cell_type": "code",
   "execution_count": 501,
   "metadata": {
    "ExecuteTime": {
     "end_time": "2021-09-03T13:50:16.926056Z",
     "start_time": "2021-09-03T13:50:16.719053Z"
    }
   },
   "outputs": [
    {
     "name": "stderr",
     "output_type": "stream",
     "text": [
      "<ipython-input-501-5324765e70c1>:2: SettingWithCopyWarning: \n",
      "A value is trying to be set on a copy of a slice from a DataFrame.\n",
      "Try using .loc[row_indexer,col_indexer] = value instead\n",
      "\n",
      "See the caveats in the documentation: https://pandas.pydata.org/pandas-docs/stable/user_guide/indexing.html#returning-a-view-versus-a-copy\n",
      "  movies_clean['Released_dt'] = pd.to_datetime(movies_clean['Released'])\n",
      "<ipython-input-501-5324765e70c1>:3: SettingWithCopyWarning: \n",
      "A value is trying to be set on a copy of a slice from a DataFrame.\n",
      "Try using .loc[row_indexer,col_indexer] = value instead\n",
      "\n",
      "See the caveats in the documentation: https://pandas.pydata.org/pandas-docs/stable/user_guide/indexing.html#returning-a-view-versus-a-copy\n",
      "  movies_clean['year'] = pd.DatetimeIndex(movies_clean['Released_dt']).year\n"
     ]
    }
   ],
   "source": [
    "movies_clean = movies[movies['DomesticBox Office'] > 50000 ]\n",
    "movies_clean['Released_dt'] = pd.to_datetime(movies_clean['Released'])\n",
    "movies_clean['year'] = pd.DatetimeIndex(movies_clean['Released_dt']).year\n",
    "movies_clean = movies_clean[movies_clean.year <= 2019]\n",
    "movies_clean.drop_duplicates(inplace=True,ignore_index=True)\n",
    "movies_clean.dropna(inplace=True)"
   ]
  },
  {
   "cell_type": "code",
   "execution_count": 502,
   "metadata": {
    "ExecuteTime": {
     "end_time": "2021-09-03T13:50:17.200057Z",
     "start_time": "2021-09-03T13:50:17.176077Z"
    },
    "scrolled": false
   },
   "outputs": [
    {
     "data": {
      "text/plain": [
       "2011    206\n",
       "2010    199\n",
       "2016    191\n",
       "2012    178\n",
       "2015    177\n",
       "2013    175\n",
       "2014    170\n",
       "2017    161\n",
       "2018    157\n",
       "2019    136\n",
       "Name: year, dtype: int64"
      ]
     },
     "execution_count": 502,
     "metadata": {},
     "output_type": "execute_result"
    }
   ],
   "source": [
    "movies_clean.year.value_counts()"
   ]
  },
  {
   "cell_type": "code",
   "execution_count": 485,
   "metadata": {
    "ExecuteTime": {
     "end_time": "2021-09-03T13:33:57.332129Z",
     "start_time": "2021-09-03T13:33:57.323133Z"
    }
   },
   "outputs": [],
   "source": [
    "#Cleaned 200 movies Titles to match imdb Title\n",
    "movies.replace(to_replace='It: Chapter Two',\n",
    "               value='It Chapter Two', inplace=True)"
   ]
  },
  {
   "cell_type": "code",
   "execution_count": 671,
   "metadata": {
    "ExecuteTime": {
     "end_time": "2021-09-07T07:55:11.708843Z",
     "start_time": "2021-09-07T07:55:11.699840Z"
    },
    "scrolled": false
   },
   "outputs": [],
   "source": [
    "#final movies clean before merge with bass model and act inf and direcinf\n",
    "movies_clean = movies_clean[movies_clean.tconst!='N/A']"
   ]
  },
  {
   "cell_type": "code",
   "execution_count": 516,
   "metadata": {
    "ExecuteTime": {
     "end_time": "2021-09-03T14:13:34.430770Z",
     "start_time": "2021-09-03T14:13:34.374776Z"
    }
   },
   "outputs": [],
   "source": [
    "movies_clean['franchise']=0"
   ]
  },
  {
   "cell_type": "code",
   "execution_count": null,
   "metadata": {
    "ExecuteTime": {
     "end_time": "2021-08-20T10:17:16.261203Z",
     "start_time": "2021-08-20T10:17:15.433755Z"
    }
   },
   "outputs": [],
   "source": [
    "movies = movies[movies.MaximumTheaters != 0]"
   ]
  },
  {
   "cell_type": "code",
   "execution_count": 518,
   "metadata": {
    "ExecuteTime": {
     "end_time": "2021-09-03T14:14:17.295593Z",
     "start_time": "2021-09-03T14:14:12.294419Z"
    }
   },
   "outputs": [],
   "source": [
    "movies_clean.to_excel('./data/movies_clean.xls', encoding='utf-8')"
   ]
  },
  {
   "cell_type": "code",
   "execution_count": 673,
   "metadata": {
    "ExecuteTime": {
     "end_time": "2021-09-07T07:55:47.555796Z",
     "start_time": "2021-09-07T07:55:46.761328Z"
    }
   },
   "outputs": [],
   "source": [
    "movies_clean = pd.read_csv('./data/movies_clean_fran.csv', encoding='utf-8', index_col=0)"
   ]
  },
  {
   "cell_type": "code",
   "execution_count": 750,
   "metadata": {
    "ExecuteTime": {
     "end_time": "2021-09-07T09:17:06.526443Z",
     "start_time": "2021-09-07T09:17:06.515440Z"
    }
   },
   "outputs": [],
   "source": [
    "act_actress_slim_df = act_actress_df[['tconst', 'Title','runtimeMinutes', 'act_infl', 'ordering','nconst']]"
   ]
  },
  {
   "cell_type": "code",
   "execution_count": 752,
   "metadata": {
    "ExecuteTime": {
     "end_time": "2021-09-07T09:17:11.948029Z",
     "start_time": "2021-09-07T09:17:11.940035Z"
    }
   },
   "outputs": [],
   "source": [
    "director_slim_df = director_df[['tconst', 'Title','runtimeMinutes', 'dir_infl', 'nconst']]"
   ]
  },
  {
   "cell_type": "code",
   "execution_count": 751,
   "metadata": {
    "ExecuteTime": {
     "end_time": "2021-09-07T09:17:09.486841Z",
     "start_time": "2021-09-07T09:17:09.478861Z"
    }
   },
   "outputs": [],
   "source": [
    "act_actress_slim_df=act_actress_slim_df[act_actress_slim_df.ordering<=2.0]"
   ]
  },
  {
   "cell_type": "markdown",
   "metadata": {},
   "source": [
    "#### Merge Actor and Director Infl to Movies based on tconst movie id"
   ]
  },
  {
   "cell_type": "code",
   "execution_count": 764,
   "metadata": {
    "ExecuteTime": {
     "end_time": "2021-09-07T12:16:49.121088Z",
     "start_time": "2021-09-07T12:16:48.964106Z"
    }
   },
   "outputs": [],
   "source": [
    "#merge with act_actress_df and director_df on tconst\n",
    "merged_df = movies_clean.merge(act_actress_slim_df,left_on='tconst',right_on='tconst')"
   ]
  },
  {
   "cell_type": "code",
   "execution_count": 765,
   "metadata": {
    "ExecuteTime": {
     "end_time": "2021-09-07T12:17:18.178972Z",
     "start_time": "2021-09-07T12:17:18.011973Z"
    }
   },
   "outputs": [],
   "source": [
    "#merge with act_actress_df and director_df on tconst\n",
    "merged_df = merged_df.merge(director_df,left_on='tconst',right_on='tconst')"
   ]
  },
  {
   "cell_type": "code",
   "execution_count": 768,
   "metadata": {
    "ExecuteTime": {
     "end_time": "2021-09-07T12:20:22.376176Z",
     "start_time": "2021-09-07T12:20:22.060171Z"
    },
    "scrolled": false
   },
   "outputs": [],
   "source": [
    "merged_df.drop_duplicates(subset='tconst',inplace=True)"
   ]
  },
  {
   "cell_type": "code",
   "execution_count": 770,
   "metadata": {
    "ExecuteTime": {
     "end_time": "2021-09-07T12:21:41.552047Z",
     "start_time": "2021-09-07T12:21:41.495012Z"
    }
   },
   "outputs": [
    {
     "data": {
      "text/plain": [
       "Index(['Released_x', 'ReleasedWorldwide_x', 'Title_x',\n",
       "       'TheatricalDistributor_x', 'Genre_x', 'Source_x', 'ProductionMethod_x',\n",
       "       'CreativeType_x', 'ProductionBudget_x', 'Opening WeekendTheaters_x',\n",
       "       'MaximumTheaters_x', 'TheatricalEngagements_x',\n",
       "       'Opening WeekendRevenue_x', 'DomesticBox Office_x',\n",
       "       'Infl. Adj. Dom.Box Office_x', 'InternationalBox Office_x',\n",
       "       'WorldwideBox Office_x', 'tconst', 'Released_dt', 'year', 'franchise',\n",
       "       'Title_y', 'runtimeMinutes_x', 'act_infl', 'ordering_x', 'nconst_x',\n",
       "       'Released_y', 'ReleasedWorldwide_y', 'Title', 'TheatricalDistributor_y',\n",
       "       'Genre_y', 'Source_y', 'ProductionMethod_y', 'CreativeType_y',\n",
       "       'ProductionBudget_y', 'Opening WeekendTheaters_y', 'MaximumTheaters_y',\n",
       "       'TheatricalEngagements_y', 'Opening WeekendRevenue_y',\n",
       "       'DomesticBox Office_y', 'Infl. Adj. Dom.Box Office_y',\n",
       "       'InternationalBox Office_y', 'WorldwideBox Office_y', 'TitleLower',\n",
       "       'titleType', 'primaryTitle', 'originalTitle', 'startYear', 'endYear',\n",
       "       'runtimeMinutes_y', 'primaryTitleLower', 'ordering_y', 'nconst_y',\n",
       "       'category', 'job', 'characters', 'dir_infl'],\n",
       "      dtype='object')"
      ]
     },
     "execution_count": 770,
     "metadata": {},
     "output_type": "execute_result"
    }
   ],
   "source": [
    "merged_df.columns"
   ]
  },
  {
   "cell_type": "code",
   "execution_count": 771,
   "metadata": {
    "ExecuteTime": {
     "end_time": "2021-09-07T12:28:14.890246Z",
     "start_time": "2021-09-07T12:28:14.351460Z"
    }
   },
   "outputs": [],
   "source": [
    "#Reorder Columna\n",
    "merged_df = merged_df[['tconst', 'Title_x','Released_x', 'ReleasedWorldwide_x',\n",
    "       'TheatricalDistributor_x', 'Genre_x', 'Source_x', 'ProductionMethod_x',\n",
    "       'CreativeType_x', 'ProductionBudget_x', 'Opening WeekendTheaters_x',\n",
    "       'MaximumTheaters_x', 'TheatricalEngagements_x',\n",
    "       'Opening WeekendRevenue_x', 'DomesticBox Office_x',\n",
    "       'Infl. Adj. Dom.Box Office_x', 'InternationalBox Office_x',\n",
    "       'WorldwideBox Office_x', 'Released_dt', 'year', 'franchise',\n",
    "       'Title_y', 'runtimeMinutes_x', 'act_infl', 'ordering_x', 'nconst_x',\n",
    "       'Released_y', 'ReleasedWorldwide_y', 'Title', 'TheatricalDistributor_y',\n",
    "       'Genre_y', 'Source_y', 'ProductionMethod_y', 'CreativeType_y',\n",
    "       'ProductionBudget_y', 'Opening WeekendTheaters_y', 'MaximumTheaters_y',\n",
    "       'TheatricalEngagements_y', 'Opening WeekendRevenue_y',\n",
    "       'DomesticBox Office_y', 'Infl. Adj. Dom.Box Office_y',\n",
    "       'InternationalBox Office_y', 'WorldwideBox Office_y', 'TitleLower',\n",
    "       'titleType', 'primaryTitle', 'originalTitle', 'startYear', 'endYear',\n",
    "       'runtimeMinutes_y', 'primaryTitleLower', 'ordering_y', 'nconst_y',\n",
    "       'category', 'job', 'characters', 'dir_infl']]"
   ]
  },
  {
   "cell_type": "code",
   "execution_count": 779,
   "metadata": {
    "ExecuteTime": {
     "end_time": "2021-09-07T12:53:57.259517Z",
     "start_time": "2021-09-07T12:53:57.249515Z"
    }
   },
   "outputs": [],
   "source": [
    "#shrink df\n",
    "merged_df = merged_df[['tconst', 'Title_x','Released_x', 'TheatricalDistributor_x', 'Genre_x',\n",
    "           'Source_x', 'ProductionMethod_x','CreativeType_x', 'ProductionBudget_x',\n",
    "           'MaximumTheaters_x', 'DomesticBox Office_x', 'Infl. Adj. Dom.Box Office_x',\n",
    "         'year', 'franchise', 'runtimeMinutes_x', 'act_infl', 'dir_infl']]"
   ]
  },
  {
   "cell_type": "code",
   "execution_count": 781,
   "metadata": {
    "ExecuteTime": {
     "end_time": "2021-09-07T12:54:55.899431Z",
     "start_time": "2021-09-07T12:54:55.510401Z"
    },
    "scrolled": false
   },
   "outputs": [],
   "source": [
    "merged_df.reset_index(inplace=True)"
   ]
  },
  {
   "cell_type": "code",
   "execution_count": 784,
   "metadata": {
    "ExecuteTime": {
     "end_time": "2021-09-07T13:15:17.608335Z",
     "start_time": "2021-09-07T13:15:17.599362Z"
    }
   },
   "outputs": [],
   "source": [
    "merged_df.drop(columns='index', inplace=True)"
   ]
  },
  {
   "cell_type": "code",
   "execution_count": 785,
   "metadata": {
    "ExecuteTime": {
     "end_time": "2021-09-07T13:15:31.131724Z",
     "start_time": "2021-09-07T13:15:31.083770Z"
    },
    "scrolled": true
   },
   "outputs": [
    {
     "data": {
      "text/html": [
       "<div>\n",
       "<style scoped>\n",
       "    .dataframe tbody tr th:only-of-type {\n",
       "        vertical-align: middle;\n",
       "    }\n",
       "\n",
       "    .dataframe tbody tr th {\n",
       "        vertical-align: top;\n",
       "    }\n",
       "\n",
       "    .dataframe thead th {\n",
       "        text-align: right;\n",
       "    }\n",
       "</style>\n",
       "<table border=\"1\" class=\"dataframe\">\n",
       "  <thead>\n",
       "    <tr style=\"text-align: right;\">\n",
       "      <th></th>\n",
       "      <th>tconst</th>\n",
       "      <th>Title_x</th>\n",
       "      <th>Released_x</th>\n",
       "      <th>TheatricalDistributor_x</th>\n",
       "      <th>Genre_x</th>\n",
       "      <th>Source_x</th>\n",
       "      <th>ProductionMethod_x</th>\n",
       "      <th>CreativeType_x</th>\n",
       "      <th>ProductionBudget_x</th>\n",
       "      <th>MaximumTheaters_x</th>\n",
       "      <th>DomesticBox Office_x</th>\n",
       "      <th>Infl. Adj. Dom.Box Office_x</th>\n",
       "      <th>year</th>\n",
       "      <th>franchise</th>\n",
       "      <th>runtimeMinutes_x</th>\n",
       "      <th>act_infl</th>\n",
       "      <th>dir_infl</th>\n",
       "    </tr>\n",
       "  </thead>\n",
       "  <tbody>\n",
       "    <tr>\n",
       "      <th>0</th>\n",
       "      <td>tt2140507</td>\n",
       "      <td>The Current War: Director's Cut</td>\n",
       "      <td>Oct 25, 2019</td>\n",
       "      <td>101 Studios</td>\n",
       "      <td>Drama</td>\n",
       "      <td>Based on Real Life Events</td>\n",
       "      <td>Live Action</td>\n",
       "      <td>Dramatization</td>\n",
       "      <td>30000000</td>\n",
       "      <td>1082</td>\n",
       "      <td>5978673</td>\n",
       "      <td>5978673</td>\n",
       "      <td>2019</td>\n",
       "      <td>0</td>\n",
       "      <td>108</td>\n",
       "      <td>4.757780e+08</td>\n",
       "      <td>0.000000e+00</td>\n",
       "    </tr>\n",
       "    <tr>\n",
       "      <th>1</th>\n",
       "      <td>tt1606378</td>\n",
       "      <td>A Good Day to Die Hard</td>\n",
       "      <td>Feb 14, 2013</td>\n",
       "      <td>20th Century Fox</td>\n",
       "      <td>Action</td>\n",
       "      <td>Original Screenplay</td>\n",
       "      <td>Live Action</td>\n",
       "      <td>Contemporary Fiction</td>\n",
       "      <td>92000000</td>\n",
       "      <td>3555</td>\n",
       "      <td>67349198</td>\n",
       "      <td>75881751</td>\n",
       "      <td>2013</td>\n",
       "      <td>1</td>\n",
       "      <td>98</td>\n",
       "      <td>1.622326e+08</td>\n",
       "      <td>3.029308e+06</td>\n",
       "    </tr>\n",
       "    <tr>\n",
       "      <th>2</th>\n",
       "      <td>tt1611224</td>\n",
       "      <td>Abraham Lincoln: Vampire Hunter</td>\n",
       "      <td>Jun 22, 2012</td>\n",
       "      <td>20th Century Fox</td>\n",
       "      <td>Horror</td>\n",
       "      <td>Based on Fiction Book/Short Story</td>\n",
       "      <td>Live Action</td>\n",
       "      <td>Fantasy</td>\n",
       "      <td>67500000</td>\n",
       "      <td>3109</td>\n",
       "      <td>37519139</td>\n",
       "      <td>43175284</td>\n",
       "      <td>2012</td>\n",
       "      <td>0</td>\n",
       "      <td>105</td>\n",
       "      <td>1.455339e+07</td>\n",
       "      <td>6.916780e+06</td>\n",
       "    </tr>\n",
       "    <tr>\n",
       "      <th>3</th>\n",
       "      <td>tt2935510</td>\n",
       "      <td>Ad Astra</td>\n",
       "      <td>Sep 20, 2019</td>\n",
       "      <td>20th Century Fox</td>\n",
       "      <td>Thriller/Suspense</td>\n",
       "      <td>Original Screenplay</td>\n",
       "      <td>Live Action</td>\n",
       "      <td>Science Fiction</td>\n",
       "      <td>80000000</td>\n",
       "      <td>3460</td>\n",
       "      <td>50188370</td>\n",
       "      <td>50188370</td>\n",
       "      <td>2019</td>\n",
       "      <td>0</td>\n",
       "      <td>123</td>\n",
       "      <td>2.257948e+09</td>\n",
       "      <td>4.875923e+06</td>\n",
       "    </tr>\n",
       "    <tr>\n",
       "      <th>4</th>\n",
       "      <td>tt2316204</td>\n",
       "      <td>Alien: Covenant</td>\n",
       "      <td>May 19, 2017</td>\n",
       "      <td>20th Century Fox</td>\n",
       "      <td>Horror</td>\n",
       "      <td>Original Screenplay</td>\n",
       "      <td>Live Action</td>\n",
       "      <td>Science Fiction</td>\n",
       "      <td>97000000</td>\n",
       "      <td>3772</td>\n",
       "      <td>74262031</td>\n",
       "      <td>75835026</td>\n",
       "      <td>2017</td>\n",
       "      <td>1</td>\n",
       "      <td>122</td>\n",
       "      <td>2.301957e+08</td>\n",
       "      <td>6.396533e+07</td>\n",
       "    </tr>\n",
       "    <tr>\n",
       "      <th>...</th>\n",
       "      <td>...</td>\n",
       "      <td>...</td>\n",
       "      <td>...</td>\n",
       "      <td>...</td>\n",
       "      <td>...</td>\n",
       "      <td>...</td>\n",
       "      <td>...</td>\n",
       "      <td>...</td>\n",
       "      <td>...</td>\n",
       "      <td>...</td>\n",
       "      <td>...</td>\n",
       "      <td>...</td>\n",
       "      <td>...</td>\n",
       "      <td>...</td>\n",
       "      <td>...</td>\n",
       "      <td>...</td>\n",
       "      <td>...</td>\n",
       "    </tr>\n",
       "    <tr>\n",
       "      <th>1503</th>\n",
       "      <td>tt2404425</td>\n",
       "      <td>Woman in Gold</td>\n",
       "      <td>Apr 1, 2015</td>\n",
       "      <td>Weinstein Co.</td>\n",
       "      <td>Drama</td>\n",
       "      <td>Original Screenplay</td>\n",
       "      <td>Live Action</td>\n",
       "      <td>Contemporary Fiction</td>\n",
       "      <td>11000000</td>\n",
       "      <td>2011</td>\n",
       "      <td>33307793</td>\n",
       "      <td>36192094</td>\n",
       "      <td>2015</td>\n",
       "      <td>0</td>\n",
       "      <td>109</td>\n",
       "      <td>2.190229e+08</td>\n",
       "      <td>2.080154e+06</td>\n",
       "    </tr>\n",
       "    <tr>\n",
       "      <th>1504</th>\n",
       "      <td>tt0464154</td>\n",
       "      <td>Piranha 3D</td>\n",
       "      <td>Aug 20, 2010</td>\n",
       "      <td>Weinstein/Dimension</td>\n",
       "      <td>Horror</td>\n",
       "      <td>Remake</td>\n",
       "      <td>Live Action</td>\n",
       "      <td>Science Fiction</td>\n",
       "      <td>24000000</td>\n",
       "      <td>2491</td>\n",
       "      <td>25003155</td>\n",
       "      <td>29027738</td>\n",
       "      <td>2010</td>\n",
       "      <td>0</td>\n",
       "      <td>88</td>\n",
       "      <td>2.397599e+07</td>\n",
       "      <td>7.838763e+05</td>\n",
       "    </tr>\n",
       "    <tr>\n",
       "      <th>1505</th>\n",
       "      <td>tt1262416</td>\n",
       "      <td>Scream 4</td>\n",
       "      <td>Apr 15, 2011</td>\n",
       "      <td>Weinstein/Dimension</td>\n",
       "      <td>Horror</td>\n",
       "      <td>Original Screenplay</td>\n",
       "      <td>Live Action</td>\n",
       "      <td>Contemporary Fiction</td>\n",
       "      <td>40000000</td>\n",
       "      <td>3314</td>\n",
       "      <td>38180928</td>\n",
       "      <td>44103064</td>\n",
       "      <td>2011</td>\n",
       "      <td>0</td>\n",
       "      <td>111</td>\n",
       "      <td>3.070934e+07</td>\n",
       "      <td>5.564623e+05</td>\n",
       "    </tr>\n",
       "    <tr>\n",
       "      <th>1506</th>\n",
       "      <td>tt1403177</td>\n",
       "      <td>Hesher</td>\n",
       "      <td>May 13, 2011</td>\n",
       "      <td>Wrekin Hill Entertainment</td>\n",
       "      <td>Drama</td>\n",
       "      <td>Original Screenplay</td>\n",
       "      <td>Live Action</td>\n",
       "      <td>Contemporary Fiction</td>\n",
       "      <td>7000000</td>\n",
       "      <td>42</td>\n",
       "      <td>382946</td>\n",
       "      <td>442336</td>\n",
       "      <td>2011</td>\n",
       "      <td>0</td>\n",
       "      <td>106</td>\n",
       "      <td>6.446718e+07</td>\n",
       "      <td>0.000000e+00</td>\n",
       "    </tr>\n",
       "    <tr>\n",
       "      <th>1507</th>\n",
       "      <td>tt2402085</td>\n",
       "      <td>Jimi: All is By My Side</td>\n",
       "      <td>Sep 26, 2014</td>\n",
       "      <td>XLrator Media</td>\n",
       "      <td>Drama</td>\n",
       "      <td>Based on Real Life Events</td>\n",
       "      <td>Live Action</td>\n",
       "      <td>Dramatization</td>\n",
       "      <td>5000000</td>\n",
       "      <td>75</td>\n",
       "      <td>340911</td>\n",
       "      <td>382219</td>\n",
       "      <td>2014</td>\n",
       "      <td>0</td>\n",
       "      <td>118</td>\n",
       "      <td>2.512505e+07</td>\n",
       "      <td>0.000000e+00</td>\n",
       "    </tr>\n",
       "  </tbody>\n",
       "</table>\n",
       "<p>1508 rows × 17 columns</p>\n",
       "</div>"
      ],
      "text/plain": [
       "         tconst                          Title_x    Released_x  \\\n",
       "0     tt2140507  The Current War: Director's Cut  Oct 25, 2019   \n",
       "1     tt1606378           A Good Day to Die Hard  Feb 14, 2013   \n",
       "2     tt1611224  Abraham Lincoln: Vampire Hunter  Jun 22, 2012   \n",
       "3     tt2935510                         Ad Astra  Sep 20, 2019   \n",
       "4     tt2316204                  Alien: Covenant  May 19, 2017   \n",
       "...         ...                              ...           ...   \n",
       "1503  tt2404425                    Woman in Gold   Apr 1, 2015   \n",
       "1504  tt0464154                       Piranha 3D  Aug 20, 2010   \n",
       "1505  tt1262416                         Scream 4  Apr 15, 2011   \n",
       "1506  tt1403177                           Hesher  May 13, 2011   \n",
       "1507  tt2402085          Jimi: All is By My Side  Sep 26, 2014   \n",
       "\n",
       "        TheatricalDistributor_x            Genre_x  \\\n",
       "0                   101 Studios              Drama   \n",
       "1              20th Century Fox             Action   \n",
       "2              20th Century Fox             Horror   \n",
       "3              20th Century Fox  Thriller/Suspense   \n",
       "4              20th Century Fox             Horror   \n",
       "...                         ...                ...   \n",
       "1503              Weinstein Co.              Drama   \n",
       "1504        Weinstein/Dimension             Horror   \n",
       "1505        Weinstein/Dimension             Horror   \n",
       "1506  Wrekin Hill Entertainment              Drama   \n",
       "1507              XLrator Media              Drama   \n",
       "\n",
       "                               Source_x ProductionMethod_x  \\\n",
       "0             Based on Real Life Events        Live Action   \n",
       "1                   Original Screenplay        Live Action   \n",
       "2     Based on Fiction Book/Short Story        Live Action   \n",
       "3                   Original Screenplay        Live Action   \n",
       "4                   Original Screenplay        Live Action   \n",
       "...                                 ...                ...   \n",
       "1503                Original Screenplay        Live Action   \n",
       "1504                             Remake        Live Action   \n",
       "1505                Original Screenplay        Live Action   \n",
       "1506                Original Screenplay        Live Action   \n",
       "1507          Based on Real Life Events        Live Action   \n",
       "\n",
       "            CreativeType_x  ProductionBudget_x  MaximumTheaters_x  \\\n",
       "0            Dramatization            30000000               1082   \n",
       "1     Contemporary Fiction            92000000               3555   \n",
       "2                  Fantasy            67500000               3109   \n",
       "3          Science Fiction            80000000               3460   \n",
       "4          Science Fiction            97000000               3772   \n",
       "...                    ...                 ...                ...   \n",
       "1503  Contemporary Fiction            11000000               2011   \n",
       "1504       Science Fiction            24000000               2491   \n",
       "1505  Contemporary Fiction            40000000               3314   \n",
       "1506  Contemporary Fiction             7000000                 42   \n",
       "1507         Dramatization             5000000                 75   \n",
       "\n",
       "      DomesticBox Office_x  Infl. Adj. Dom.Box Office_x  year  franchise  \\\n",
       "0                  5978673                      5978673  2019          0   \n",
       "1                 67349198                     75881751  2013          1   \n",
       "2                 37519139                     43175284  2012          0   \n",
       "3                 50188370                     50188370  2019          0   \n",
       "4                 74262031                     75835026  2017          1   \n",
       "...                    ...                          ...   ...        ...   \n",
       "1503              33307793                     36192094  2015          0   \n",
       "1504              25003155                     29027738  2010          0   \n",
       "1505              38180928                     44103064  2011          0   \n",
       "1506                382946                       442336  2011          0   \n",
       "1507                340911                       382219  2014          0   \n",
       "\n",
       "     runtimeMinutes_x      act_infl      dir_infl  \n",
       "0                 108  4.757780e+08  0.000000e+00  \n",
       "1                  98  1.622326e+08  3.029308e+06  \n",
       "2                 105  1.455339e+07  6.916780e+06  \n",
       "3                 123  2.257948e+09  4.875923e+06  \n",
       "4                 122  2.301957e+08  6.396533e+07  \n",
       "...               ...           ...           ...  \n",
       "1503              109  2.190229e+08  2.080154e+06  \n",
       "1504               88  2.397599e+07  7.838763e+05  \n",
       "1505              111  3.070934e+07  5.564623e+05  \n",
       "1506              106  6.446718e+07  0.000000e+00  \n",
       "1507              118  2.512505e+07  0.000000e+00  \n",
       "\n",
       "[1508 rows x 17 columns]"
      ]
     },
     "execution_count": 785,
     "metadata": {},
     "output_type": "execute_result"
    }
   ],
   "source": [
    "merged_df"
   ]
  },
  {
   "cell_type": "code",
   "execution_count": 788,
   "metadata": {
    "ExecuteTime": {
     "end_time": "2021-09-07T13:25:24.808727Z",
     "start_time": "2021-09-07T13:25:24.765724Z"
    }
   },
   "outputs": [],
   "source": [
    "merged_df.rename(inplace=True,columns={\"Title_x\": \"title\", \"Released_x\": \"released\",\n",
    "                          \"TheatricalDistributor_x\": \"distributor\",\n",
    "                          \"Genre_x\":\"genre\" ,\"Source_x\":\"source\" , \n",
    "                          \"ProductionMethod_x\":\"prodmethod\",\n",
    "                          \"CreativeType_x\":\"creativetype\",\"ProductionBudget_x\":\"productionbudget\",\n",
    "                         \"MaximumTheaters_x\":\"maxtheaters\",\"DomesticBox Office_x\":\"dombox\",\n",
    "                          \"Infl. Adj. Dom.Box Office_x\":\"inf_dombox\",\"runtimeMinutes_x\":\"runtime_min\"})"
   ]
  },
  {
   "cell_type": "code",
   "execution_count": 789,
   "metadata": {
    "ExecuteTime": {
     "end_time": "2021-09-07T13:25:30.760414Z",
     "start_time": "2021-09-07T13:25:30.718416Z"
    },
    "scrolled": true
   },
   "outputs": [
    {
     "data": {
      "text/html": [
       "<div>\n",
       "<style scoped>\n",
       "    .dataframe tbody tr th:only-of-type {\n",
       "        vertical-align: middle;\n",
       "    }\n",
       "\n",
       "    .dataframe tbody tr th {\n",
       "        vertical-align: top;\n",
       "    }\n",
       "\n",
       "    .dataframe thead th {\n",
       "        text-align: right;\n",
       "    }\n",
       "</style>\n",
       "<table border=\"1\" class=\"dataframe\">\n",
       "  <thead>\n",
       "    <tr style=\"text-align: right;\">\n",
       "      <th></th>\n",
       "      <th>tconst</th>\n",
       "      <th>title</th>\n",
       "      <th>released</th>\n",
       "      <th>distributor</th>\n",
       "      <th>genre</th>\n",
       "      <th>source</th>\n",
       "      <th>prodmethod</th>\n",
       "      <th>creativetype</th>\n",
       "      <th>productionbudget</th>\n",
       "      <th>maxtheaters</th>\n",
       "      <th>dombox</th>\n",
       "      <th>inf_dombox</th>\n",
       "      <th>year</th>\n",
       "      <th>franchise</th>\n",
       "      <th>runtime_min</th>\n",
       "      <th>act_infl</th>\n",
       "      <th>dir_infl</th>\n",
       "    </tr>\n",
       "  </thead>\n",
       "  <tbody>\n",
       "    <tr>\n",
       "      <th>0</th>\n",
       "      <td>tt2140507</td>\n",
       "      <td>The Current War: Director's Cut</td>\n",
       "      <td>Oct 25, 2019</td>\n",
       "      <td>101 Studios</td>\n",
       "      <td>Drama</td>\n",
       "      <td>Based on Real Life Events</td>\n",
       "      <td>Live Action</td>\n",
       "      <td>Dramatization</td>\n",
       "      <td>30000000</td>\n",
       "      <td>1082</td>\n",
       "      <td>5978673</td>\n",
       "      <td>5978673</td>\n",
       "      <td>2019</td>\n",
       "      <td>0</td>\n",
       "      <td>108</td>\n",
       "      <td>4.757780e+08</td>\n",
       "      <td>0.000000e+00</td>\n",
       "    </tr>\n",
       "    <tr>\n",
       "      <th>1</th>\n",
       "      <td>tt1606378</td>\n",
       "      <td>A Good Day to Die Hard</td>\n",
       "      <td>Feb 14, 2013</td>\n",
       "      <td>20th Century Fox</td>\n",
       "      <td>Action</td>\n",
       "      <td>Original Screenplay</td>\n",
       "      <td>Live Action</td>\n",
       "      <td>Contemporary Fiction</td>\n",
       "      <td>92000000</td>\n",
       "      <td>3555</td>\n",
       "      <td>67349198</td>\n",
       "      <td>75881751</td>\n",
       "      <td>2013</td>\n",
       "      <td>1</td>\n",
       "      <td>98</td>\n",
       "      <td>1.622326e+08</td>\n",
       "      <td>3.029308e+06</td>\n",
       "    </tr>\n",
       "    <tr>\n",
       "      <th>2</th>\n",
       "      <td>tt1611224</td>\n",
       "      <td>Abraham Lincoln: Vampire Hunter</td>\n",
       "      <td>Jun 22, 2012</td>\n",
       "      <td>20th Century Fox</td>\n",
       "      <td>Horror</td>\n",
       "      <td>Based on Fiction Book/Short Story</td>\n",
       "      <td>Live Action</td>\n",
       "      <td>Fantasy</td>\n",
       "      <td>67500000</td>\n",
       "      <td>3109</td>\n",
       "      <td>37519139</td>\n",
       "      <td>43175284</td>\n",
       "      <td>2012</td>\n",
       "      <td>0</td>\n",
       "      <td>105</td>\n",
       "      <td>1.455339e+07</td>\n",
       "      <td>6.916780e+06</td>\n",
       "    </tr>\n",
       "    <tr>\n",
       "      <th>3</th>\n",
       "      <td>tt2935510</td>\n",
       "      <td>Ad Astra</td>\n",
       "      <td>Sep 20, 2019</td>\n",
       "      <td>20th Century Fox</td>\n",
       "      <td>Thriller/Suspense</td>\n",
       "      <td>Original Screenplay</td>\n",
       "      <td>Live Action</td>\n",
       "      <td>Science Fiction</td>\n",
       "      <td>80000000</td>\n",
       "      <td>3460</td>\n",
       "      <td>50188370</td>\n",
       "      <td>50188370</td>\n",
       "      <td>2019</td>\n",
       "      <td>0</td>\n",
       "      <td>123</td>\n",
       "      <td>2.257948e+09</td>\n",
       "      <td>4.875923e+06</td>\n",
       "    </tr>\n",
       "    <tr>\n",
       "      <th>4</th>\n",
       "      <td>tt2316204</td>\n",
       "      <td>Alien: Covenant</td>\n",
       "      <td>May 19, 2017</td>\n",
       "      <td>20th Century Fox</td>\n",
       "      <td>Horror</td>\n",
       "      <td>Original Screenplay</td>\n",
       "      <td>Live Action</td>\n",
       "      <td>Science Fiction</td>\n",
       "      <td>97000000</td>\n",
       "      <td>3772</td>\n",
       "      <td>74262031</td>\n",
       "      <td>75835026</td>\n",
       "      <td>2017</td>\n",
       "      <td>1</td>\n",
       "      <td>122</td>\n",
       "      <td>2.301957e+08</td>\n",
       "      <td>6.396533e+07</td>\n",
       "    </tr>\n",
       "    <tr>\n",
       "      <th>...</th>\n",
       "      <td>...</td>\n",
       "      <td>...</td>\n",
       "      <td>...</td>\n",
       "      <td>...</td>\n",
       "      <td>...</td>\n",
       "      <td>...</td>\n",
       "      <td>...</td>\n",
       "      <td>...</td>\n",
       "      <td>...</td>\n",
       "      <td>...</td>\n",
       "      <td>...</td>\n",
       "      <td>...</td>\n",
       "      <td>...</td>\n",
       "      <td>...</td>\n",
       "      <td>...</td>\n",
       "      <td>...</td>\n",
       "      <td>...</td>\n",
       "    </tr>\n",
       "    <tr>\n",
       "      <th>1503</th>\n",
       "      <td>tt2404425</td>\n",
       "      <td>Woman in Gold</td>\n",
       "      <td>Apr 1, 2015</td>\n",
       "      <td>Weinstein Co.</td>\n",
       "      <td>Drama</td>\n",
       "      <td>Original Screenplay</td>\n",
       "      <td>Live Action</td>\n",
       "      <td>Contemporary Fiction</td>\n",
       "      <td>11000000</td>\n",
       "      <td>2011</td>\n",
       "      <td>33307793</td>\n",
       "      <td>36192094</td>\n",
       "      <td>2015</td>\n",
       "      <td>0</td>\n",
       "      <td>109</td>\n",
       "      <td>2.190229e+08</td>\n",
       "      <td>2.080154e+06</td>\n",
       "    </tr>\n",
       "    <tr>\n",
       "      <th>1504</th>\n",
       "      <td>tt0464154</td>\n",
       "      <td>Piranha 3D</td>\n",
       "      <td>Aug 20, 2010</td>\n",
       "      <td>Weinstein/Dimension</td>\n",
       "      <td>Horror</td>\n",
       "      <td>Remake</td>\n",
       "      <td>Live Action</td>\n",
       "      <td>Science Fiction</td>\n",
       "      <td>24000000</td>\n",
       "      <td>2491</td>\n",
       "      <td>25003155</td>\n",
       "      <td>29027738</td>\n",
       "      <td>2010</td>\n",
       "      <td>0</td>\n",
       "      <td>88</td>\n",
       "      <td>2.397599e+07</td>\n",
       "      <td>7.838763e+05</td>\n",
       "    </tr>\n",
       "    <tr>\n",
       "      <th>1505</th>\n",
       "      <td>tt1262416</td>\n",
       "      <td>Scream 4</td>\n",
       "      <td>Apr 15, 2011</td>\n",
       "      <td>Weinstein/Dimension</td>\n",
       "      <td>Horror</td>\n",
       "      <td>Original Screenplay</td>\n",
       "      <td>Live Action</td>\n",
       "      <td>Contemporary Fiction</td>\n",
       "      <td>40000000</td>\n",
       "      <td>3314</td>\n",
       "      <td>38180928</td>\n",
       "      <td>44103064</td>\n",
       "      <td>2011</td>\n",
       "      <td>0</td>\n",
       "      <td>111</td>\n",
       "      <td>3.070934e+07</td>\n",
       "      <td>5.564623e+05</td>\n",
       "    </tr>\n",
       "    <tr>\n",
       "      <th>1506</th>\n",
       "      <td>tt1403177</td>\n",
       "      <td>Hesher</td>\n",
       "      <td>May 13, 2011</td>\n",
       "      <td>Wrekin Hill Entertainment</td>\n",
       "      <td>Drama</td>\n",
       "      <td>Original Screenplay</td>\n",
       "      <td>Live Action</td>\n",
       "      <td>Contemporary Fiction</td>\n",
       "      <td>7000000</td>\n",
       "      <td>42</td>\n",
       "      <td>382946</td>\n",
       "      <td>442336</td>\n",
       "      <td>2011</td>\n",
       "      <td>0</td>\n",
       "      <td>106</td>\n",
       "      <td>6.446718e+07</td>\n",
       "      <td>0.000000e+00</td>\n",
       "    </tr>\n",
       "    <tr>\n",
       "      <th>1507</th>\n",
       "      <td>tt2402085</td>\n",
       "      <td>Jimi: All is By My Side</td>\n",
       "      <td>Sep 26, 2014</td>\n",
       "      <td>XLrator Media</td>\n",
       "      <td>Drama</td>\n",
       "      <td>Based on Real Life Events</td>\n",
       "      <td>Live Action</td>\n",
       "      <td>Dramatization</td>\n",
       "      <td>5000000</td>\n",
       "      <td>75</td>\n",
       "      <td>340911</td>\n",
       "      <td>382219</td>\n",
       "      <td>2014</td>\n",
       "      <td>0</td>\n",
       "      <td>118</td>\n",
       "      <td>2.512505e+07</td>\n",
       "      <td>0.000000e+00</td>\n",
       "    </tr>\n",
       "  </tbody>\n",
       "</table>\n",
       "<p>1508 rows × 17 columns</p>\n",
       "</div>"
      ],
      "text/plain": [
       "         tconst                            title      released  \\\n",
       "0     tt2140507  The Current War: Director's Cut  Oct 25, 2019   \n",
       "1     tt1606378           A Good Day to Die Hard  Feb 14, 2013   \n",
       "2     tt1611224  Abraham Lincoln: Vampire Hunter  Jun 22, 2012   \n",
       "3     tt2935510                         Ad Astra  Sep 20, 2019   \n",
       "4     tt2316204                  Alien: Covenant  May 19, 2017   \n",
       "...         ...                              ...           ...   \n",
       "1503  tt2404425                    Woman in Gold   Apr 1, 2015   \n",
       "1504  tt0464154                       Piranha 3D  Aug 20, 2010   \n",
       "1505  tt1262416                         Scream 4  Apr 15, 2011   \n",
       "1506  tt1403177                           Hesher  May 13, 2011   \n",
       "1507  tt2402085          Jimi: All is By My Side  Sep 26, 2014   \n",
       "\n",
       "                    distributor              genre  \\\n",
       "0                   101 Studios              Drama   \n",
       "1              20th Century Fox             Action   \n",
       "2              20th Century Fox             Horror   \n",
       "3              20th Century Fox  Thriller/Suspense   \n",
       "4              20th Century Fox             Horror   \n",
       "...                         ...                ...   \n",
       "1503              Weinstein Co.              Drama   \n",
       "1504        Weinstein/Dimension             Horror   \n",
       "1505        Weinstein/Dimension             Horror   \n",
       "1506  Wrekin Hill Entertainment              Drama   \n",
       "1507              XLrator Media              Drama   \n",
       "\n",
       "                                 source   prodmethod          creativetype  \\\n",
       "0             Based on Real Life Events  Live Action         Dramatization   \n",
       "1                   Original Screenplay  Live Action  Contemporary Fiction   \n",
       "2     Based on Fiction Book/Short Story  Live Action               Fantasy   \n",
       "3                   Original Screenplay  Live Action       Science Fiction   \n",
       "4                   Original Screenplay  Live Action       Science Fiction   \n",
       "...                                 ...          ...                   ...   \n",
       "1503                Original Screenplay  Live Action  Contemporary Fiction   \n",
       "1504                             Remake  Live Action       Science Fiction   \n",
       "1505                Original Screenplay  Live Action  Contemporary Fiction   \n",
       "1506                Original Screenplay  Live Action  Contemporary Fiction   \n",
       "1507          Based on Real Life Events  Live Action         Dramatization   \n",
       "\n",
       "      productionbudget  maxtheaters    dombox  inf_dombox  year  franchise  \\\n",
       "0             30000000         1082   5978673     5978673  2019          0   \n",
       "1             92000000         3555  67349198    75881751  2013          1   \n",
       "2             67500000         3109  37519139    43175284  2012          0   \n",
       "3             80000000         3460  50188370    50188370  2019          0   \n",
       "4             97000000         3772  74262031    75835026  2017          1   \n",
       "...                ...          ...       ...         ...   ...        ...   \n",
       "1503          11000000         2011  33307793    36192094  2015          0   \n",
       "1504          24000000         2491  25003155    29027738  2010          0   \n",
       "1505          40000000         3314  38180928    44103064  2011          0   \n",
       "1506           7000000           42    382946      442336  2011          0   \n",
       "1507           5000000           75    340911      382219  2014          0   \n",
       "\n",
       "     runtime_min      act_infl      dir_infl  \n",
       "0            108  4.757780e+08  0.000000e+00  \n",
       "1             98  1.622326e+08  3.029308e+06  \n",
       "2            105  1.455339e+07  6.916780e+06  \n",
       "3            123  2.257948e+09  4.875923e+06  \n",
       "4            122  2.301957e+08  6.396533e+07  \n",
       "...          ...           ...           ...  \n",
       "1503         109  2.190229e+08  2.080154e+06  \n",
       "1504          88  2.397599e+07  7.838763e+05  \n",
       "1505         111  3.070934e+07  5.564623e+05  \n",
       "1506         106  6.446718e+07  0.000000e+00  \n",
       "1507         118  2.512505e+07  0.000000e+00  \n",
       "\n",
       "[1508 rows x 17 columns]"
      ]
     },
     "execution_count": 789,
     "metadata": {},
     "output_type": "execute_result"
    }
   ],
   "source": [
    "merged_df"
   ]
  },
  {
   "cell_type": "code",
   "execution_count": 794,
   "metadata": {
    "ExecuteTime": {
     "end_time": "2021-09-07T14:29:48.550045Z",
     "start_time": "2021-09-07T14:29:48.506043Z"
    }
   },
   "outputs": [],
   "source": [
    "merged_df.to_csv('./data/merged_regress_df.csv', encoding='utf-8')"
   ]
  },
  {
   "cell_type": "code",
   "execution_count": 801,
   "metadata": {
    "ExecuteTime": {
     "end_time": "2021-09-07T14:33:15.390948Z",
     "start_time": "2021-09-07T14:33:14.807410Z"
    }
   },
   "outputs": [],
   "source": [
    "merged_df['runtime_min'].replace(to_replace='\\\\N',value=90,inplace=True )"
   ]
  },
  {
   "cell_type": "code",
   "execution_count": 891,
   "metadata": {
    "ExecuteTime": {
     "end_time": "2021-09-08T14:49:47.145639Z",
     "start_time": "2021-09-08T14:49:46.506707Z"
    }
   },
   "outputs": [],
   "source": [
    "merged_df['maxtheaters'].replace(to_replace=0,value=100,inplace=True )"
   ]
  },
  {
   "cell_type": "code",
   "execution_count": null,
   "metadata": {},
   "outputs": [],
   "source": []
  },
  {
   "cell_type": "code",
   "execution_count": 817,
   "metadata": {
    "ExecuteTime": {
     "end_time": "2021-09-07T15:16:22.075190Z",
     "start_time": "2021-09-07T15:16:21.950192Z"
    }
   },
   "outputs": [],
   "source": [
    "merged_df['act_infl'].replace(to_replace=0.000000e+00,value=.01,inplace=True )\n",
    "merged_df['dir_infl'].replace(to_replace=0.000000e+00,value=.01,inplace=True )     "
   ]
  },
  {
   "cell_type": "code",
   "execution_count": 803,
   "metadata": {
    "ExecuteTime": {
     "end_time": "2021-09-07T14:33:49.731535Z",
     "start_time": "2021-09-07T14:33:49.553535Z"
    }
   },
   "outputs": [],
   "source": [
    "merged_df['runtime_min'] = pd.to_numeric(merged_df['runtime_min'])"
   ]
  },
  {
   "cell_type": "code",
   "execution_count": 959,
   "metadata": {
    "ExecuteTime": {
     "end_time": "2021-09-09T05:52:45.192643Z",
     "start_time": "2021-09-09T05:52:45.085615Z"
    }
   },
   "outputs": [],
   "source": [
    "merged_df['distributor'] = merged_df.distributor.str.replace(' ', '_')\n",
    "merged_df['genre'] = merged_df.genre.str.replace(' ','_')\n",
    "merged_df['source'] = merged_df.source.str.replace(' ','_')\n",
    "merged_df['prodmethod'] = merged_df.prodmethod.str.replace(' ','_')\n",
    "merged_df['creativetype'] = merged_df.creativetype.str.replace(' ','_')\n",
    "\n",
    "merged_df['distributor'] = merged_df.distributor.str.replace('/', '')\n",
    "merged_df['genre'] = merged_df.genre.str.replace('/','')\n",
    "merged_df['source'] = merged_df.source.str.replace('/','')\n",
    "merged_df['prodmethod'] = merged_df.prodmethod.str.replace('/','')\n",
    "merged_df['creativetype'] = merged_df.creativetype.str.replace('/','')\n",
    "\n",
    "merged_df['distributor'] = merged_df.distributor.str.replace('.', '')\n",
    "merged_df['genre'] = merged_df.genre.str.replace('.','')\n",
    "merged_df['source'] = merged_df.source.str.replace('.','')\n",
    "merged_df['prodmethod'] = merged_df.prodmethod.str.replace('.','')\n",
    "merged_df['creativetype'] = merged_df.creativetype.str.replace('.','')\n",
    "\n",
    "merged_df['distributor'] = merged_df.distributor.str.replace('&', 'and')\n",
    "merged_df['genre'] = merged_df.genre.str.replace('&','and')\n",
    "merged_df['source'] = merged_df.source.str.replace('&','and')\n",
    "merged_df['prodmethod'] = merged_df.prodmethod.str.replace('&','and')\n",
    "merged_df['creativetype'] = merged_df.creativetype.str.replace('&','and')\n",
    "\n",
    "merged_df['distributor'] = merged_df.distributor.str.replace('-', '_')\n",
    "merged_df['genre'] = merged_df.genre.str.replace('-','_')\n",
    "merged_df['source'] = merged_df.source.str.replace('-','_')\n",
    "merged_df['prodmethod'] = merged_df.prodmethod.str.replace('-','_')\n",
    "merged_df['creativetype'] = merged_df.creativetype.str.replace('-','_')"
   ]
  },
  {
   "cell_type": "code",
   "execution_count": 927,
   "metadata": {
    "ExecuteTime": {
     "end_time": "2021-09-09T05:42:37.023649Z",
     "start_time": "2021-09-09T05:42:35.397808Z"
    }
   },
   "outputs": [
    {
     "name": "stdout",
     "output_type": "stream",
     "text": [
      "<class 'pandas.core.frame.DataFrame'>\n",
      "RangeIndex: 1508 entries, 0 to 1507\n",
      "Data columns (total 17 columns):\n",
      " #   Column            Non-Null Count  Dtype  \n",
      "---  ------            --------------  -----  \n",
      " 0   tconst            1508 non-null   object \n",
      " 1   title             1508 non-null   object \n",
      " 2   released          1508 non-null   object \n",
      " 3   distributor       1508 non-null   object \n",
      " 4   genre             1508 non-null   object \n",
      " 5   source            1508 non-null   object \n",
      " 6   prodmethod        1508 non-null   object \n",
      " 7   creativetype      1508 non-null   object \n",
      " 8   productionbudget  1508 non-null   int64  \n",
      " 9   maxtheaters       1508 non-null   int64  \n",
      " 10  dombox            1508 non-null   int64  \n",
      " 11  inf_dombox        1508 non-null   int64  \n",
      " 12  year              1508 non-null   int64  \n",
      " 13  franchise         1508 non-null   int64  \n",
      " 14  runtime_min       1508 non-null   int64  \n",
      " 15  act_infl          1508 non-null   float64\n",
      " 16  dir_infl          1508 non-null   float64\n",
      "dtypes: float64(2), int64(7), object(8)\n",
      "memory usage: 200.4+ KB\n"
     ]
    }
   ],
   "source": [
    "merged_df.info()"
   ]
  },
  {
   "cell_type": "code",
   "execution_count": 960,
   "metadata": {
    "ExecuteTime": {
     "end_time": "2021-09-09T05:53:02.167469Z",
     "start_time": "2021-09-09T05:53:02.156512Z"
    }
   },
   "outputs": [
    {
     "data": {
      "text/plain": [
       "array(['101_Studios', '20th_Century_Fox', 'A24', 'Abramorama_Films',\n",
       "       'AFFRM', 'Alchemy', 'Amazon_Studios',\n",
       "       'Amazon_StudiosRoadside_Attractions', 'Anchor_Bay_Entertainment',\n",
       "       'Annapurna_Pictures', 'Apparition', 'Atlas_Distribution',\n",
       "       'Aviron_Pictures', 'BH_Tilt', 'Bleecker_Street',\n",
       "       'Briarcliffe_Entertainment', 'Broad_Green_Pictures', 'CBS_Films',\n",
       "       'Cinelou_Releasing', 'Clarius_Entertainment',\n",
       "       'Codeblack_Entertainment', 'Cohen_Media_Group', 'Drafthouse_Films',\n",
       "       'Echolight_Studios', 'Electric_Entertainment',\n",
       "       'Elevation_Pictures', 'Entertainment_One',\n",
       "       'Entertainment_Studios_Motion_Pictures', 'EuropaCorp',\n",
       "       'Exclusive_Releasing', 'Fathom_Events', 'FilmDistrict',\n",
       "       'Five_and_Two_Pictures', 'Focus_Features', 'Focus_World',\n",
       "       'Fox_Searchlight', 'Freestyle_Releasing',\n",
       "       'Fun_Academy_Motion_Pictures', 'FUNimation', 'GKIDS',\n",
       "       'Global_Road', 'Good_Deed_Entertainment', 'Gunpowder_and_Sky',\n",
       "       'GVN_Releasing', 'Hammond_Entertainment', 'High_Top_Releasing',\n",
       "       'IFC_Films', 'Image_Entertainment', 'Indican_Pictures',\n",
       "       'LD_Distribution', 'Lionsgate', 'LionsgateRoadside_Attractions',\n",
       "       'Magnet_Pictures', 'Magnolia_Pictures', 'MGM', 'Miramax',\n",
       "       'Mongrel_Media', 'Monterey_Media', 'Music_Box_Films', 'Neon',\n",
       "       'New_Films_Cinema', 'OminFreestyle', 'Open_Road', 'Orion_Pictures',\n",
       "       'Oscilloscope_Pictures', 'OTL_Releasing', 'Overture_Films',\n",
       "       'Paladin', 'Paramount_Pictures', 'Paramount_Vantage',\n",
       "       'Peace_Film_LLC', 'Picturehouse', 'Purdie_Distribution',\n",
       "       'Pure_Flix_Entertainment', 'Radius', 'RADiUS_TWC', 'Relativity',\n",
       "       'Roadside_Attractions', 'Rocky_Mountain_Pictures', 'Saban_Films',\n",
       "       'Samuel_Goldwyn_Films', 'Smith_Global_Media',\n",
       "       'Smodshow_Productions', 'Sony_Pictures', 'Sony_Pictures_Classics',\n",
       "       'STX_Entertainment', 'Summit_Entertainment', 'Sundance_Selects',\n",
       "       'Ten_Furlongs', 'The_Bubble_Factory', 'The_Orchard',\n",
       "       'TriBeca_Films', 'United_Artists', 'Universal', 'Variance_Films',\n",
       "       'Vertical_Entertainment', 'Viva_Entertainment',\n",
       "       'Vivendi_Entertainment', 'Walt_Disney', 'Warner_Bros',\n",
       "       'Weinstein_Co', 'WeinsteinDimension', 'Wrekin_Hill_Entertainment',\n",
       "       'XLrator_Media'], dtype=object)"
      ]
     },
     "execution_count": 960,
     "metadata": {},
     "output_type": "execute_result"
    }
   ],
   "source": [
    "merged_df.distributor.unique()"
   ]
  },
  {
   "cell_type": "code",
   "execution_count": 961,
   "metadata": {
    "ExecuteTime": {
     "end_time": "2021-09-09T05:53:19.985667Z",
     "start_time": "2021-09-09T05:53:19.956662Z"
    }
   },
   "outputs": [
    {
     "data": {
      "text/plain": [
       "array(['101_Studios', '20th_Century_Fox', 'A24', 'Abramorama_Films',\n",
       "       'AFFRM', 'Alchemy', 'Amazon_Studios',\n",
       "       'Amazon_StudiosRoadside_Attractions', 'Anchor_Bay_Entertainment',\n",
       "       'Annapurna_Pictures', 'Apparition', 'Atlas_Distribution',\n",
       "       'Aviron_Pictures', 'BH_Tilt', 'Bleecker_Street',\n",
       "       'Briarcliffe_Entertainment', 'Broad_Green_Pictures', 'CBS_Films',\n",
       "       'Cinelou_Releasing', 'Clarius_Entertainment',\n",
       "       'Codeblack_Entertainment', 'Cohen_Media_Group', 'Drafthouse_Films',\n",
       "       'Echolight_Studios', 'Electric_Entertainment',\n",
       "       'Elevation_Pictures', 'Entertainment_One',\n",
       "       'Entertainment_Studios_Motion_Pictures', 'EuropaCorp',\n",
       "       'Exclusive_Releasing', 'Fathom_Events', 'FilmDistrict',\n",
       "       'Five_and_Two_Pictures', 'Focus_Features', 'Focus_World',\n",
       "       'Fox_Searchlight', 'Freestyle_Releasing',\n",
       "       'Fun_Academy_Motion_Pictures', 'FUNimation', 'GKIDS',\n",
       "       'Global_Road', 'Good_Deed_Entertainment', 'Gunpowder_and_Sky',\n",
       "       'GVN_Releasing', 'Hammond_Entertainment', 'High_Top_Releasing',\n",
       "       'IFC_Films', 'Image_Entertainment', 'Indican_Pictures',\n",
       "       'LD_Distribution', 'Lionsgate', 'LionsgateRoadside_Attractions',\n",
       "       'Magnet_Pictures', 'Magnolia_Pictures', 'MGM', 'Miramax',\n",
       "       'Mongrel_Media', 'Monterey_Media', 'Music_Box_Films', 'Neon',\n",
       "       'New_Films_Cinema', 'OminFreestyle', 'Open_Road', 'Orion_Pictures',\n",
       "       'Oscilloscope_Pictures', 'OTL_Releasing', 'Overture_Films',\n",
       "       'Paladin', 'Paramount_Pictures', 'Paramount_Vantage',\n",
       "       'Peace_Film_LLC', 'Picturehouse', 'Purdie_Distribution',\n",
       "       'Pure_Flix_Entertainment', 'Radius', 'RADiUS_TWC', 'Relativity',\n",
       "       'Roadside_Attractions', 'Rocky_Mountain_Pictures', 'Saban_Films',\n",
       "       'Samuel_Goldwyn_Films', 'Smith_Global_Media',\n",
       "       'Smodshow_Productions', 'Sony_Pictures', 'Sony_Pictures_Classics',\n",
       "       'STX_Entertainment', 'Summit_Entertainment', 'Sundance_Selects',\n",
       "       'Ten_Furlongs', 'The_Bubble_Factory', 'The_Orchard',\n",
       "       'TriBeca_Films', 'United_Artists', 'Universal', 'Variance_Films',\n",
       "       'Vertical_Entertainment', 'Viva_Entertainment',\n",
       "       'Vivendi_Entertainment', 'Walt_Disney', 'Warner_Bros',\n",
       "       'Weinstein_Co', 'WeinsteinDimension', 'Wrekin_Hill_Entertainment',\n",
       "       'XLrator_Media'], dtype=object)"
      ]
     },
     "execution_count": 961,
     "metadata": {},
     "output_type": "execute_result"
    }
   ],
   "source": [
    "merged_df.distributor.unique()"
   ]
  },
  {
   "cell_type": "code",
   "execution_count": 962,
   "metadata": {
    "ExecuteTime": {
     "end_time": "2021-09-09T05:53:29.530366Z",
     "start_time": "2021-09-09T05:53:29.521399Z"
    },
    "scrolled": true
   },
   "outputs": [
    {
     "data": {
      "text/plain": [
       "array(['Drama', 'Action', 'Horror', 'ThrillerSuspense', 'Adventure',\n",
       "       'Comedy', 'Musical', 'ConcertPerformance', 'Romantic_Comedy',\n",
       "       'Black_Comedy', 'Western', 'Documentary'], dtype=object)"
      ]
     },
     "execution_count": 962,
     "metadata": {},
     "output_type": "execute_result"
    }
   ],
   "source": [
    "merged_df.genre.unique()      "
   ]
  },
  {
   "cell_type": "code",
   "execution_count": 963,
   "metadata": {
    "ExecuteTime": {
     "end_time": "2021-09-09T05:53:32.955143Z",
     "start_time": "2021-09-09T05:53:32.945142Z"
    }
   },
   "outputs": [
    {
     "data": {
      "text/plain": [
       "array(['Based_on_Real_Life_Events', 'Original_Screenplay',\n",
       "       'Based_on_Fiction_BookShort_Story', 'Based_on_ComicGraphic_Novel',\n",
       "       'Based_on_TV', 'Based_on_Game', 'Based_on_Play',\n",
       "       'Based_on_Factual_BookArticle', 'Remake',\n",
       "       'Based_on_Religious_Text', 'Spin_Off', 'Based_on_Short_Film',\n",
       "       'Based_on_Toy', 'Based_on_Movie',\n",
       "       'Based_on_Folk_TaleLegendFairytale', 'Based_on_Musical_Group',\n",
       "       'Based_on_Musical_or_Opera', 'Compilation', 'Based_on_Song',\n",
       "       'Based_on_Theme_Park_Ride'], dtype=object)"
      ]
     },
     "execution_count": 963,
     "metadata": {},
     "output_type": "execute_result"
    }
   ],
   "source": [
    "merged_df.source.unique() "
   ]
  },
  {
   "cell_type": "code",
   "execution_count": 964,
   "metadata": {
    "ExecuteTime": {
     "end_time": "2021-09-09T05:53:41.046578Z",
     "start_time": "2021-09-09T05:53:41.038608Z"
    }
   },
   "outputs": [
    {
     "data": {
      "text/plain": [
       "array(['Live_Action', 'AnimationLive_Action', 'Digital_Animation',\n",
       "       'Stop_Motion_Animation', 'Hand_Animation',\n",
       "       'Multiple_Production_Methods'], dtype=object)"
      ]
     },
     "execution_count": 964,
     "metadata": {},
     "output_type": "execute_result"
    }
   ],
   "source": [
    "merged_df.prodmethod.unique()"
   ]
  },
  {
   "cell_type": "code",
   "execution_count": 965,
   "metadata": {
    "ExecuteTime": {
     "end_time": "2021-09-09T05:53:43.846987Z",
     "start_time": "2021-09-09T05:53:43.837994Z"
    }
   },
   "outputs": [
    {
     "data": {
      "text/plain": [
       "array(['Live_Action', 'AnimationLive_Action', 'Digital_Animation',\n",
       "       'Stop_Motion_Animation', 'Hand_Animation',\n",
       "       'Multiple_Production_Methods'], dtype=object)"
      ]
     },
     "execution_count": 965,
     "metadata": {},
     "output_type": "execute_result"
    }
   ],
   "source": [
    "merged_df.creativetype.unique()"
   ]
  },
  {
   "cell_type": "code",
   "execution_count": 966,
   "metadata": {
    "ExecuteTime": {
     "end_time": "2021-09-09T05:53:46.372284Z",
     "start_time": "2021-09-09T05:53:46.291284Z"
    },
    "scrolled": false
   },
   "outputs": [
    {
     "data": {
      "text/html": [
       "<div>\n",
       "<style scoped>\n",
       "    .dataframe tbody tr th:only-of-type {\n",
       "        vertical-align: middle;\n",
       "    }\n",
       "\n",
       "    .dataframe tbody tr th {\n",
       "        vertical-align: top;\n",
       "    }\n",
       "\n",
       "    .dataframe thead th {\n",
       "        text-align: right;\n",
       "    }\n",
       "</style>\n",
       "<table border=\"1\" class=\"dataframe\">\n",
       "  <thead>\n",
       "    <tr style=\"text-align: right;\">\n",
       "      <th></th>\n",
       "      <th>count</th>\n",
       "      <th>mean</th>\n",
       "      <th>std</th>\n",
       "      <th>min</th>\n",
       "      <th>25%</th>\n",
       "      <th>50%</th>\n",
       "      <th>75%</th>\n",
       "      <th>max</th>\n",
       "    </tr>\n",
       "  </thead>\n",
       "  <tbody>\n",
       "    <tr>\n",
       "      <th>productionbudget</th>\n",
       "      <td>1508.0</td>\n",
       "      <td>4.986676e+07</td>\n",
       "      <td>5.762856e+07</td>\n",
       "      <td>1.000000e+05</td>\n",
       "      <td>1.000000e+07</td>\n",
       "      <td>3.000000e+07</td>\n",
       "      <td>6.500000e+07</td>\n",
       "      <td>4.000000e+08</td>\n",
       "    </tr>\n",
       "    <tr>\n",
       "      <th>maxtheaters</th>\n",
       "      <td>1508.0</td>\n",
       "      <td>2.441458e+03</td>\n",
       "      <td>1.294936e+03</td>\n",
       "      <td>2.000000e+00</td>\n",
       "      <td>1.472250e+03</td>\n",
       "      <td>2.826000e+03</td>\n",
       "      <td>3.416250e+03</td>\n",
       "      <td>4.802000e+03</td>\n",
       "    </tr>\n",
       "    <tr>\n",
       "      <th>dombox</th>\n",
       "      <td>1508.0</td>\n",
       "      <td>6.574160e+07</td>\n",
       "      <td>9.473145e+07</td>\n",
       "      <td>5.308600e+04</td>\n",
       "      <td>1.016541e+07</td>\n",
       "      <td>3.455602e+07</td>\n",
       "      <td>8.000507e+07</td>\n",
       "      <td>9.366622e+08</td>\n",
       "    </tr>\n",
       "    <tr>\n",
       "      <th>inf_dombox</th>\n",
       "      <td>1508.0</td>\n",
       "      <td>7.138618e+07</td>\n",
       "      <td>1.014798e+08</td>\n",
       "      <td>5.768100e+04</td>\n",
       "      <td>1.080721e+07</td>\n",
       "      <td>3.719002e+07</td>\n",
       "      <td>8.718419e+07</td>\n",
       "      <td>1.012399e+09</td>\n",
       "    </tr>\n",
       "    <tr>\n",
       "      <th>year</th>\n",
       "      <td>1508.0</td>\n",
       "      <td>2.014338e+03</td>\n",
       "      <td>2.821794e+00</td>\n",
       "      <td>2.010000e+03</td>\n",
       "      <td>2.012000e+03</td>\n",
       "      <td>2.014000e+03</td>\n",
       "      <td>2.017000e+03</td>\n",
       "      <td>2.019000e+03</td>\n",
       "    </tr>\n",
       "    <tr>\n",
       "      <th>franchise</th>\n",
       "      <td>1508.0</td>\n",
       "      <td>2.015915e-01</td>\n",
       "      <td>4.013218e-01</td>\n",
       "      <td>0.000000e+00</td>\n",
       "      <td>0.000000e+00</td>\n",
       "      <td>0.000000e+00</td>\n",
       "      <td>0.000000e+00</td>\n",
       "      <td>1.000000e+00</td>\n",
       "    </tr>\n",
       "    <tr>\n",
       "      <th>runtime_min</th>\n",
       "      <td>1508.0</td>\n",
       "      <td>1.083309e+02</td>\n",
       "      <td>1.781256e+01</td>\n",
       "      <td>4.900000e+01</td>\n",
       "      <td>9.500000e+01</td>\n",
       "      <td>1.060000e+02</td>\n",
       "      <td>1.190000e+02</td>\n",
       "      <td>1.810000e+02</td>\n",
       "    </tr>\n",
       "    <tr>\n",
       "      <th>act_infl</th>\n",
       "      <td>1508.0</td>\n",
       "      <td>2.248539e+08</td>\n",
       "      <td>3.863954e+08</td>\n",
       "      <td>1.000000e-02</td>\n",
       "      <td>1.392376e+07</td>\n",
       "      <td>7.546240e+07</td>\n",
       "      <td>2.520384e+08</td>\n",
       "      <td>3.675588e+09</td>\n",
       "    </tr>\n",
       "    <tr>\n",
       "      <th>dir_infl</th>\n",
       "      <td>1508.0</td>\n",
       "      <td>7.774019e+06</td>\n",
       "      <td>2.746204e+07</td>\n",
       "      <td>2.444958e-08</td>\n",
       "      <td>1.000000e-02</td>\n",
       "      <td>3.268246e+05</td>\n",
       "      <td>5.062191e+06</td>\n",
       "      <td>5.330259e+08</td>\n",
       "    </tr>\n",
       "  </tbody>\n",
       "</table>\n",
       "</div>"
      ],
      "text/plain": [
       "                   count          mean           std           min  \\\n",
       "productionbudget  1508.0  4.986676e+07  5.762856e+07  1.000000e+05   \n",
       "maxtheaters       1508.0  2.441458e+03  1.294936e+03  2.000000e+00   \n",
       "dombox            1508.0  6.574160e+07  9.473145e+07  5.308600e+04   \n",
       "inf_dombox        1508.0  7.138618e+07  1.014798e+08  5.768100e+04   \n",
       "year              1508.0  2.014338e+03  2.821794e+00  2.010000e+03   \n",
       "franchise         1508.0  2.015915e-01  4.013218e-01  0.000000e+00   \n",
       "runtime_min       1508.0  1.083309e+02  1.781256e+01  4.900000e+01   \n",
       "act_infl          1508.0  2.248539e+08  3.863954e+08  1.000000e-02   \n",
       "dir_infl          1508.0  7.774019e+06  2.746204e+07  2.444958e-08   \n",
       "\n",
       "                           25%           50%           75%           max  \n",
       "productionbudget  1.000000e+07  3.000000e+07  6.500000e+07  4.000000e+08  \n",
       "maxtheaters       1.472250e+03  2.826000e+03  3.416250e+03  4.802000e+03  \n",
       "dombox            1.016541e+07  3.455602e+07  8.000507e+07  9.366622e+08  \n",
       "inf_dombox        1.080721e+07  3.719002e+07  8.718419e+07  1.012399e+09  \n",
       "year              2.012000e+03  2.014000e+03  2.017000e+03  2.019000e+03  \n",
       "franchise         0.000000e+00  0.000000e+00  0.000000e+00  1.000000e+00  \n",
       "runtime_min       9.500000e+01  1.060000e+02  1.190000e+02  1.810000e+02  \n",
       "act_infl          1.392376e+07  7.546240e+07  2.520384e+08  3.675588e+09  \n",
       "dir_infl          1.000000e-02  3.268246e+05  5.062191e+06  5.330259e+08  "
      ]
     },
     "execution_count": 966,
     "metadata": {},
     "output_type": "execute_result"
    }
   ],
   "source": [
    "merged_df.describe().T"
   ]
  },
  {
   "cell_type": "code",
   "execution_count": 967,
   "metadata": {
    "ExecuteTime": {
     "end_time": "2021-09-09T05:53:53.600734Z",
     "start_time": "2021-09-09T05:53:53.594728Z"
    }
   },
   "outputs": [],
   "source": [
    "del movies_ohe\n",
    "del preprocessed"
   ]
  },
  {
   "cell_type": "code",
   "execution_count": 968,
   "metadata": {
    "ExecuteTime": {
     "end_time": "2021-09-09T05:53:56.289333Z",
     "start_time": "2021-09-09T05:53:56.284335Z"
    }
   },
   "outputs": [],
   "source": [
    "continuous = ['productionbudget', 'maxtheaters', 'dombox','inf_dombox','runtime_min','act_infl','dir_infl' ]\n",
    "categoricals = ['distributor', 'genre', 'source', 'prodmethod', 'creativetype',]"
   ]
  },
  {
   "cell_type": "code",
   "execution_count": 942,
   "metadata": {
    "ExecuteTime": {
     "end_time": "2021-09-09T05:46:51.655067Z",
     "start_time": "2021-09-09T05:46:51.649048Z"
    }
   },
   "outputs": [],
   "source": []
  },
  {
   "cell_type": "code",
   "execution_count": 969,
   "metadata": {
    "ExecuteTime": {
     "end_time": "2021-09-09T05:53:58.632412Z",
     "start_time": "2021-09-09T05:53:58.548421Z"
    }
   },
   "outputs": [],
   "source": [
    "movies_cont = merged_df[continuous]\n",
    "\n",
    "# log features\n",
    "log_names = [f'{column}_log' for column in movies_cont.columns]\n",
    "\n",
    "movies_log = np.log(movies_cont)\n",
    "movies_log.columns = log_names\n",
    "\n",
    "# normalize (subract mean and divide by std)\n",
    "def normalize(feature):\n",
    "    return (feature - feature.mean()) / feature.std()\n",
    "\n",
    "movies_log_norm = movies_log.apply(normalize)\n",
    "\n",
    "# one hot encode categoricals\n",
    "movies_ohe = pd.get_dummies(merged_df[categoricals], prefix=categoricals, drop_first=True)\n",
    "preprocessed = pd.concat([movies_log_norm,merged_df['franchise'] ,movies_ohe], axis=1)"
   ]
  },
  {
   "cell_type": "markdown",
   "metadata": {},
   "source": [
    "## Baseline Model- regression on inflation domestic boxoffice"
   ]
  },
  {
   "cell_type": "code",
   "execution_count": 970,
   "metadata": {
    "ExecuteTime": {
     "end_time": "2021-09-09T05:54:01.408639Z",
     "start_time": "2021-09-09T05:54:01.356640Z"
    }
   },
   "outputs": [
    {
     "name": "stdout",
     "output_type": "stream",
     "text": [
      "productionbudget_log+maxtheaters_log+dombox_log+inf_dombox_log+runtime_min_log+act_infl_log+dir_infl_log+franchise+distributor_20th_Century_Fox+distributor_A24+distributor_AFFRM+distributor_Abramorama_Films+distributor_Alchemy+distributor_Amazon_Studios+distributor_Amazon_StudiosRoadside_Attractions+distributor_Anchor_Bay_Entertainment+distributor_Annapurna_Pictures+distributor_Apparition+distributor_Atlas_Distribution+distributor_Aviron_Pictures+distributor_BH_Tilt+distributor_Bleecker_Street+distributor_Briarcliffe_Entertainment+distributor_Broad_Green_Pictures+distributor_CBS_Films+distributor_Cinelou_Releasing+distributor_Clarius_Entertainment+distributor_Codeblack_Entertainment+distributor_Cohen_Media_Group+distributor_Drafthouse_Films+distributor_Echolight_Studios+distributor_Electric_Entertainment+distributor_Elevation_Pictures+distributor_Entertainment_One+distributor_Entertainment_Studios_Motion_Pictures+distributor_EuropaCorp+distributor_Exclusive_Releasing+distributor_FUNimation+distributor_Fathom_Events+distributor_FilmDistrict+distributor_Five_and_Two_Pictures+distributor_Focus_Features+distributor_Focus_World+distributor_Fox_Searchlight+distributor_Freestyle_Releasing+distributor_Fun_Academy_Motion_Pictures+distributor_GKIDS+distributor_GVN_Releasing+distributor_Global_Road+distributor_Good_Deed_Entertainment+distributor_Gunpowder_and_Sky+distributor_Hammond_Entertainment+distributor_High_Top_Releasing+distributor_IFC_Films+distributor_Image_Entertainment+distributor_Indican_Pictures+distributor_LD_Distribution+distributor_Lionsgate+distributor_LionsgateRoadside_Attractions+distributor_MGM+distributor_Magnet_Pictures+distributor_Magnolia_Pictures+distributor_Miramax+distributor_Mongrel_Media+distributor_Monterey_Media+distributor_Music_Box_Films+distributor_Neon+distributor_New_Films_Cinema+distributor_OTL_Releasing+distributor_OminFreestyle+distributor_Open_Road+distributor_Orion_Pictures+distributor_Oscilloscope_Pictures+distributor_Overture_Films+distributor_Paladin+distributor_Paramount_Pictures+distributor_Paramount_Vantage+distributor_Peace_Film_LLC+distributor_Picturehouse+distributor_Purdie_Distribution+distributor_Pure_Flix_Entertainment+distributor_RADiUS_TWC+distributor_Radius+distributor_Relativity+distributor_Roadside_Attractions+distributor_Rocky_Mountain_Pictures+distributor_STX_Entertainment+distributor_Saban_Films+distributor_Samuel_Goldwyn_Films+distributor_Smith_Global_Media+distributor_Smodshow_Productions+distributor_Sony_Pictures+distributor_Sony_Pictures_Classics+distributor_Summit_Entertainment+distributor_Sundance_Selects+distributor_Ten_Furlongs+distributor_The_Bubble_Factory+distributor_The_Orchard+distributor_TriBeca_Films+distributor_United_Artists+distributor_Universal+distributor_Variance_Films+distributor_Vertical_Entertainment+distributor_Viva_Entertainment+distributor_Vivendi_Entertainment+distributor_Walt_Disney+distributor_Warner_Bros+distributor_WeinsteinDimension+distributor_Weinstein_Co+distributor_Wrekin_Hill_Entertainment+distributor_XLrator_Media+genre_Adventure+genre_Black_Comedy+genre_Comedy+genre_ConcertPerformance+genre_Documentary+genre_Drama+genre_Horror+genre_Musical+genre_Romantic_Comedy+genre_ThrillerSuspense+genre_Western+source_Based_on_Factual_BookArticle+source_Based_on_Fiction_BookShort_Story+source_Based_on_Folk_TaleLegendFairytale+source_Based_on_Game+source_Based_on_Movie+source_Based_on_Musical_Group+source_Based_on_Musical_or_Opera+source_Based_on_Play+source_Based_on_Real_Life_Events+source_Based_on_Religious_Text+source_Based_on_Short_Film+source_Based_on_Song+source_Based_on_TV+source_Based_on_Theme_Park_Ride+source_Based_on_Toy+source_Compilation+source_Original_Screenplay+source_Remake+source_Spin_Off+prodmethod_Digital_Animation+prodmethod_Hand_Animation+prodmethod_Live_Action+prodmethod_Multiple_Production_Methods+prodmethod_Stop_Motion_Animation+creativetype_Digital_Animation+creativetype_Hand_Animation+creativetype_Live_Action+creativetype_Multiple_Production_Methods+creativetype_Stop_Motion_Animation\n",
      "inf_dombox_log~productionbudget_log+maxtheaters_log+dombox_log+inf_dombox_log+runtime_min_log+act_infl_log+dir_infl_log+franchise+distributor_20th_Century_Fox+distributor_A24+distributor_AFFRM+distributor_Abramorama_Films+distributor_Alchemy+distributor_Amazon_Studios+distributor_Amazon_StudiosRoadside_Attractions+distributor_Anchor_Bay_Entertainment+distributor_Annapurna_Pictures+distributor_Apparition+distributor_Atlas_Distribution+distributor_Aviron_Pictures+distributor_BH_Tilt+distributor_Bleecker_Street+distributor_Briarcliffe_Entertainment+distributor_Broad_Green_Pictures+distributor_CBS_Films+distributor_Cinelou_Releasing+distributor_Clarius_Entertainment+distributor_Codeblack_Entertainment+distributor_Cohen_Media_Group+distributor_Drafthouse_Films+distributor_Echolight_Studios+distributor_Electric_Entertainment+distributor_Elevation_Pictures+distributor_Entertainment_One+distributor_Entertainment_Studios_Motion_Pictures+distributor_EuropaCorp+distributor_Exclusive_Releasing+distributor_FUNimation+distributor_Fathom_Events+distributor_FilmDistrict+distributor_Five_and_Two_Pictures+distributor_Focus_Features+distributor_Focus_World+distributor_Fox_Searchlight+distributor_Freestyle_Releasing+distributor_Fun_Academy_Motion_Pictures+distributor_GKIDS+distributor_GVN_Releasing+distributor_Global_Road+distributor_Good_Deed_Entertainment+distributor_Gunpowder_and_Sky+distributor_Hammond_Entertainment+distributor_High_Top_Releasing+distributor_IFC_Films+distributor_Image_Entertainment+distributor_Indican_Pictures+distributor_LD_Distribution+distributor_Lionsgate+distributor_LionsgateRoadside_Attractions+distributor_MGM+distributor_Magnet_Pictures+distributor_Magnolia_Pictures+distributor_Miramax+distributor_Mongrel_Media+distributor_Monterey_Media+distributor_Music_Box_Films+distributor_Neon+distributor_New_Films_Cinema+distributor_OTL_Releasing+distributor_OminFreestyle+distributor_Open_Road+distributor_Orion_Pictures+distributor_Oscilloscope_Pictures+distributor_Overture_Films+distributor_Paladin+distributor_Paramount_Pictures+distributor_Paramount_Vantage+distributor_Peace_Film_LLC+distributor_Picturehouse+distributor_Purdie_Distribution+distributor_Pure_Flix_Entertainment+distributor_RADiUS_TWC+distributor_Radius+distributor_Relativity+distributor_Roadside_Attractions+distributor_Rocky_Mountain_Pictures+distributor_STX_Entertainment+distributor_Saban_Films+distributor_Samuel_Goldwyn_Films+distributor_Smith_Global_Media+distributor_Smodshow_Productions+distributor_Sony_Pictures+distributor_Sony_Pictures_Classics+distributor_Summit_Entertainment+distributor_Sundance_Selects+distributor_Ten_Furlongs+distributor_The_Bubble_Factory+distributor_The_Orchard+distributor_TriBeca_Films+distributor_United_Artists+distributor_Universal+distributor_Variance_Films+distributor_Vertical_Entertainment+distributor_Viva_Entertainment+distributor_Vivendi_Entertainment+distributor_Walt_Disney+distributor_Warner_Bros+distributor_WeinsteinDimension+distributor_Weinstein_Co+distributor_Wrekin_Hill_Entertainment+distributor_XLrator_Media+genre_Adventure+genre_Black_Comedy+genre_Comedy+genre_ConcertPerformance+genre_Documentary+genre_Drama+genre_Horror+genre_Musical+genre_Romantic_Comedy+genre_ThrillerSuspense+genre_Western+source_Based_on_Factual_BookArticle+source_Based_on_Fiction_BookShort_Story+source_Based_on_Folk_TaleLegendFairytale+source_Based_on_Game+source_Based_on_Movie+source_Based_on_Musical_Group+source_Based_on_Musical_or_Opera+source_Based_on_Play+source_Based_on_Real_Life_Events+source_Based_on_Religious_Text+source_Based_on_Short_Film+source_Based_on_Song+source_Based_on_TV+source_Based_on_Theme_Park_Ride+source_Based_on_Toy+source_Compilation+source_Original_Screenplay+source_Remake+source_Spin_Off+prodmethod_Digital_Animation+prodmethod_Hand_Animation+prodmethod_Live_Action+prodmethod_Multiple_Production_Methods+prodmethod_Stop_Motion_Animation+creativetype_Digital_Animation+creativetype_Hand_Animation+creativetype_Live_Action+creativetype_Multiple_Production_Methods+creativetype_Stop_Motion_Animation\n"
     ]
    }
   ],
   "source": [
    "from statsmodels.formula.api import ols\n",
    "outcome = 'inf_dombox_log'\n",
    "predictor_variables = \"+\".join(preprocessed.columns)\n",
    "formula = outcome + '~' + predictor_variables\n",
    "print(predictor_variables)\n",
    "print(formula)"
   ]
  },
  {
   "cell_type": "code",
   "execution_count": 971,
   "metadata": {
    "ExecuteTime": {
     "end_time": "2021-09-09T05:54:12.576927Z",
     "start_time": "2021-09-09T05:54:10.225149Z"
    },
    "scrolled": false
   },
   "outputs": [
    {
     "data": {
      "text/html": [
       "<table class=\"simpletable\">\n",
       "<caption>OLS Regression Results</caption>\n",
       "<tr>\n",
       "  <th>Dep. Variable:</th>     <td>inf_dombox_log</td>  <th>  R-squared:         </th>  <td>   1.000</td> \n",
       "</tr>\n",
       "<tr>\n",
       "  <th>Model:</th>                   <td>OLS</td>       <th>  Adj. R-squared:    </th>  <td>   1.000</td> \n",
       "</tr>\n",
       "<tr>\n",
       "  <th>Method:</th>             <td>Least Squares</td>  <th>  F-statistic:       </th>  <td>2.986e+30</td>\n",
       "</tr>\n",
       "<tr>\n",
       "  <th>Date:</th>             <td>Thu, 09 Sep 2021</td> <th>  Prob (F-statistic):</th>   <td>  0.00</td>  \n",
       "</tr>\n",
       "<tr>\n",
       "  <th>Time:</th>                 <td>01:54:12</td>     <th>  Log-Likelihood:    </th>  <td>  49075.</td> \n",
       "</tr>\n",
       "<tr>\n",
       "  <th>No. Observations:</th>      <td>  1508</td>      <th>  AIC:               </th> <td>-9.786e+04</td>\n",
       "</tr>\n",
       "<tr>\n",
       "  <th>Df Residuals:</th>          <td>  1363</td>      <th>  BIC:               </th> <td>-9.709e+04</td>\n",
       "</tr>\n",
       "<tr>\n",
       "  <th>Df Model:</th>              <td>   144</td>      <th>                     </th>      <td> </td>    \n",
       "</tr>\n",
       "<tr>\n",
       "  <th>Covariance Type:</th>      <td>nonrobust</td>    <th>                     </th>      <td> </td>    \n",
       "</tr>\n",
       "</table>\n",
       "<table class=\"simpletable\">\n",
       "<tr>\n",
       "                          <td></td>                             <th>coef</th>     <th>std err</th>      <th>t</th>      <th>P>|t|</th>  <th>[0.025</th>    <th>0.975]</th>  \n",
       "</tr>\n",
       "<tr>\n",
       "  <th>Intercept</th>                                         <td> 6.661e-16</td> <td> 1.91e-15</td> <td>    0.348</td> <td> 0.728</td> <td>-3.09e-15</td> <td> 4.42e-15</td>\n",
       "</tr>\n",
       "<tr>\n",
       "  <th>productionbudget_log</th>                              <td>-6.262e-16</td> <td> 9.36e-17</td> <td>   -6.693</td> <td> 0.000</td> <td> -8.1e-16</td> <td>-4.43e-16</td>\n",
       "</tr>\n",
       "<tr>\n",
       "  <th>maxtheaters_log</th>                                   <td>-8.014e-16</td> <td> 1.41e-16</td> <td>   -5.695</td> <td> 0.000</td> <td>-1.08e-15</td> <td>-5.25e-16</td>\n",
       "</tr>\n",
       "<tr>\n",
       "  <th>dombox_log</th>                                        <td>-3.053e-16</td> <td>  1.9e-15</td> <td>   -0.160</td> <td> 0.873</td> <td>-4.04e-15</td> <td> 3.43e-15</td>\n",
       "</tr>\n",
       "<tr>\n",
       "  <th>inf_dombox_log</th>                                    <td>    1.0000</td> <td> 1.88e-15</td> <td> 5.33e+14</td> <td> 0.000</td> <td>    1.000</td> <td>    1.000</td>\n",
       "</tr>\n",
       "<tr>\n",
       "  <th>runtime_min_log</th>                                   <td>-1.683e-16</td> <td> 6.57e-17</td> <td>   -2.562</td> <td> 0.011</td> <td>-2.97e-16</td> <td>-3.94e-17</td>\n",
       "</tr>\n",
       "<tr>\n",
       "  <th>act_infl_log</th>                                      <td> 1.926e-16</td> <td> 6.05e-17</td> <td>    3.181</td> <td> 0.001</td> <td> 7.38e-17</td> <td> 3.11e-16</td>\n",
       "</tr>\n",
       "<tr>\n",
       "  <th>dir_infl_log</th>                                      <td>-7.112e-17</td> <td> 6.38e-17</td> <td>   -1.115</td> <td> 0.265</td> <td>-1.96e-16</td> <td>  5.4e-17</td>\n",
       "</tr>\n",
       "<tr>\n",
       "  <th>franchise</th>                                         <td> 1.249e-16</td> <td> 1.54e-16</td> <td>    0.811</td> <td> 0.418</td> <td>-1.77e-16</td> <td> 4.27e-16</td>\n",
       "</tr>\n",
       "<tr>\n",
       "  <th>distributor_20th_Century_Fox</th>                      <td>-2.942e-15</td> <td> 1.89e-15</td> <td>   -1.553</td> <td> 0.121</td> <td>-6.66e-15</td> <td> 7.75e-16</td>\n",
       "</tr>\n",
       "<tr>\n",
       "  <th>distributor_A24</th>                                   <td>-6.661e-16</td> <td> 1.92e-15</td> <td>   -0.347</td> <td> 0.729</td> <td>-4.43e-15</td> <td>  3.1e-15</td>\n",
       "</tr>\n",
       "<tr>\n",
       "  <th>distributor_AFFRM</th>                                 <td> 7.772e-15</td> <td> 2.68e-15</td> <td>    2.896</td> <td> 0.004</td> <td> 2.51e-15</td> <td>  1.3e-14</td>\n",
       "</tr>\n",
       "<tr>\n",
       "  <th>distributor_Abramorama_Films</th>                      <td>-3.775e-15</td> <td> 2.66e-15</td> <td>   -1.418</td> <td> 0.156</td> <td>   -9e-15</td> <td> 1.45e-15</td>\n",
       "</tr>\n",
       "<tr>\n",
       "  <th>distributor_Alchemy</th>                               <td>-1.776e-15</td> <td> 2.03e-15</td> <td>   -0.876</td> <td> 0.381</td> <td>-5.75e-15</td> <td>  2.2e-15</td>\n",
       "</tr>\n",
       "<tr>\n",
       "  <th>distributor_Amazon_Studios</th>                        <td>-7.772e-16</td> <td>  2.1e-15</td> <td>   -0.369</td> <td> 0.712</td> <td> -4.9e-15</td> <td> 3.35e-15</td>\n",
       "</tr>\n",
       "<tr>\n",
       "  <th>distributor_Amazon_StudiosRoadside_Attractions</th>    <td>-7.994e-15</td> <td> 2.71e-15</td> <td>   -2.955</td> <td> 0.003</td> <td>-1.33e-14</td> <td>-2.69e-15</td>\n",
       "</tr>\n",
       "<tr>\n",
       "  <th>distributor_Anchor_Bay_Entertainment</th>              <td>-2.665e-15</td> <td> 2.12e-15</td> <td>   -1.256</td> <td> 0.209</td> <td>-6.83e-15</td> <td>  1.5e-15</td>\n",
       "</tr>\n",
       "<tr>\n",
       "  <th>distributor_Annapurna_Pictures</th>                    <td> 2.776e-16</td> <td> 2.03e-15</td> <td>    0.137</td> <td> 0.891</td> <td>-3.71e-15</td> <td> 4.27e-15</td>\n",
       "</tr>\n",
       "<tr>\n",
       "  <th>distributor_Apparition</th>                            <td>-2.859e-15</td> <td> 2.65e-15</td> <td>   -1.077</td> <td> 0.282</td> <td>-8.07e-15</td> <td> 2.35e-15</td>\n",
       "</tr>\n",
       "<tr>\n",
       "  <th>distributor_Atlas_Distribution</th>                    <td>  2.22e-16</td> <td> 2.66e-15</td> <td>    0.083</td> <td> 0.934</td> <td>   -5e-15</td> <td> 5.45e-15</td>\n",
       "</tr>\n",
       "<tr>\n",
       "  <th>distributor_Aviron_Pictures</th>                       <td>-8.882e-16</td> <td> 2.17e-15</td> <td>   -0.408</td> <td> 0.683</td> <td>-5.15e-15</td> <td> 3.38e-15</td>\n",
       "</tr>\n",
       "<tr>\n",
       "  <th>distributor_BH_Tilt</th>                               <td>-2.609e-15</td> <td> 2.11e-15</td> <td>   -1.237</td> <td> 0.216</td> <td>-6.75e-15</td> <td> 1.53e-15</td>\n",
       "</tr>\n",
       "<tr>\n",
       "  <th>distributor_Bleecker_Street</th>                       <td>-5.551e-16</td> <td> 1.96e-15</td> <td>   -0.283</td> <td> 0.777</td> <td> -4.4e-15</td> <td> 3.29e-15</td>\n",
       "</tr>\n",
       "<tr>\n",
       "  <th>distributor_Briarcliffe_Entertainment</th>             <td>-3.997e-15</td> <td> 2.67e-15</td> <td>   -1.495</td> <td> 0.135</td> <td>-9.24e-15</td> <td> 1.25e-15</td>\n",
       "</tr>\n",
       "<tr>\n",
       "  <th>distributor_Broad_Green_Pictures</th>                  <td> -2.22e-16</td> <td> 2.02e-15</td> <td>   -0.110</td> <td> 0.912</td> <td>-4.18e-15</td> <td> 3.74e-15</td>\n",
       "</tr>\n",
       "<tr>\n",
       "  <th>distributor_CBS_Films</th>                             <td>-8.882e-16</td> <td> 1.95e-15</td> <td>   -0.456</td> <td> 0.648</td> <td>-4.71e-15</td> <td> 2.93e-15</td>\n",
       "</tr>\n",
       "<tr>\n",
       "  <th>distributor_Cinelou_Releasing</th>                     <td> -1.11e-15</td> <td> 2.66e-15</td> <td>   -0.417</td> <td> 0.677</td> <td>-6.33e-15</td> <td> 4.11e-15</td>\n",
       "</tr>\n",
       "<tr>\n",
       "  <th>distributor_Clarius_Entertainment</th>                 <td>-3.109e-15</td> <td> 2.18e-15</td> <td>   -1.426</td> <td> 0.154</td> <td>-7.38e-15</td> <td> 1.17e-15</td>\n",
       "</tr>\n",
       "<tr>\n",
       "  <th>distributor_Codeblack_Entertainment</th>               <td>-3.331e-15</td> <td>  2.9e-15</td> <td>   -1.150</td> <td> 0.250</td> <td>-9.01e-15</td> <td> 2.35e-15</td>\n",
       "</tr>\n",
       "<tr>\n",
       "  <th>distributor_Cohen_Media_Group</th>                     <td>-2.776e-15</td> <td> 2.11e-15</td> <td>   -1.314</td> <td> 0.189</td> <td>-6.92e-15</td> <td> 1.37e-15</td>\n",
       "</tr>\n",
       "<tr>\n",
       "  <th>distributor_Drafthouse_Films</th>                      <td> -2.22e-15</td> <td> 2.71e-15</td> <td>   -0.819</td> <td> 0.413</td> <td>-7.54e-15</td> <td>  3.1e-15</td>\n",
       "</tr>\n",
       "<tr>\n",
       "  <th>distributor_Echolight_Studios</th>                     <td>         0</td> <td> 2.67e-15</td> <td>        0</td> <td> 1.000</td> <td>-5.24e-15</td> <td> 5.24e-15</td>\n",
       "</tr>\n",
       "<tr>\n",
       "  <th>distributor_Electric_Entertainment</th>                <td>-4.885e-15</td> <td> 2.65e-15</td> <td>   -1.842</td> <td> 0.066</td> <td>-1.01e-14</td> <td> 3.16e-16</td>\n",
       "</tr>\n",
       "<tr>\n",
       "  <th>distributor_Elevation_Pictures</th>                    <td> -2.22e-15</td> <td> 2.67e-15</td> <td>   -0.831</td> <td> 0.406</td> <td>-7.46e-15</td> <td> 3.02e-15</td>\n",
       "</tr>\n",
       "<tr>\n",
       "  <th>distributor_Entertainment_One</th>                     <td> 2.776e-16</td> <td> 2.68e-15</td> <td>    0.103</td> <td> 0.918</td> <td>-4.99e-15</td> <td> 5.54e-15</td>\n",
       "</tr>\n",
       "<tr>\n",
       "  <th>distributor_Entertainment_Studios_Motion_Pictures</th> <td>-7.772e-16</td> <td> 2.01e-15</td> <td>   -0.388</td> <td> 0.698</td> <td>-4.71e-15</td> <td> 3.16e-15</td>\n",
       "</tr>\n",
       "<tr>\n",
       "  <th>distributor_EuropaCorp</th>                            <td> 9.992e-16</td> <td> 2.18e-15</td> <td>    0.459</td> <td> 0.646</td> <td>-3.27e-15</td> <td> 5.27e-15</td>\n",
       "</tr>\n",
       "<tr>\n",
       "  <th>distributor_Exclusive_Releasing</th>                   <td>-7.772e-16</td> <td> 2.66e-15</td> <td>   -0.292</td> <td> 0.770</td> <td>-5.99e-15</td> <td> 4.44e-15</td>\n",
       "</tr>\n",
       "<tr>\n",
       "  <th>distributor_FUNimation</th>                            <td>-2.109e-15</td> <td>  2.7e-15</td> <td>   -0.781</td> <td> 0.435</td> <td>-7.41e-15</td> <td> 3.19e-15</td>\n",
       "</tr>\n",
       "<tr>\n",
       "  <th>distributor_Fathom_Events</th>                         <td>-3.109e-15</td> <td> 2.74e-15</td> <td>   -1.134</td> <td> 0.257</td> <td>-8.49e-15</td> <td> 2.27e-15</td>\n",
       "</tr>\n",
       "<tr>\n",
       "  <th>distributor_FilmDistrict</th>                          <td>-2.109e-15</td> <td> 1.97e-15</td> <td>   -1.069</td> <td> 0.285</td> <td>-5.98e-15</td> <td> 1.76e-15</td>\n",
       "</tr>\n",
       "<tr>\n",
       "  <th>distributor_Five_and_Two_Pictures</th>                 <td>-2.665e-15</td> <td> 2.67e-15</td> <td>   -0.998</td> <td> 0.318</td> <td> -7.9e-15</td> <td> 2.57e-15</td>\n",
       "</tr>\n",
       "<tr>\n",
       "  <th>distributor_Focus_Features</th>                        <td>-2.998e-15</td> <td> 1.91e-15</td> <td>   -1.572</td> <td> 0.116</td> <td>-6.74e-15</td> <td> 7.43e-16</td>\n",
       "</tr>\n",
       "<tr>\n",
       "  <th>distributor_Focus_World</th>                           <td> -2.22e-15</td> <td> 2.67e-15</td> <td>   -0.830</td> <td> 0.407</td> <td>-7.47e-15</td> <td> 3.03e-15</td>\n",
       "</tr>\n",
       "<tr>\n",
       "  <th>distributor_Fox_Searchlight</th>                       <td> -1.11e-15</td> <td> 1.91e-15</td> <td>   -0.581</td> <td> 0.561</td> <td>-4.86e-15</td> <td> 2.64e-15</td>\n",
       "</tr>\n",
       "<tr>\n",
       "  <th>distributor_Freestyle_Releasing</th>                   <td>-1.221e-15</td> <td> 2.04e-15</td> <td>   -0.598</td> <td> 0.550</td> <td>-5.23e-15</td> <td> 2.79e-15</td>\n",
       "</tr>\n",
       "<tr>\n",
       "  <th>distributor_Fun_Academy_Motion_Pictures</th>           <td>         0</td> <td> 2.66e-15</td> <td>        0</td> <td> 1.000</td> <td>-5.22e-15</td> <td> 5.22e-15</td>\n",
       "</tr>\n",
       "<tr>\n",
       "  <th>distributor_GKIDS</th>                                 <td>-5.995e-15</td> <td> 2.99e-15</td> <td>   -2.004</td> <td> 0.045</td> <td>-1.19e-14</td> <td>-1.26e-16</td>\n",
       "</tr>\n",
       "<tr>\n",
       "  <th>distributor_GVN_Releasing</th>                         <td>-3.664e-15</td> <td> 2.67e-15</td> <td>   -1.372</td> <td> 0.170</td> <td> -8.9e-15</td> <td> 1.57e-15</td>\n",
       "</tr>\n",
       "<tr>\n",
       "  <th>distributor_Global_Road</th>                           <td>-2.054e-15</td> <td> 2.31e-15</td> <td>   -0.889</td> <td> 0.374</td> <td>-6.59e-15</td> <td> 2.48e-15</td>\n",
       "</tr>\n",
       "<tr>\n",
       "  <th>distributor_Good_Deed_Entertainment</th>               <td> -2.97e-15</td> <td> 2.67e-15</td> <td>   -1.113</td> <td> 0.266</td> <td> -8.2e-15</td> <td> 2.26e-15</td>\n",
       "</tr>\n",
       "<tr>\n",
       "  <th>distributor_Gunpowder_and_Sky</th>                     <td>-2.665e-15</td> <td> 2.67e-15</td> <td>   -0.998</td> <td> 0.318</td> <td> -7.9e-15</td> <td> 2.57e-15</td>\n",
       "</tr>\n",
       "<tr>\n",
       "  <th>distributor_Hammond_Entertainment</th>                 <td>-2.442e-15</td> <td> 2.65e-15</td> <td>   -0.921</td> <td> 0.357</td> <td>-7.64e-15</td> <td> 2.76e-15</td>\n",
       "</tr>\n",
       "<tr>\n",
       "  <th>distributor_High_Top_Releasing</th>                    <td>-1.249e-15</td> <td> 2.08e-15</td> <td>   -0.601</td> <td> 0.548</td> <td>-5.33e-15</td> <td> 2.83e-15</td>\n",
       "</tr>\n",
       "<tr>\n",
       "  <th>distributor_IFC_Films</th>                             <td>-1.887e-15</td> <td> 1.97e-15</td> <td>   -0.958</td> <td> 0.338</td> <td>-5.75e-15</td> <td> 1.98e-15</td>\n",
       "</tr>\n",
       "<tr>\n",
       "  <th>distributor_Image_Entertainment</th>                   <td> -2.22e-16</td> <td> 2.68e-15</td> <td>   -0.083</td> <td> 0.934</td> <td>-5.48e-15</td> <td> 5.03e-15</td>\n",
       "</tr>\n",
       "<tr>\n",
       "  <th>distributor_Indican_Pictures</th>                      <td>  2.22e-15</td> <td> 2.68e-15</td> <td>    0.830</td> <td> 0.407</td> <td>-3.03e-15</td> <td> 7.47e-15</td>\n",
       "</tr>\n",
       "<tr>\n",
       "  <th>distributor_LD_Distribution</th>                       <td>-2.109e-15</td> <td> 2.33e-15</td> <td>   -0.904</td> <td> 0.366</td> <td>-6.68e-15</td> <td> 2.47e-15</td>\n",
       "</tr>\n",
       "<tr>\n",
       "  <th>distributor_Lionsgate</th>                             <td>-1.887e-15</td> <td> 1.89e-15</td> <td>   -0.996</td> <td> 0.319</td> <td> -5.6e-15</td> <td> 1.83e-15</td>\n",
       "</tr>\n",
       "<tr>\n",
       "  <th>distributor_LionsgateRoadside_Attractions</th>         <td>-2.554e-15</td> <td> 2.31e-15</td> <td>   -1.103</td> <td> 0.270</td> <td>-7.09e-15</td> <td> 1.99e-15</td>\n",
       "</tr>\n",
       "<tr>\n",
       "  <th>distributor_MGM</th>                                   <td>-1.166e-15</td> <td> 2.06e-15</td> <td>   -0.566</td> <td> 0.572</td> <td>-5.21e-15</td> <td> 2.88e-15</td>\n",
       "</tr>\n",
       "<tr>\n",
       "  <th>distributor_Magnet_Pictures</th>                       <td>-1.998e-15</td> <td> 2.68e-15</td> <td>   -0.744</td> <td> 0.457</td> <td>-7.26e-15</td> <td> 3.27e-15</td>\n",
       "</tr>\n",
       "<tr>\n",
       "  <th>distributor_Magnolia_Pictures</th>                     <td>-2.359e-15</td> <td>    2e-15</td> <td>   -1.182</td> <td> 0.237</td> <td>-6.27e-15</td> <td> 1.56e-15</td>\n",
       "</tr>\n",
       "<tr>\n",
       "  <th>distributor_Miramax</th>                               <td>-1.554e-15</td> <td> 2.33e-15</td> <td>   -0.668</td> <td> 0.505</td> <td>-6.12e-15</td> <td> 3.01e-15</td>\n",
       "</tr>\n",
       "<tr>\n",
       "  <th>distributor_Mongrel_Media</th>                         <td> -1.11e-15</td> <td> 2.33e-15</td> <td>   -0.478</td> <td> 0.633</td> <td>-5.67e-15</td> <td> 3.45e-15</td>\n",
       "</tr>\n",
       "<tr>\n",
       "  <th>distributor_Monterey_Media</th>                        <td>-4.663e-15</td> <td> 2.67e-15</td> <td>   -1.748</td> <td> 0.081</td> <td> -9.9e-15</td> <td> 5.71e-16</td>\n",
       "</tr>\n",
       "<tr>\n",
       "  <th>distributor_Music_Box_Films</th>                       <td> 1.221e-15</td> <td> 2.68e-15</td> <td>    0.456</td> <td> 0.649</td> <td>-4.04e-15</td> <td> 6.48e-15</td>\n",
       "</tr>\n",
       "<tr>\n",
       "  <th>distributor_Neon</th>                                  <td>-2.109e-15</td> <td> 2.12e-15</td> <td>   -0.997</td> <td> 0.319</td> <td>-6.26e-15</td> <td> 2.04e-15</td>\n",
       "</tr>\n",
       "<tr>\n",
       "  <th>distributor_New_Films_Cinema</th>                      <td> 4.441e-16</td> <td> 2.67e-15</td> <td>    0.166</td> <td> 0.868</td> <td> -4.8e-15</td> <td> 5.69e-15</td>\n",
       "</tr>\n",
       "<tr>\n",
       "  <th>distributor_OTL_Releasing</th>                         <td>-2.054e-15</td> <td> 2.32e-15</td> <td>   -0.886</td> <td> 0.376</td> <td> -6.6e-15</td> <td> 2.49e-15</td>\n",
       "</tr>\n",
       "<tr>\n",
       "  <th>distributor_OminFreestyle</th>                         <td> -1.11e-15</td> <td> 2.68e-15</td> <td>   -0.414</td> <td> 0.679</td> <td>-6.37e-15</td> <td> 4.15e-15</td>\n",
       "</tr>\n",
       "<tr>\n",
       "  <th>distributor_Open_Road</th>                             <td>-1.443e-15</td> <td> 1.91e-15</td> <td>   -0.754</td> <td> 0.451</td> <td> -5.2e-15</td> <td> 2.31e-15</td>\n",
       "</tr>\n",
       "<tr>\n",
       "  <th>distributor_Orion_Pictures</th>                        <td> -1.11e-15</td> <td>  2.3e-15</td> <td>   -0.482</td> <td> 0.630</td> <td>-5.63e-15</td> <td> 3.41e-15</td>\n",
       "</tr>\n",
       "<tr>\n",
       "  <th>distributor_Oscilloscope_Pictures</th>                 <td>-7.772e-16</td> <td> 2.23e-15</td> <td>   -0.349</td> <td> 0.727</td> <td>-5.15e-15</td> <td> 3.59e-15</td>\n",
       "</tr>\n",
       "<tr>\n",
       "  <th>distributor_Overture_Films</th>                        <td>  1.11e-16</td> <td> 2.19e-15</td> <td>    0.051</td> <td> 0.960</td> <td>-4.18e-15</td> <td>  4.4e-15</td>\n",
       "</tr>\n",
       "<tr>\n",
       "  <th>distributor_Paladin</th>                               <td>-2.887e-15</td> <td> 2.66e-15</td> <td>   -1.083</td> <td> 0.279</td> <td>-8.11e-15</td> <td> 2.34e-15</td>\n",
       "</tr>\n",
       "<tr>\n",
       "  <th>distributor_Paramount_Pictures</th>                    <td>-8.327e-16</td> <td>  1.9e-15</td> <td>   -0.439</td> <td> 0.661</td> <td>-4.56e-15</td> <td> 2.89e-15</td>\n",
       "</tr>\n",
       "<tr>\n",
       "  <th>distributor_Paramount_Vantage</th>                     <td> -1.11e-15</td> <td> 2.67e-15</td> <td>   -0.416</td> <td> 0.677</td> <td>-6.34e-15</td> <td> 4.12e-15</td>\n",
       "</tr>\n",
       "<tr>\n",
       "  <th>distributor_Peace_Film_LLC</th>                        <td>  2.22e-15</td> <td> 2.68e-15</td> <td>    0.830</td> <td> 0.407</td> <td>-3.03e-15</td> <td> 7.47e-15</td>\n",
       "</tr>\n",
       "<tr>\n",
       "  <th>distributor_Picturehouse</th>                          <td> 4.441e-16</td> <td> 1.45e-15</td> <td>    0.307</td> <td> 0.759</td> <td> -2.4e-15</td> <td> 3.28e-15</td>\n",
       "</tr>\n",
       "<tr>\n",
       "  <th>distributor_Purdie_Distribution</th>                   <td>-1.221e-15</td> <td> 2.94e-15</td> <td>   -0.416</td> <td> 0.678</td> <td>-6.99e-15</td> <td> 4.54e-15</td>\n",
       "</tr>\n",
       "<tr>\n",
       "  <th>distributor_Pure_Flix_Entertainment</th>               <td>-1.166e-15</td> <td> 1.98e-15</td> <td>   -0.590</td> <td> 0.555</td> <td>-5.04e-15</td> <td> 2.71e-15</td>\n",
       "</tr>\n",
       "<tr>\n",
       "  <th>distributor_RADiUS_TWC</th>                            <td> -1.11e-15</td> <td> 2.05e-15</td> <td>   -0.542</td> <td> 0.588</td> <td>-5.13e-15</td> <td> 2.91e-15</td>\n",
       "</tr>\n",
       "<tr>\n",
       "  <th>distributor_Radius</th>                                <td>-3.775e-15</td> <td> 2.68e-15</td> <td>   -1.411</td> <td> 0.159</td> <td>-9.02e-15</td> <td> 1.47e-15</td>\n",
       "</tr>\n",
       "<tr>\n",
       "  <th>distributor_Relativity</th>                            <td>-1.443e-15</td> <td> 1.92e-15</td> <td>   -0.750</td> <td> 0.453</td> <td>-5.22e-15</td> <td> 2.33e-15</td>\n",
       "</tr>\n",
       "<tr>\n",
       "  <th>distributor_Roadside_Attractions</th>                  <td>-2.776e-16</td> <td> 1.92e-15</td> <td>   -0.144</td> <td> 0.885</td> <td>-4.05e-15</td> <td>  3.5e-15</td>\n",
       "</tr>\n",
       "<tr>\n",
       "  <th>distributor_Rocky_Mountain_Pictures</th>               <td> 1.776e-15</td> <td> 2.19e-15</td> <td>    0.813</td> <td> 0.416</td> <td>-2.51e-15</td> <td> 6.06e-15</td>\n",
       "</tr>\n",
       "<tr>\n",
       "  <th>distributor_STX_Entertainment</th>                     <td>-9.992e-16</td> <td> 1.92e-15</td> <td>   -0.520</td> <td> 0.603</td> <td>-4.77e-15</td> <td> 2.77e-15</td>\n",
       "</tr>\n",
       "<tr>\n",
       "  <th>distributor_Saban_Films</th>                           <td>-2.109e-15</td> <td> 2.67e-15</td> <td>   -0.789</td> <td> 0.430</td> <td>-7.35e-15</td> <td> 3.13e-15</td>\n",
       "</tr>\n",
       "<tr>\n",
       "  <th>distributor_Samuel_Goldwyn_Films</th>                  <td>-1.277e-15</td> <td> 1.99e-15</td> <td>   -0.640</td> <td> 0.522</td> <td>-5.19e-15</td> <td> 2.63e-15</td>\n",
       "</tr>\n",
       "<tr>\n",
       "  <th>distributor_Smith_Global_Media</th>                    <td>-2.442e-15</td> <td> 2.66e-15</td> <td>   -0.918</td> <td> 0.359</td> <td>-7.66e-15</td> <td> 2.78e-15</td>\n",
       "</tr>\n",
       "<tr>\n",
       "  <th>distributor_Smodshow_Productions</th>                  <td>-4.663e-15</td> <td> 2.74e-15</td> <td>   -1.699</td> <td> 0.089</td> <td>   -1e-14</td> <td>  7.2e-16</td>\n",
       "</tr>\n",
       "<tr>\n",
       "  <th>distributor_Sony_Pictures</th>                         <td>-9.992e-16</td> <td> 1.89e-15</td> <td>   -0.528</td> <td> 0.598</td> <td>-4.71e-15</td> <td> 2.72e-15</td>\n",
       "</tr>\n",
       "<tr>\n",
       "  <th>distributor_Sony_Pictures_Classics</th>                <td> -1.11e-15</td> <td> 1.92e-15</td> <td>   -0.580</td> <td> 0.562</td> <td>-4.87e-15</td> <td> 2.65e-15</td>\n",
       "</tr>\n",
       "<tr>\n",
       "  <th>distributor_Summit_Entertainment</th>                  <td>-1.221e-15</td> <td> 1.96e-15</td> <td>   -0.623</td> <td> 0.534</td> <td>-5.07e-15</td> <td> 2.63e-15</td>\n",
       "</tr>\n",
       "<tr>\n",
       "  <th>distributor_Sundance_Selects</th>                      <td>-3.775e-15</td> <td> 2.69e-15</td> <td>   -1.406</td> <td> 0.160</td> <td>-9.04e-15</td> <td> 1.49e-15</td>\n",
       "</tr>\n",
       "<tr>\n",
       "  <th>distributor_Ten_Furlongs</th>                          <td>         0</td> <td> 2.66e-15</td> <td>        0</td> <td> 1.000</td> <td>-5.21e-15</td> <td> 5.21e-15</td>\n",
       "</tr>\n",
       "<tr>\n",
       "  <th>distributor_The_Bubble_Factory</th>                    <td>-4.885e-15</td> <td> 2.68e-15</td> <td>   -1.826</td> <td> 0.068</td> <td>-1.01e-14</td> <td> 3.63e-16</td>\n",
       "</tr>\n",
       "<tr>\n",
       "  <th>distributor_The_Orchard</th>                           <td>-2.165e-15</td> <td> 2.19e-15</td> <td>   -0.988</td> <td> 0.323</td> <td>-6.46e-15</td> <td> 2.13e-15</td>\n",
       "</tr>\n",
       "<tr>\n",
       "  <th>distributor_TriBeca_Films</th>                         <td>  2.22e-16</td> <td> 2.67e-15</td> <td>    0.083</td> <td> 0.934</td> <td>-5.02e-15</td> <td> 5.46e-15</td>\n",
       "</tr>\n",
       "<tr>\n",
       "  <th>distributor_United_Artists</th>                        <td>-9.992e-16</td> <td> 2.18e-15</td> <td>   -0.458</td> <td> 0.647</td> <td>-5.28e-15</td> <td> 3.28e-15</td>\n",
       "</tr>\n",
       "<tr>\n",
       "  <th>distributor_Universal</th>                             <td> -1.61e-15</td> <td> 1.89e-15</td> <td>   -0.850</td> <td> 0.396</td> <td>-5.33e-15</td> <td> 2.11e-15</td>\n",
       "</tr>\n",
       "<tr>\n",
       "  <th>distributor_Variance_Films</th>                        <td> -2.22e-16</td> <td> 2.68e-15</td> <td>   -0.083</td> <td> 0.934</td> <td>-5.48e-15</td> <td> 5.04e-15</td>\n",
       "</tr>\n",
       "<tr>\n",
       "  <th>distributor_Vertical_Entertainment</th>                <td> -1.79e-15</td> <td>  2.3e-15</td> <td>   -0.778</td> <td> 0.436</td> <td> -6.3e-15</td> <td> 2.72e-15</td>\n",
       "</tr>\n",
       "<tr>\n",
       "  <th>distributor_Viva_Entertainment</th>                    <td>-5.329e-15</td> <td> 2.68e-15</td> <td>   -1.990</td> <td> 0.047</td> <td>-1.06e-14</td> <td>-7.65e-17</td>\n",
       "</tr>\n",
       "<tr>\n",
       "  <th>distributor_Vivendi_Entertainment</th>                 <td>-5.551e-16</td> <td> 2.66e-15</td> <td>   -0.208</td> <td> 0.835</td> <td>-5.78e-15</td> <td> 4.67e-15</td>\n",
       "</tr>\n",
       "<tr>\n",
       "  <th>distributor_Walt_Disney</th>                           <td> -1.11e-15</td> <td>  1.9e-15</td> <td>   -0.584</td> <td> 0.559</td> <td>-4.84e-15</td> <td> 2.62e-15</td>\n",
       "</tr>\n",
       "<tr>\n",
       "  <th>distributor_Warner_Bros</th>                           <td>-2.665e-15</td> <td> 1.89e-15</td> <td>   -1.408</td> <td> 0.159</td> <td>-6.38e-15</td> <td> 1.05e-15</td>\n",
       "</tr>\n",
       "<tr>\n",
       "  <th>distributor_WeinsteinDimension</th>                    <td>-3.275e-15</td> <td> 2.32e-15</td> <td>   -1.412</td> <td> 0.158</td> <td>-7.83e-15</td> <td> 1.27e-15</td>\n",
       "</tr>\n",
       "<tr>\n",
       "  <th>distributor_Weinstein_Co</th>                          <td>-1.776e-15</td> <td>  1.9e-15</td> <td>   -0.933</td> <td> 0.351</td> <td>-5.51e-15</td> <td> 1.96e-15</td>\n",
       "</tr>\n",
       "<tr>\n",
       "  <th>distributor_Wrekin_Hill_Entertainment</th>             <td>-6.661e-16</td> <td> 2.67e-15</td> <td>   -0.250</td> <td> 0.803</td> <td> -5.9e-15</td> <td> 4.57e-15</td>\n",
       "</tr>\n",
       "<tr>\n",
       "  <th>distributor_XLrator_Media</th>                         <td>-4.441e-16</td> <td> 2.66e-15</td> <td>   -0.167</td> <td> 0.867</td> <td>-5.66e-15</td> <td> 4.77e-15</td>\n",
       "</tr>\n",
       "<tr>\n",
       "  <th>genre_Adventure</th>                                   <td> 8.986e-16</td> <td> 2.39e-16</td> <td>    3.756</td> <td> 0.000</td> <td> 4.29e-16</td> <td> 1.37e-15</td>\n",
       "</tr>\n",
       "<tr>\n",
       "  <th>genre_Black_Comedy</th>                                <td>-4.163e-17</td> <td> 3.94e-16</td> <td>   -0.106</td> <td> 0.916</td> <td>-8.14e-16</td> <td> 7.31e-16</td>\n",
       "</tr>\n",
       "<tr>\n",
       "  <th>genre_Comedy</th>                                      <td> 2.186e-16</td> <td>  2.1e-16</td> <td>    1.039</td> <td> 0.299</td> <td>-1.94e-16</td> <td> 6.31e-16</td>\n",
       "</tr>\n",
       "<tr>\n",
       "  <th>genre_ConcertPerformance</th>                          <td> 1.249e-16</td> <td> 1.12e-15</td> <td>    0.112</td> <td> 0.911</td> <td>-2.07e-15</td> <td> 2.31e-15</td>\n",
       "</tr>\n",
       "<tr>\n",
       "  <th>genre_Documentary</th>                                 <td>-1.665e-16</td> <td> 1.27e-15</td> <td>   -0.132</td> <td> 0.895</td> <td>-2.65e-15</td> <td> 2.32e-15</td>\n",
       "</tr>\n",
       "<tr>\n",
       "  <th>genre_Drama</th>                                       <td> 3.192e-16</td> <td> 2.07e-16</td> <td>    1.544</td> <td> 0.123</td> <td>-8.65e-17</td> <td> 7.25e-16</td>\n",
       "</tr>\n",
       "<tr>\n",
       "  <th>genre_Horror</th>                                      <td> 1.388e-16</td> <td> 2.54e-16</td> <td>    0.547</td> <td> 0.584</td> <td>-3.59e-16</td> <td> 6.36e-16</td>\n",
       "</tr>\n",
       "<tr>\n",
       "  <th>genre_Musical</th>                                     <td>-7.772e-16</td> <td> 4.84e-16</td> <td>   -1.607</td> <td> 0.108</td> <td>-1.73e-15</td> <td> 1.72e-16</td>\n",
       "</tr>\n",
       "<tr>\n",
       "  <th>genre_Romantic_Comedy</th>                             <td>  5.69e-16</td> <td>  3.2e-16</td> <td>    1.779</td> <td> 0.076</td> <td>-5.86e-17</td> <td>  1.2e-15</td>\n",
       "</tr>\n",
       "<tr>\n",
       "  <th>genre_ThrillerSuspense</th>                            <td> 5.482e-16</td> <td> 2.09e-16</td> <td>    2.627</td> <td> 0.009</td> <td> 1.39e-16</td> <td> 9.57e-16</td>\n",
       "</tr>\n",
       "<tr>\n",
       "  <th>genre_Western</th>                                     <td>-4.163e-16</td> <td> 4.95e-16</td> <td>   -0.841</td> <td> 0.400</td> <td>-1.39e-15</td> <td> 5.55e-16</td>\n",
       "</tr>\n",
       "<tr>\n",
       "  <th>source_Based_on_Factual_BookArticle</th>               <td>-3.331e-16</td> <td> 3.33e-16</td> <td>   -1.001</td> <td> 0.317</td> <td>-9.86e-16</td> <td>  3.2e-16</td>\n",
       "</tr>\n",
       "<tr>\n",
       "  <th>source_Based_on_Fiction_BookShort_Story</th>           <td> 2.238e-16</td> <td> 2.68e-16</td> <td>    0.835</td> <td> 0.404</td> <td>-3.02e-16</td> <td>  7.5e-16</td>\n",
       "</tr>\n",
       "<tr>\n",
       "  <th>source_Based_on_Folk_TaleLegendFairytale</th>          <td>-5.169e-16</td> <td> 4.82e-16</td> <td>   -1.072</td> <td> 0.284</td> <td>-1.46e-15</td> <td> 4.29e-16</td>\n",
       "</tr>\n",
       "<tr>\n",
       "  <th>source_Based_on_Game</th>                              <td> 5.204e-17</td> <td> 5.24e-16</td> <td>    0.099</td> <td> 0.921</td> <td>-9.75e-16</td> <td> 1.08e-15</td>\n",
       "</tr>\n",
       "<tr>\n",
       "  <th>source_Based_on_Movie</th>                             <td>-3.261e-16</td> <td> 6.85e-16</td> <td>   -0.476</td> <td> 0.634</td> <td>-1.67e-15</td> <td> 1.02e-15</td>\n",
       "</tr>\n",
       "<tr>\n",
       "  <th>source_Based_on_Musical_Group</th>                     <td>-3.331e-16</td> <td> 1.45e-15</td> <td>   -0.230</td> <td> 0.818</td> <td>-3.17e-15</td> <td> 2.51e-15</td>\n",
       "</tr>\n",
       "<tr>\n",
       "  <th>source_Based_on_Musical_or_Opera</th>                  <td> 1.221e-15</td> <td> 1.09e-15</td> <td>    1.119</td> <td> 0.263</td> <td>-9.19e-16</td> <td> 3.36e-15</td>\n",
       "</tr>\n",
       "<tr>\n",
       "  <th>source_Based_on_Play</th>                              <td>-4.302e-16</td> <td>  5.6e-16</td> <td>   -0.768</td> <td> 0.443</td> <td>-1.53e-15</td> <td> 6.69e-16</td>\n",
       "</tr>\n",
       "<tr>\n",
       "  <th>source_Based_on_Real_Life_Events</th>                  <td>-2.047e-16</td> <td> 3.14e-16</td> <td>   -0.651</td> <td> 0.515</td> <td>-8.22e-16</td> <td> 4.12e-16</td>\n",
       "</tr>\n",
       "<tr>\n",
       "  <th>source_Based_on_Religious_Text</th>                    <td>-3.261e-16</td> <td> 8.87e-16</td> <td>   -0.368</td> <td> 0.713</td> <td>-2.07e-15</td> <td> 1.41e-15</td>\n",
       "</tr>\n",
       "<tr>\n",
       "  <th>source_Based_on_Short_Film</th>                        <td>-3.608e-16</td> <td> 6.27e-16</td> <td>   -0.575</td> <td> 0.565</td> <td>-1.59e-15</td> <td> 8.69e-16</td>\n",
       "</tr>\n",
       "<tr>\n",
       "  <th>source_Based_on_Song</th>                              <td>-4.441e-16</td> <td> 1.93e-15</td> <td>   -0.230</td> <td> 0.818</td> <td>-4.24e-15</td> <td> 3.35e-15</td>\n",
       "</tr>\n",
       "<tr>\n",
       "  <th>source_Based_on_TV</th>                                <td> 8.327e-17</td> <td> 3.86e-16</td> <td>    0.216</td> <td> 0.829</td> <td>-6.74e-16</td> <td> 8.41e-16</td>\n",
       "</tr>\n",
       "<tr>\n",
       "  <th>source_Based_on_Theme_Park_Ride</th>                   <td> 7.216e-16</td> <td> 1.37e-15</td> <td>    0.528</td> <td> 0.597</td> <td>-1.96e-15</td> <td>  3.4e-15</td>\n",
       "</tr>\n",
       "<tr>\n",
       "  <th>source_Based_on_Toy</th>                               <td> 4.163e-16</td> <td> 6.32e-16</td> <td>    0.659</td> <td> 0.510</td> <td>-8.24e-16</td> <td> 1.66e-15</td>\n",
       "</tr>\n",
       "<tr>\n",
       "  <th>source_Compilation</th>                                <td> 3.608e-16</td> <td>  6.5e-16</td> <td>    0.555</td> <td> 0.579</td> <td>-9.14e-16</td> <td> 1.64e-15</td>\n",
       "</tr>\n",
       "<tr>\n",
       "  <th>source_Original_Screenplay</th>                        <td> 9.021e-17</td> <td> 2.55e-16</td> <td>    0.353</td> <td> 0.724</td> <td>-4.11e-16</td> <td> 5.91e-16</td>\n",
       "</tr>\n",
       "<tr>\n",
       "  <th>source_Remake</th>                                     <td>-1.388e-17</td> <td>  3.5e-16</td> <td>   -0.040</td> <td> 0.968</td> <td>-7.01e-16</td> <td> 6.73e-16</td>\n",
       "</tr>\n",
       "<tr>\n",
       "  <th>source_Spin_Off</th>                                   <td> 3.331e-16</td> <td>  5.4e-16</td> <td>    0.617</td> <td> 0.537</td> <td>-7.26e-16</td> <td> 1.39e-15</td>\n",
       "</tr>\n",
       "<tr>\n",
       "  <th>prodmethod_Digital_Animation</th>                      <td>  5.87e-15</td> <td> 1.56e-16</td> <td>   37.694</td> <td> 0.000</td> <td> 5.56e-15</td> <td> 6.18e-15</td>\n",
       "</tr>\n",
       "<tr>\n",
       "  <th>prodmethod_Hand_Animation</th>                         <td> 4.649e-16</td> <td> 6.86e-16</td> <td>    0.677</td> <td> 0.498</td> <td>-8.82e-16</td> <td> 1.81e-15</td>\n",
       "</tr>\n",
       "<tr>\n",
       "  <th>prodmethod_Live_Action</th>                            <td> 2.425e-15</td> <td> 1.27e-16</td> <td>   19.093</td> <td> 0.000</td> <td> 2.18e-15</td> <td> 2.67e-15</td>\n",
       "</tr>\n",
       "<tr>\n",
       "  <th>prodmethod_Multiple_Production_Methods</th>            <td> 2.359e-16</td> <td>  6.5e-16</td> <td>    0.363</td> <td> 0.717</td> <td>-1.04e-15</td> <td> 1.51e-15</td>\n",
       "</tr>\n",
       "<tr>\n",
       "  <th>prodmethod_Stop_Motion_Animation</th>                  <td>-6.106e-16</td> <td> 3.85e-16</td> <td>   -1.588</td> <td> 0.113</td> <td>-1.36e-15</td> <td> 1.44e-16</td>\n",
       "</tr>\n",
       "<tr>\n",
       "  <th>creativetype_Digital_Animation</th>                    <td>-5.621e-15</td> <td> 1.56e-16</td> <td>  -36.090</td> <td> 0.000</td> <td>-5.93e-15</td> <td>-5.31e-15</td>\n",
       "</tr>\n",
       "<tr>\n",
       "  <th>creativetype_Hand_Animation</th>                       <td> 4.337e-16</td> <td> 6.86e-16</td> <td>    0.632</td> <td> 0.528</td> <td>-9.13e-16</td> <td> 1.78e-15</td>\n",
       "</tr>\n",
       "<tr>\n",
       "  <th>creativetype_Live_Action</th>                          <td>-1.114e-15</td> <td> 1.27e-16</td> <td>   -8.768</td> <td> 0.000</td> <td>-1.36e-15</td> <td>-8.65e-16</td>\n",
       "</tr>\n",
       "<tr>\n",
       "  <th>creativetype_Multiple_Production_Methods</th>          <td> 2.637e-16</td> <td>  6.5e-16</td> <td>    0.406</td> <td> 0.685</td> <td>-1.01e-15</td> <td> 1.54e-15</td>\n",
       "</tr>\n",
       "<tr>\n",
       "  <th>creativetype_Stop_Motion_Animation</th>                <td> 3.608e-16</td> <td> 3.85e-16</td> <td>    0.938</td> <td> 0.348</td> <td>-3.93e-16</td> <td> 1.12e-15</td>\n",
       "</tr>\n",
       "</table>\n",
       "<table class=\"simpletable\">\n",
       "<tr>\n",
       "  <th>Omnibus:</th>       <td>264.321</td> <th>  Durbin-Watson:     </th> <td>   0.717</td> \n",
       "</tr>\n",
       "<tr>\n",
       "  <th>Prob(Omnibus):</th> <td> 0.000</td>  <th>  Jarque-Bera (JB):  </th> <td> 944.642</td> \n",
       "</tr>\n",
       "<tr>\n",
       "  <th>Skew:</th>          <td>-0.832</td>  <th>  Prob(JB):          </th> <td>7.47e-206</td>\n",
       "</tr>\n",
       "<tr>\n",
       "  <th>Kurtosis:</th>      <td> 6.503</td>  <th>  Cond. No.          </th> <td>2.24e+18</td> \n",
       "</tr>\n",
       "</table><br/><br/>Notes:<br/>[1] Standard Errors assume that the covariance matrix of the errors is correctly specified.<br/>[2] The smallest eigenvalue is 1.17e-33. This might indicate that there are<br/>strong multicollinearity problems or that the design matrix is singular."
      ],
      "text/plain": [
       "<class 'statsmodels.iolib.summary.Summary'>\n",
       "\"\"\"\n",
       "                            OLS Regression Results                            \n",
       "==============================================================================\n",
       "Dep. Variable:         inf_dombox_log   R-squared:                       1.000\n",
       "Model:                            OLS   Adj. R-squared:                  1.000\n",
       "Method:                 Least Squares   F-statistic:                 2.986e+30\n",
       "Date:                Thu, 09 Sep 2021   Prob (F-statistic):               0.00\n",
       "Time:                        01:54:12   Log-Likelihood:                 49075.\n",
       "No. Observations:                1508   AIC:                        -9.786e+04\n",
       "Df Residuals:                    1363   BIC:                        -9.709e+04\n",
       "Df Model:                         144                                         \n",
       "Covariance Type:            nonrobust                                         \n",
       "=====================================================================================================================\n",
       "                                                        coef    std err          t      P>|t|      [0.025      0.975]\n",
       "---------------------------------------------------------------------------------------------------------------------\n",
       "Intercept                                          6.661e-16   1.91e-15      0.348      0.728   -3.09e-15    4.42e-15\n",
       "productionbudget_log                              -6.262e-16   9.36e-17     -6.693      0.000    -8.1e-16   -4.43e-16\n",
       "maxtheaters_log                                   -8.014e-16   1.41e-16     -5.695      0.000   -1.08e-15   -5.25e-16\n",
       "dombox_log                                        -3.053e-16    1.9e-15     -0.160      0.873   -4.04e-15    3.43e-15\n",
       "inf_dombox_log                                        1.0000   1.88e-15   5.33e+14      0.000       1.000       1.000\n",
       "runtime_min_log                                   -1.683e-16   6.57e-17     -2.562      0.011   -2.97e-16   -3.94e-17\n",
       "act_infl_log                                       1.926e-16   6.05e-17      3.181      0.001    7.38e-17    3.11e-16\n",
       "dir_infl_log                                      -7.112e-17   6.38e-17     -1.115      0.265   -1.96e-16     5.4e-17\n",
       "franchise                                          1.249e-16   1.54e-16      0.811      0.418   -1.77e-16    4.27e-16\n",
       "distributor_20th_Century_Fox                      -2.942e-15   1.89e-15     -1.553      0.121   -6.66e-15    7.75e-16\n",
       "distributor_A24                                   -6.661e-16   1.92e-15     -0.347      0.729   -4.43e-15     3.1e-15\n",
       "distributor_AFFRM                                  7.772e-15   2.68e-15      2.896      0.004    2.51e-15     1.3e-14\n",
       "distributor_Abramorama_Films                      -3.775e-15   2.66e-15     -1.418      0.156      -9e-15    1.45e-15\n",
       "distributor_Alchemy                               -1.776e-15   2.03e-15     -0.876      0.381   -5.75e-15     2.2e-15\n",
       "distributor_Amazon_Studios                        -7.772e-16    2.1e-15     -0.369      0.712    -4.9e-15    3.35e-15\n",
       "distributor_Amazon_StudiosRoadside_Attractions    -7.994e-15   2.71e-15     -2.955      0.003   -1.33e-14   -2.69e-15\n",
       "distributor_Anchor_Bay_Entertainment              -2.665e-15   2.12e-15     -1.256      0.209   -6.83e-15     1.5e-15\n",
       "distributor_Annapurna_Pictures                     2.776e-16   2.03e-15      0.137      0.891   -3.71e-15    4.27e-15\n",
       "distributor_Apparition                            -2.859e-15   2.65e-15     -1.077      0.282   -8.07e-15    2.35e-15\n",
       "distributor_Atlas_Distribution                      2.22e-16   2.66e-15      0.083      0.934      -5e-15    5.45e-15\n",
       "distributor_Aviron_Pictures                       -8.882e-16   2.17e-15     -0.408      0.683   -5.15e-15    3.38e-15\n",
       "distributor_BH_Tilt                               -2.609e-15   2.11e-15     -1.237      0.216   -6.75e-15    1.53e-15\n",
       "distributor_Bleecker_Street                       -5.551e-16   1.96e-15     -0.283      0.777    -4.4e-15    3.29e-15\n",
       "distributor_Briarcliffe_Entertainment             -3.997e-15   2.67e-15     -1.495      0.135   -9.24e-15    1.25e-15\n",
       "distributor_Broad_Green_Pictures                   -2.22e-16   2.02e-15     -0.110      0.912   -4.18e-15    3.74e-15\n",
       "distributor_CBS_Films                             -8.882e-16   1.95e-15     -0.456      0.648   -4.71e-15    2.93e-15\n",
       "distributor_Cinelou_Releasing                      -1.11e-15   2.66e-15     -0.417      0.677   -6.33e-15    4.11e-15\n",
       "distributor_Clarius_Entertainment                 -3.109e-15   2.18e-15     -1.426      0.154   -7.38e-15    1.17e-15\n",
       "distributor_Codeblack_Entertainment               -3.331e-15    2.9e-15     -1.150      0.250   -9.01e-15    2.35e-15\n",
       "distributor_Cohen_Media_Group                     -2.776e-15   2.11e-15     -1.314      0.189   -6.92e-15    1.37e-15\n",
       "distributor_Drafthouse_Films                       -2.22e-15   2.71e-15     -0.819      0.413   -7.54e-15     3.1e-15\n",
       "distributor_Echolight_Studios                              0   2.67e-15          0      1.000   -5.24e-15    5.24e-15\n",
       "distributor_Electric_Entertainment                -4.885e-15   2.65e-15     -1.842      0.066   -1.01e-14    3.16e-16\n",
       "distributor_Elevation_Pictures                     -2.22e-15   2.67e-15     -0.831      0.406   -7.46e-15    3.02e-15\n",
       "distributor_Entertainment_One                      2.776e-16   2.68e-15      0.103      0.918   -4.99e-15    5.54e-15\n",
       "distributor_Entertainment_Studios_Motion_Pictures -7.772e-16   2.01e-15     -0.388      0.698   -4.71e-15    3.16e-15\n",
       "distributor_EuropaCorp                             9.992e-16   2.18e-15      0.459      0.646   -3.27e-15    5.27e-15\n",
       "distributor_Exclusive_Releasing                   -7.772e-16   2.66e-15     -0.292      0.770   -5.99e-15    4.44e-15\n",
       "distributor_FUNimation                            -2.109e-15    2.7e-15     -0.781      0.435   -7.41e-15    3.19e-15\n",
       "distributor_Fathom_Events                         -3.109e-15   2.74e-15     -1.134      0.257   -8.49e-15    2.27e-15\n",
       "distributor_FilmDistrict                          -2.109e-15   1.97e-15     -1.069      0.285   -5.98e-15    1.76e-15\n",
       "distributor_Five_and_Two_Pictures                 -2.665e-15   2.67e-15     -0.998      0.318    -7.9e-15    2.57e-15\n",
       "distributor_Focus_Features                        -2.998e-15   1.91e-15     -1.572      0.116   -6.74e-15    7.43e-16\n",
       "distributor_Focus_World                            -2.22e-15   2.67e-15     -0.830      0.407   -7.47e-15    3.03e-15\n",
       "distributor_Fox_Searchlight                        -1.11e-15   1.91e-15     -0.581      0.561   -4.86e-15    2.64e-15\n",
       "distributor_Freestyle_Releasing                   -1.221e-15   2.04e-15     -0.598      0.550   -5.23e-15    2.79e-15\n",
       "distributor_Fun_Academy_Motion_Pictures                    0   2.66e-15          0      1.000   -5.22e-15    5.22e-15\n",
       "distributor_GKIDS                                 -5.995e-15   2.99e-15     -2.004      0.045   -1.19e-14   -1.26e-16\n",
       "distributor_GVN_Releasing                         -3.664e-15   2.67e-15     -1.372      0.170    -8.9e-15    1.57e-15\n",
       "distributor_Global_Road                           -2.054e-15   2.31e-15     -0.889      0.374   -6.59e-15    2.48e-15\n",
       "distributor_Good_Deed_Entertainment                -2.97e-15   2.67e-15     -1.113      0.266    -8.2e-15    2.26e-15\n",
       "distributor_Gunpowder_and_Sky                     -2.665e-15   2.67e-15     -0.998      0.318    -7.9e-15    2.57e-15\n",
       "distributor_Hammond_Entertainment                 -2.442e-15   2.65e-15     -0.921      0.357   -7.64e-15    2.76e-15\n",
       "distributor_High_Top_Releasing                    -1.249e-15   2.08e-15     -0.601      0.548   -5.33e-15    2.83e-15\n",
       "distributor_IFC_Films                             -1.887e-15   1.97e-15     -0.958      0.338   -5.75e-15    1.98e-15\n",
       "distributor_Image_Entertainment                    -2.22e-16   2.68e-15     -0.083      0.934   -5.48e-15    5.03e-15\n",
       "distributor_Indican_Pictures                        2.22e-15   2.68e-15      0.830      0.407   -3.03e-15    7.47e-15\n",
       "distributor_LD_Distribution                       -2.109e-15   2.33e-15     -0.904      0.366   -6.68e-15    2.47e-15\n",
       "distributor_Lionsgate                             -1.887e-15   1.89e-15     -0.996      0.319    -5.6e-15    1.83e-15\n",
       "distributor_LionsgateRoadside_Attractions         -2.554e-15   2.31e-15     -1.103      0.270   -7.09e-15    1.99e-15\n",
       "distributor_MGM                                   -1.166e-15   2.06e-15     -0.566      0.572   -5.21e-15    2.88e-15\n",
       "distributor_Magnet_Pictures                       -1.998e-15   2.68e-15     -0.744      0.457   -7.26e-15    3.27e-15\n",
       "distributor_Magnolia_Pictures                     -2.359e-15      2e-15     -1.182      0.237   -6.27e-15    1.56e-15\n",
       "distributor_Miramax                               -1.554e-15   2.33e-15     -0.668      0.505   -6.12e-15    3.01e-15\n",
       "distributor_Mongrel_Media                          -1.11e-15   2.33e-15     -0.478      0.633   -5.67e-15    3.45e-15\n",
       "distributor_Monterey_Media                        -4.663e-15   2.67e-15     -1.748      0.081    -9.9e-15    5.71e-16\n",
       "distributor_Music_Box_Films                        1.221e-15   2.68e-15      0.456      0.649   -4.04e-15    6.48e-15\n",
       "distributor_Neon                                  -2.109e-15   2.12e-15     -0.997      0.319   -6.26e-15    2.04e-15\n",
       "distributor_New_Films_Cinema                       4.441e-16   2.67e-15      0.166      0.868    -4.8e-15    5.69e-15\n",
       "distributor_OTL_Releasing                         -2.054e-15   2.32e-15     -0.886      0.376    -6.6e-15    2.49e-15\n",
       "distributor_OminFreestyle                          -1.11e-15   2.68e-15     -0.414      0.679   -6.37e-15    4.15e-15\n",
       "distributor_Open_Road                             -1.443e-15   1.91e-15     -0.754      0.451    -5.2e-15    2.31e-15\n",
       "distributor_Orion_Pictures                         -1.11e-15    2.3e-15     -0.482      0.630   -5.63e-15    3.41e-15\n",
       "distributor_Oscilloscope_Pictures                 -7.772e-16   2.23e-15     -0.349      0.727   -5.15e-15    3.59e-15\n",
       "distributor_Overture_Films                          1.11e-16   2.19e-15      0.051      0.960   -4.18e-15     4.4e-15\n",
       "distributor_Paladin                               -2.887e-15   2.66e-15     -1.083      0.279   -8.11e-15    2.34e-15\n",
       "distributor_Paramount_Pictures                    -8.327e-16    1.9e-15     -0.439      0.661   -4.56e-15    2.89e-15\n",
       "distributor_Paramount_Vantage                      -1.11e-15   2.67e-15     -0.416      0.677   -6.34e-15    4.12e-15\n",
       "distributor_Peace_Film_LLC                          2.22e-15   2.68e-15      0.830      0.407   -3.03e-15    7.47e-15\n",
       "distributor_Picturehouse                           4.441e-16   1.45e-15      0.307      0.759    -2.4e-15    3.28e-15\n",
       "distributor_Purdie_Distribution                   -1.221e-15   2.94e-15     -0.416      0.678   -6.99e-15    4.54e-15\n",
       "distributor_Pure_Flix_Entertainment               -1.166e-15   1.98e-15     -0.590      0.555   -5.04e-15    2.71e-15\n",
       "distributor_RADiUS_TWC                             -1.11e-15   2.05e-15     -0.542      0.588   -5.13e-15    2.91e-15\n",
       "distributor_Radius                                -3.775e-15   2.68e-15     -1.411      0.159   -9.02e-15    1.47e-15\n",
       "distributor_Relativity                            -1.443e-15   1.92e-15     -0.750      0.453   -5.22e-15    2.33e-15\n",
       "distributor_Roadside_Attractions                  -2.776e-16   1.92e-15     -0.144      0.885   -4.05e-15     3.5e-15\n",
       "distributor_Rocky_Mountain_Pictures                1.776e-15   2.19e-15      0.813      0.416   -2.51e-15    6.06e-15\n",
       "distributor_STX_Entertainment                     -9.992e-16   1.92e-15     -0.520      0.603   -4.77e-15    2.77e-15\n",
       "distributor_Saban_Films                           -2.109e-15   2.67e-15     -0.789      0.430   -7.35e-15    3.13e-15\n",
       "distributor_Samuel_Goldwyn_Films                  -1.277e-15   1.99e-15     -0.640      0.522   -5.19e-15    2.63e-15\n",
       "distributor_Smith_Global_Media                    -2.442e-15   2.66e-15     -0.918      0.359   -7.66e-15    2.78e-15\n",
       "distributor_Smodshow_Productions                  -4.663e-15   2.74e-15     -1.699      0.089      -1e-14     7.2e-16\n",
       "distributor_Sony_Pictures                         -9.992e-16   1.89e-15     -0.528      0.598   -4.71e-15    2.72e-15\n",
       "distributor_Sony_Pictures_Classics                 -1.11e-15   1.92e-15     -0.580      0.562   -4.87e-15    2.65e-15\n",
       "distributor_Summit_Entertainment                  -1.221e-15   1.96e-15     -0.623      0.534   -5.07e-15    2.63e-15\n",
       "distributor_Sundance_Selects                      -3.775e-15   2.69e-15     -1.406      0.160   -9.04e-15    1.49e-15\n",
       "distributor_Ten_Furlongs                                   0   2.66e-15          0      1.000   -5.21e-15    5.21e-15\n",
       "distributor_The_Bubble_Factory                    -4.885e-15   2.68e-15     -1.826      0.068   -1.01e-14    3.63e-16\n",
       "distributor_The_Orchard                           -2.165e-15   2.19e-15     -0.988      0.323   -6.46e-15    2.13e-15\n",
       "distributor_TriBeca_Films                           2.22e-16   2.67e-15      0.083      0.934   -5.02e-15    5.46e-15\n",
       "distributor_United_Artists                        -9.992e-16   2.18e-15     -0.458      0.647   -5.28e-15    3.28e-15\n",
       "distributor_Universal                              -1.61e-15   1.89e-15     -0.850      0.396   -5.33e-15    2.11e-15\n",
       "distributor_Variance_Films                         -2.22e-16   2.68e-15     -0.083      0.934   -5.48e-15    5.04e-15\n",
       "distributor_Vertical_Entertainment                 -1.79e-15    2.3e-15     -0.778      0.436    -6.3e-15    2.72e-15\n",
       "distributor_Viva_Entertainment                    -5.329e-15   2.68e-15     -1.990      0.047   -1.06e-14   -7.65e-17\n",
       "distributor_Vivendi_Entertainment                 -5.551e-16   2.66e-15     -0.208      0.835   -5.78e-15    4.67e-15\n",
       "distributor_Walt_Disney                            -1.11e-15    1.9e-15     -0.584      0.559   -4.84e-15    2.62e-15\n",
       "distributor_Warner_Bros                           -2.665e-15   1.89e-15     -1.408      0.159   -6.38e-15    1.05e-15\n",
       "distributor_WeinsteinDimension                    -3.275e-15   2.32e-15     -1.412      0.158   -7.83e-15    1.27e-15\n",
       "distributor_Weinstein_Co                          -1.776e-15    1.9e-15     -0.933      0.351   -5.51e-15    1.96e-15\n",
       "distributor_Wrekin_Hill_Entertainment             -6.661e-16   2.67e-15     -0.250      0.803    -5.9e-15    4.57e-15\n",
       "distributor_XLrator_Media                         -4.441e-16   2.66e-15     -0.167      0.867   -5.66e-15    4.77e-15\n",
       "genre_Adventure                                    8.986e-16   2.39e-16      3.756      0.000    4.29e-16    1.37e-15\n",
       "genre_Black_Comedy                                -4.163e-17   3.94e-16     -0.106      0.916   -8.14e-16    7.31e-16\n",
       "genre_Comedy                                       2.186e-16    2.1e-16      1.039      0.299   -1.94e-16    6.31e-16\n",
       "genre_ConcertPerformance                           1.249e-16   1.12e-15      0.112      0.911   -2.07e-15    2.31e-15\n",
       "genre_Documentary                                 -1.665e-16   1.27e-15     -0.132      0.895   -2.65e-15    2.32e-15\n",
       "genre_Drama                                        3.192e-16   2.07e-16      1.544      0.123   -8.65e-17    7.25e-16\n",
       "genre_Horror                                       1.388e-16   2.54e-16      0.547      0.584   -3.59e-16    6.36e-16\n",
       "genre_Musical                                     -7.772e-16   4.84e-16     -1.607      0.108   -1.73e-15    1.72e-16\n",
       "genre_Romantic_Comedy                               5.69e-16    3.2e-16      1.779      0.076   -5.86e-17     1.2e-15\n",
       "genre_ThrillerSuspense                             5.482e-16   2.09e-16      2.627      0.009    1.39e-16    9.57e-16\n",
       "genre_Western                                     -4.163e-16   4.95e-16     -0.841      0.400   -1.39e-15    5.55e-16\n",
       "source_Based_on_Factual_BookArticle               -3.331e-16   3.33e-16     -1.001      0.317   -9.86e-16     3.2e-16\n",
       "source_Based_on_Fiction_BookShort_Story            2.238e-16   2.68e-16      0.835      0.404   -3.02e-16     7.5e-16\n",
       "source_Based_on_Folk_TaleLegendFairytale          -5.169e-16   4.82e-16     -1.072      0.284   -1.46e-15    4.29e-16\n",
       "source_Based_on_Game                               5.204e-17   5.24e-16      0.099      0.921   -9.75e-16    1.08e-15\n",
       "source_Based_on_Movie                             -3.261e-16   6.85e-16     -0.476      0.634   -1.67e-15    1.02e-15\n",
       "source_Based_on_Musical_Group                     -3.331e-16   1.45e-15     -0.230      0.818   -3.17e-15    2.51e-15\n",
       "source_Based_on_Musical_or_Opera                   1.221e-15   1.09e-15      1.119      0.263   -9.19e-16    3.36e-15\n",
       "source_Based_on_Play                              -4.302e-16    5.6e-16     -0.768      0.443   -1.53e-15    6.69e-16\n",
       "source_Based_on_Real_Life_Events                  -2.047e-16   3.14e-16     -0.651      0.515   -8.22e-16    4.12e-16\n",
       "source_Based_on_Religious_Text                    -3.261e-16   8.87e-16     -0.368      0.713   -2.07e-15    1.41e-15\n",
       "source_Based_on_Short_Film                        -3.608e-16   6.27e-16     -0.575      0.565   -1.59e-15    8.69e-16\n",
       "source_Based_on_Song                              -4.441e-16   1.93e-15     -0.230      0.818   -4.24e-15    3.35e-15\n",
       "source_Based_on_TV                                 8.327e-17   3.86e-16      0.216      0.829   -6.74e-16    8.41e-16\n",
       "source_Based_on_Theme_Park_Ride                    7.216e-16   1.37e-15      0.528      0.597   -1.96e-15     3.4e-15\n",
       "source_Based_on_Toy                                4.163e-16   6.32e-16      0.659      0.510   -8.24e-16    1.66e-15\n",
       "source_Compilation                                 3.608e-16    6.5e-16      0.555      0.579   -9.14e-16    1.64e-15\n",
       "source_Original_Screenplay                         9.021e-17   2.55e-16      0.353      0.724   -4.11e-16    5.91e-16\n",
       "source_Remake                                     -1.388e-17    3.5e-16     -0.040      0.968   -7.01e-16    6.73e-16\n",
       "source_Spin_Off                                    3.331e-16    5.4e-16      0.617      0.537   -7.26e-16    1.39e-15\n",
       "prodmethod_Digital_Animation                        5.87e-15   1.56e-16     37.694      0.000    5.56e-15    6.18e-15\n",
       "prodmethod_Hand_Animation                          4.649e-16   6.86e-16      0.677      0.498   -8.82e-16    1.81e-15\n",
       "prodmethod_Live_Action                             2.425e-15   1.27e-16     19.093      0.000    2.18e-15    2.67e-15\n",
       "prodmethod_Multiple_Production_Methods             2.359e-16    6.5e-16      0.363      0.717   -1.04e-15    1.51e-15\n",
       "prodmethod_Stop_Motion_Animation                  -6.106e-16   3.85e-16     -1.588      0.113   -1.36e-15    1.44e-16\n",
       "creativetype_Digital_Animation                    -5.621e-15   1.56e-16    -36.090      0.000   -5.93e-15   -5.31e-15\n",
       "creativetype_Hand_Animation                        4.337e-16   6.86e-16      0.632      0.528   -9.13e-16    1.78e-15\n",
       "creativetype_Live_Action                          -1.114e-15   1.27e-16     -8.768      0.000   -1.36e-15   -8.65e-16\n",
       "creativetype_Multiple_Production_Methods           2.637e-16    6.5e-16      0.406      0.685   -1.01e-15    1.54e-15\n",
       "creativetype_Stop_Motion_Animation                 3.608e-16   3.85e-16      0.938      0.348   -3.93e-16    1.12e-15\n",
       "==============================================================================\n",
       "Omnibus:                      264.321   Durbin-Watson:                   0.717\n",
       "Prob(Omnibus):                  0.000   Jarque-Bera (JB):              944.642\n",
       "Skew:                          -0.832   Prob(JB):                    7.47e-206\n",
       "Kurtosis:                       6.503   Cond. No.                     2.24e+18\n",
       "==============================================================================\n",
       "\n",
       "Notes:\n",
       "[1] Standard Errors assume that the covariance matrix of the errors is correctly specified.\n",
       "[2] The smallest eigenvalue is 1.17e-33. This might indicate that there are\n",
       "strong multicollinearity problems or that the design matrix is singular.\n",
       "\"\"\""
      ]
     },
     "execution_count": 971,
     "metadata": {},
     "output_type": "execute_result"
    }
   ],
   "source": [
    "baseline_model = ols(formula = formula, data = preprocessed).fit()\n",
    "baseline_model.summary()"
   ]
  },
  {
   "cell_type": "markdown",
   "metadata": {},
   "source": [
    "**Observations:**\n",
    "Conclusions from baseline model:\n",
    "\n",
    "1. Drop **dombox_log** as its not a relevant feature\n",
    "2. Drop **dir_infl_log** Director Influence not relevant \n",
    "3. Part of a Franchise it self not relevant...maybe more secific would be\n",
    "4. Can remove distributors as none are relevant\n"
   ]
  },
  {
   "cell_type": "code",
   "execution_count": 972,
   "metadata": {
    "ExecuteTime": {
     "end_time": "2021-09-09T05:55:39.232593Z",
     "start_time": "2021-09-09T05:55:39.087595Z"
    }
   },
   "outputs": [],
   "source": [
    "X = preprocessed.drop(columns='inf_dombox_log',axis=1)\n",
    "y = preprocessed['inf_dombox_log']"
   ]
  },
  {
   "cell_type": "markdown",
   "metadata": {},
   "source": [
    "### Perform a train-test split"
   ]
  },
  {
   "cell_type": "code",
   "execution_count": 989,
   "metadata": {
    "ExecuteTime": {
     "end_time": "2021-09-09T06:18:25.476004Z",
     "start_time": "2021-09-09T06:18:25.388607Z"
    }
   },
   "outputs": [
    {
     "name": "stdout",
     "output_type": "stream",
     "text": [
      "1131 377 1131 377\n"
     ]
    }
   ],
   "source": [
    "# Split the data into training and test sets. Use the default split size\n",
    "from sklearn.model_selection import train_test_split\n",
    "X_train, X_test, y_train, y_test = train_test_split(X, y, test_size = 0.25, random_state = 25)\n",
    "print(len(X_train), len(X_test), len(y_train), len(y_test))"
   ]
  },
  {
   "cell_type": "markdown",
   "metadata": {},
   "source": [
    "### Apply model to train set"
   ]
  },
  {
   "cell_type": "code",
   "execution_count": 995,
   "metadata": {
    "ExecuteTime": {
     "end_time": "2021-09-09T06:22:58.914350Z",
     "start_time": "2021-09-09T06:22:58.882382Z"
    }
   },
   "outputs": [
    {
     "data": {
      "text/plain": [
       "LinearRegression()"
      ]
     },
     "execution_count": 995,
     "metadata": {},
     "output_type": "execute_result"
    }
   ],
   "source": [
    "# Import and initialize the linear regression model class\n",
    "from sklearn.linear_model import LinearRegression\n",
    "baseline_linreg = LinearRegression()\n",
    "# Fit the model to train data\n",
    "baseline_linreg.fit(X_train, y_train)"
   ]
  },
  {
   "cell_type": "markdown",
   "metadata": {},
   "source": [
    "### Calculate predictions on training and test sets"
   ]
  },
  {
   "cell_type": "code",
   "execution_count": 996,
   "metadata": {
    "ExecuteTime": {
     "end_time": "2021-09-09T06:23:03.445130Z",
     "start_time": "2021-09-09T06:23:03.427115Z"
    }
   },
   "outputs": [],
   "source": [
    "# Calculate predictions on training and test sets\n",
    "y_hat_train = baseline_linreg.predict(X_train)\n",
    "y_pred = baseline_linreg.predict(X_test)"
   ]
  },
  {
   "cell_type": "code",
   "execution_count": 998,
   "metadata": {
    "ExecuteTime": {
     "end_time": "2021-09-09T06:23:57.778924Z",
     "start_time": "2021-09-09T06:23:57.771950Z"
    }
   },
   "outputs": [],
   "source": [
    "# Calculate residuals\n",
    "train_residuals = y_hat_train - y_train\n",
    "test_residuals = y_pred - y_test"
   ]
  },
  {
   "cell_type": "markdown",
   "metadata": {},
   "source": [
    "### Calculate the Mean Squared Error (MSE)\n",
    "\n",
    "A good way to compare overall performance is to compare the mean squarred error for the predicted values on the training and test sets."
   ]
  },
  {
   "cell_type": "code",
   "execution_count": 900,
   "metadata": {
    "ExecuteTime": {
     "end_time": "2021-09-08T14:51:40.218696Z",
     "start_time": "2021-09-08T14:51:40.151697Z"
    }
   },
   "outputs": [],
   "source": [
    "# Import mean_squared_error from sklearn.metrics\n",
    "from sklearn.metrics import mean_squared_error"
   ]
  },
  {
   "cell_type": "code",
   "execution_count": 1001,
   "metadata": {
    "ExecuteTime": {
     "end_time": "2021-09-09T06:25:14.802784Z",
     "start_time": "2021-09-09T06:25:14.790810Z"
    }
   },
   "outputs": [
    {
     "name": "stdout",
     "output_type": "stream",
     "text": [
      "Train Mean Squarred Error: 0.0006523654827221526\n",
      "Test Mean Squarred Error: 4.432120578640094e+17\n"
     ]
    }
   ],
   "source": [
    "# Calculate training and test MSE\n",
    "train_mse = mean_squared_error(y_train, y_hat_train)\n",
    "test_mse = mean_squared_error(y_test, y_pred)\n",
    "print('Train Mean Squarred Error:', train_mse)\n",
    "print('Test Mean Squarred Error:', test_mse)"
   ]
  },
  {
   "cell_type": "code",
   "execution_count": 1002,
   "metadata": {
    "ExecuteTime": {
     "end_time": "2021-09-09T06:26:04.881437Z",
     "start_time": "2021-09-09T06:25:52.693629Z"
    }
   },
   "outputs": [
    {
     "data": {
      "image/png": "[encoded data removed]",
      "text/plain": [
       "<Figure size 432x288 with 1 Axes>"
      ]
     },
     "metadata": {
      "needs_background": "light"
     },
     "output_type": "display_data"
    }
   ],
   "source": [
    "import statsmodels.api as sm\n",
    "import scipy.stats as stats\n",
    "fig = sm.graphics.qqplot(baseline_model.resid, dist=stats.norm, line='45', fit=True)"
   ]
  },
  {
   "cell_type": "code",
   "execution_count": null,
   "metadata": {},
   "outputs": [],
   "source": []
  },
  {
   "cell_type": "code",
   "execution_count": null,
   "metadata": {},
   "outputs": [],
   "source": []
  },
  {
   "cell_type": "markdown",
   "metadata": {},
   "source": [
    "## Model 2 -  Remove Disto"
   ]
  },
  {
   "cell_type": "code",
   "execution_count": 1010,
   "metadata": {
    "ExecuteTime": {
     "end_time": "2021-09-09T07:41:56.009691Z",
     "start_time": "2021-09-09T07:41:55.971693Z"
    }
   },
   "outputs": [],
   "source": [
    "continuous = ['productionbudget', 'maxtheaters', 'inf_dombox','runtime_min','act_infl']\n",
    "categoricals = ['genre', 'source', 'prodmethod', 'creativetype']"
   ]
  },
  {
   "cell_type": "code",
   "execution_count": null,
   "metadata": {
    "ExecuteTime": {
     "end_time": "2021-09-09T07:20:07.413388Z",
     "start_time": "2021-09-09T07:20:07.406392Z"
    }
   },
   "outputs": [],
   "source": []
  },
  {
   "cell_type": "code",
   "execution_count": 1014,
   "metadata": {
    "ExecuteTime": {
     "end_time": "2021-09-09T07:45:48.236364Z",
     "start_time": "2021-09-09T07:45:48.200335Z"
    }
   },
   "outputs": [],
   "source": [
    "movies_cont = merged_df[continuous]\n",
    "\n",
    "# log features\n",
    "log_names = [f'{column}_log' for column in movies_cont.columns]\n",
    "\n",
    "movies_log = np.log(movies_cont)\n",
    "movies_log.columns = log_names\n",
    "\n",
    "# normalize (subract mean and divide by std)\n",
    "def normalize(feature):\n",
    "    return (feature - feature.mean()) / feature.std()\n",
    "\n",
    "movies_log_norm = movies_log.apply(normalize)\n",
    "\n",
    "# one hot encode categoricals\n",
    "movies_ohe = pd.get_dummies(merged_df[categoricals], prefix=categoricals, drop_first=True)\n",
    "preprocessed2 = pd.concat([movies_log_norm,merged_df['franchise'] ,movies_ohe], axis=1)"
   ]
  },
  {
   "cell_type": "code",
   "execution_count": 1015,
   "metadata": {
    "ExecuteTime": {
     "end_time": "2021-09-09T07:45:51.374417Z",
     "start_time": "2021-09-09T07:45:51.367422Z"
    }
   },
   "outputs": [
    {
     "name": "stdout",
     "output_type": "stream",
     "text": [
      "productionbudget_log+maxtheaters_log+inf_dombox_log+runtime_min_log+act_infl_log+franchise+genre_Adventure+genre_Black_Comedy+genre_Comedy+genre_ConcertPerformance+genre_Documentary+genre_Drama+genre_Horror+genre_Musical+genre_Romantic_Comedy+genre_ThrillerSuspense+genre_Western+source_Based_on_Factual_BookArticle+source_Based_on_Fiction_BookShort_Story+source_Based_on_Folk_TaleLegendFairytale+source_Based_on_Game+source_Based_on_Movie+source_Based_on_Musical_Group+source_Based_on_Musical_or_Opera+source_Based_on_Play+source_Based_on_Real_Life_Events+source_Based_on_Religious_Text+source_Based_on_Short_Film+source_Based_on_Song+source_Based_on_TV+source_Based_on_Theme_Park_Ride+source_Based_on_Toy+source_Compilation+source_Original_Screenplay+source_Remake+source_Spin_Off+prodmethod_Digital_Animation+prodmethod_Hand_Animation+prodmethod_Live_Action+prodmethod_Multiple_Production_Methods+prodmethod_Stop_Motion_Animation+creativetype_Digital_Animation+creativetype_Hand_Animation+creativetype_Live_Action+creativetype_Multiple_Production_Methods+creativetype_Stop_Motion_Animation\n",
      "inf_dombox_log~productionbudget_log+maxtheaters_log+inf_dombox_log+runtime_min_log+act_infl_log+franchise+genre_Adventure+genre_Black_Comedy+genre_Comedy+genre_ConcertPerformance+genre_Documentary+genre_Drama+genre_Horror+genre_Musical+genre_Romantic_Comedy+genre_ThrillerSuspense+genre_Western+source_Based_on_Factual_BookArticle+source_Based_on_Fiction_BookShort_Story+source_Based_on_Folk_TaleLegendFairytale+source_Based_on_Game+source_Based_on_Movie+source_Based_on_Musical_Group+source_Based_on_Musical_or_Opera+source_Based_on_Play+source_Based_on_Real_Life_Events+source_Based_on_Religious_Text+source_Based_on_Short_Film+source_Based_on_Song+source_Based_on_TV+source_Based_on_Theme_Park_Ride+source_Based_on_Toy+source_Compilation+source_Original_Screenplay+source_Remake+source_Spin_Off+prodmethod_Digital_Animation+prodmethod_Hand_Animation+prodmethod_Live_Action+prodmethod_Multiple_Production_Methods+prodmethod_Stop_Motion_Animation+creativetype_Digital_Animation+creativetype_Hand_Animation+creativetype_Live_Action+creativetype_Multiple_Production_Methods+creativetype_Stop_Motion_Animation\n"
     ]
    }
   ],
   "source": [
    "\n",
    "outcome = 'inf_dombox_log'\n",
    "predictor_variables = \"+\".join(preprocessed2.columns)\n",
    "formula = outcome + '~' + predictor_variables\n",
    "print(predictor_variables)\n",
    "print(formula)"
   ]
  },
  {
   "cell_type": "code",
   "execution_count": 1016,
   "metadata": {
    "ExecuteTime": {
     "end_time": "2021-09-09T07:45:55.254873Z",
     "start_time": "2021-09-09T07:45:54.852865Z"
    }
   },
   "outputs": [
    {
     "data": {
      "text/html": [
       "<table class=\"simpletable\">\n",
       "<caption>OLS Regression Results</caption>\n",
       "<tr>\n",
       "  <th>Dep. Variable:</th>     <td>inf_dombox_log</td>  <th>  R-squared:         </th>  <td>   1.000</td> \n",
       "</tr>\n",
       "<tr>\n",
       "  <th>Model:</th>                   <td>OLS</td>       <th>  Adj. R-squared:    </th>  <td>   1.000</td> \n",
       "</tr>\n",
       "<tr>\n",
       "  <th>Method:</th>             <td>Least Squares</td>  <th>  F-statistic:       </th>  <td>1.125e+31</td>\n",
       "</tr>\n",
       "<tr>\n",
       "  <th>Date:</th>             <td>Thu, 09 Sep 2021</td> <th>  Prob (F-statistic):</th>   <td>  0.00</td>  \n",
       "</tr>\n",
       "<tr>\n",
       "  <th>Time:</th>                 <td>03:45:55</td>     <th>  Log-Likelihood:    </th>  <td>  49054.</td> \n",
       "</tr>\n",
       "<tr>\n",
       "  <th>No. Observations:</th>      <td>  1508</td>      <th>  AIC:               </th> <td>-9.803e+04</td>\n",
       "</tr>\n",
       "<tr>\n",
       "  <th>Df Residuals:</th>          <td>  1467</td>      <th>  BIC:               </th> <td>-9.781e+04</td>\n",
       "</tr>\n",
       "<tr>\n",
       "  <th>Df Model:</th>              <td>    40</td>      <th>                     </th>      <td> </td>    \n",
       "</tr>\n",
       "<tr>\n",
       "  <th>Covariance Type:</th>      <td>nonrobust</td>    <th>                     </th>      <td> </td>    \n",
       "</tr>\n",
       "</table>\n",
       "<table class=\"simpletable\">\n",
       "<tr>\n",
       "                      <td></td>                        <th>coef</th>     <th>std err</th>      <th>t</th>      <th>P>|t|</th>  <th>[0.025</th>    <th>0.975]</th>  \n",
       "</tr>\n",
       "<tr>\n",
       "  <th>Intercept</th>                                <td>-7.459e-17</td> <td> 2.99e-16</td> <td>   -0.249</td> <td> 0.803</td> <td>-6.62e-16</td> <td> 5.13e-16</td>\n",
       "</tr>\n",
       "<tr>\n",
       "  <th>productionbudget_log</th>                     <td>-2.914e-16</td> <td> 8.02e-17</td> <td>   -3.632</td> <td> 0.000</td> <td>-4.49e-16</td> <td>-1.34e-16</td>\n",
       "</tr>\n",
       "<tr>\n",
       "  <th>maxtheaters_log</th>                          <td>-1.527e-16</td> <td> 1.04e-16</td> <td>   -1.471</td> <td> 0.141</td> <td>-3.56e-16</td> <td> 5.09e-17</td>\n",
       "</tr>\n",
       "<tr>\n",
       "  <th>inf_dombox_log</th>                           <td>    1.0000</td> <td> 1.11e-16</td> <td> 8.98e+15</td> <td> 0.000</td> <td>    1.000</td> <td>    1.000</td>\n",
       "</tr>\n",
       "<tr>\n",
       "  <th>runtime_min_log</th>                          <td>  -1.7e-16</td> <td> 6.04e-17</td> <td>   -2.813</td> <td> 0.005</td> <td>-2.89e-16</td> <td>-5.15e-17</td>\n",
       "</tr>\n",
       "<tr>\n",
       "  <th>act_infl_log</th>                             <td>-1.141e-16</td> <td> 5.15e-17</td> <td>   -2.215</td> <td> 0.027</td> <td>-2.15e-16</td> <td>-1.31e-17</td>\n",
       "</tr>\n",
       "<tr>\n",
       "  <th>franchise</th>                                <td> 5.239e-16</td> <td> 1.46e-16</td> <td>    3.585</td> <td> 0.000</td> <td> 2.37e-16</td> <td> 8.11e-16</td>\n",
       "</tr>\n",
       "<tr>\n",
       "  <th>genre_Adventure</th>                          <td> 4.372e-16</td> <td> 2.27e-16</td> <td>    1.922</td> <td> 0.055</td> <td>-9.09e-18</td> <td> 8.83e-16</td>\n",
       "</tr>\n",
       "<tr>\n",
       "  <th>genre_Black_Comedy</th>                       <td>-9.437e-16</td> <td> 3.65e-16</td> <td>   -2.588</td> <td> 0.010</td> <td>-1.66e-15</td> <td>-2.28e-16</td>\n",
       "</tr>\n",
       "<tr>\n",
       "  <th>genre_Comedy</th>                             <td> -7.98e-17</td> <td>    2e-16</td> <td>   -0.399</td> <td> 0.690</td> <td>-4.72e-16</td> <td> 3.12e-16</td>\n",
       "</tr>\n",
       "<tr>\n",
       "  <th>genre_ConcertPerformance</th>                 <td> 2.762e-15</td> <td> 9.44e-16</td> <td>    2.924</td> <td> 0.004</td> <td> 9.09e-16</td> <td> 4.61e-15</td>\n",
       "</tr>\n",
       "<tr>\n",
       "  <th>genre_Documentary</th>                        <td>-7.772e-16</td> <td> 9.62e-16</td> <td>   -0.808</td> <td> 0.419</td> <td>-2.66e-15</td> <td> 1.11e-15</td>\n",
       "</tr>\n",
       "<tr>\n",
       "  <th>genre_Drama</th>                              <td> 4.684e-16</td> <td> 1.94e-16</td> <td>    2.420</td> <td> 0.016</td> <td> 8.88e-17</td> <td> 8.48e-16</td>\n",
       "</tr>\n",
       "<tr>\n",
       "  <th>genre_Horror</th>                             <td>-1.804e-16</td> <td> 2.35e-16</td> <td>   -0.767</td> <td> 0.443</td> <td>-6.42e-16</td> <td> 2.81e-16</td>\n",
       "</tr>\n",
       "<tr>\n",
       "  <th>genre_Musical</th>                            <td> 1.193e-15</td> <td> 4.63e-16</td> <td>    2.575</td> <td> 0.010</td> <td> 2.84e-16</td> <td>  2.1e-15</td>\n",
       "</tr>\n",
       "<tr>\n",
       "  <th>genre_Romantic_Comedy</th>                    <td> 1.013e-15</td> <td> 3.03e-16</td> <td>    3.347</td> <td> 0.001</td> <td> 4.19e-16</td> <td> 1.61e-15</td>\n",
       "</tr>\n",
       "<tr>\n",
       "  <th>genre_ThrillerSuspense</th>                   <td> 1.093e-16</td> <td> 1.99e-16</td> <td>    0.548</td> <td> 0.584</td> <td>-2.82e-16</td> <td>    5e-16</td>\n",
       "</tr>\n",
       "<tr>\n",
       "  <th>genre_Western</th>                            <td>-6.384e-16</td> <td> 4.71e-16</td> <td>   -1.356</td> <td> 0.175</td> <td>-1.56e-15</td> <td> 2.85e-16</td>\n",
       "</tr>\n",
       "<tr>\n",
       "  <th>source_Based_on_Factual_BookArticle</th>      <td> 3.331e-16</td> <td> 3.18e-16</td> <td>    1.047</td> <td> 0.295</td> <td>-2.91e-16</td> <td> 9.57e-16</td>\n",
       "</tr>\n",
       "<tr>\n",
       "  <th>source_Based_on_Fiction_BookShort_Story</th>  <td> -2.29e-16</td> <td> 2.57e-16</td> <td>   -0.892</td> <td> 0.373</td> <td>-7.33e-16</td> <td> 2.75e-16</td>\n",
       "</tr>\n",
       "<tr>\n",
       "  <th>source_Based_on_Folk_TaleLegendFairytale</th> <td> 3.469e-17</td> <td> 4.66e-16</td> <td>    0.074</td> <td> 0.941</td> <td> -8.8e-16</td> <td> 9.49e-16</td>\n",
       "</tr>\n",
       "<tr>\n",
       "  <th>source_Based_on_Game</th>                     <td> 7.633e-17</td> <td> 5.07e-16</td> <td>    0.150</td> <td> 0.880</td> <td>-9.19e-16</td> <td> 1.07e-15</td>\n",
       "</tr>\n",
       "<tr>\n",
       "  <th>source_Based_on_Movie</th>                    <td>-1.041e-16</td> <td> 6.29e-16</td> <td>   -0.166</td> <td> 0.869</td> <td>-1.34e-15</td> <td> 1.13e-15</td>\n",
       "</tr>\n",
       "<tr>\n",
       "  <th>source_Based_on_Musical_Group</th>            <td>-3.331e-15</td> <td> 2.07e-15</td> <td>   -1.612</td> <td> 0.107</td> <td>-7.38e-15</td> <td> 7.22e-16</td>\n",
       "</tr>\n",
       "<tr>\n",
       "  <th>source_Based_on_Musical_or_Opera</th>         <td>-1.665e-15</td> <td> 1.04e-15</td> <td>   -1.597</td> <td> 0.111</td> <td>-3.71e-15</td> <td>  3.8e-16</td>\n",
       "</tr>\n",
       "<tr>\n",
       "  <th>source_Based_on_Play</th>                     <td> 2.776e-16</td> <td> 5.13e-16</td> <td>    0.542</td> <td> 0.588</td> <td>-7.28e-16</td> <td> 1.28e-15</td>\n",
       "</tr>\n",
       "<tr>\n",
       "  <th>source_Based_on_Real_Life_Events</th>         <td> 4.857e-17</td> <td> 2.94e-16</td> <td>    0.165</td> <td> 0.869</td> <td>-5.27e-16</td> <td> 6.25e-16</td>\n",
       "</tr>\n",
       "<tr>\n",
       "  <th>source_Based_on_Religious_Text</th>           <td> 1.589e-15</td> <td> 8.58e-16</td> <td>    1.852</td> <td> 0.064</td> <td>-9.43e-17</td> <td> 3.27e-15</td>\n",
       "</tr>\n",
       "<tr>\n",
       "  <th>source_Based_on_Short_Film</th>               <td>-1.166e-15</td> <td> 6.07e-16</td> <td>   -1.921</td> <td> 0.055</td> <td>-2.36e-15</td> <td> 2.48e-17</td>\n",
       "</tr>\n",
       "<tr>\n",
       "  <th>source_Based_on_Song</th>                     <td> 2.442e-15</td> <td> 1.85e-15</td> <td>    1.319</td> <td> 0.187</td> <td>-1.19e-15</td> <td> 6.07e-15</td>\n",
       "</tr>\n",
       "<tr>\n",
       "  <th>source_Based_on_TV</th>                       <td>-2.213e-15</td> <td> 3.67e-16</td> <td>   -6.030</td> <td> 0.000</td> <td>-2.93e-15</td> <td>-1.49e-15</td>\n",
       "</tr>\n",
       "<tr>\n",
       "  <th>source_Based_on_Theme_Park_Ride</th>          <td>-8.327e-16</td> <td> 1.32e-15</td> <td>   -0.629</td> <td> 0.529</td> <td>-3.43e-15</td> <td> 1.76e-15</td>\n",
       "</tr>\n",
       "<tr>\n",
       "  <th>source_Based_on_Toy</th>                      <td>-3.886e-16</td> <td> 6.09e-16</td> <td>   -0.638</td> <td> 0.524</td> <td>-1.58e-15</td> <td> 8.06e-16</td>\n",
       "</tr>\n",
       "<tr>\n",
       "  <th>source_Compilation</th>                       <td>  1.11e-16</td> <td> 6.21e-16</td> <td>    0.179</td> <td> 0.858</td> <td>-1.11e-15</td> <td> 1.33e-15</td>\n",
       "</tr>\n",
       "<tr>\n",
       "  <th>source_Original_Screenplay</th>               <td>-3.469e-17</td> <td> 2.45e-16</td> <td>   -0.141</td> <td> 0.888</td> <td>-5.16e-16</td> <td> 4.46e-16</td>\n",
       "</tr>\n",
       "<tr>\n",
       "  <th>source_Remake</th>                            <td>-4.302e-16</td> <td> 3.34e-16</td> <td>   -1.290</td> <td> 0.197</td> <td>-1.08e-15</td> <td> 2.24e-16</td>\n",
       "</tr>\n",
       "<tr>\n",
       "  <th>source_Spin_Off</th>                          <td> 2.498e-16</td> <td> 5.25e-16</td> <td>    0.476</td> <td> 0.634</td> <td>-7.79e-16</td> <td> 1.28e-15</td>\n",
       "</tr>\n",
       "<tr>\n",
       "  <th>prodmethod_Digital_Animation</th>             <td>-1.388e-17</td> <td> 1.45e-16</td> <td>   -0.096</td> <td> 0.924</td> <td>-2.98e-16</td> <td> 2.71e-16</td>\n",
       "</tr>\n",
       "<tr>\n",
       "  <th>prodmethod_Hand_Animation</th>                <td>-3.886e-16</td> <td> 5.46e-16</td> <td>   -0.711</td> <td> 0.477</td> <td>-1.46e-15</td> <td> 6.83e-16</td>\n",
       "</tr>\n",
       "<tr>\n",
       "  <th>prodmethod_Live_Action</th>                   <td> 3.192e-16</td> <td>  1.2e-16</td> <td>    2.666</td> <td> 0.008</td> <td> 8.44e-17</td> <td> 5.54e-16</td>\n",
       "</tr>\n",
       "<tr>\n",
       "  <th>prodmethod_Multiple_Production_Methods</th>   <td> 6.939e-17</td> <td> 6.21e-16</td> <td>    0.112</td> <td> 0.911</td> <td>-1.15e-15</td> <td> 1.29e-15</td>\n",
       "</tr>\n",
       "<tr>\n",
       "  <th>prodmethod_Stop_Motion_Animation</th>         <td>-3.886e-16</td> <td> 3.67e-16</td> <td>   -1.058</td> <td> 0.290</td> <td>-1.11e-15</td> <td> 3.32e-16</td>\n",
       "</tr>\n",
       "<tr>\n",
       "  <th>creativetype_Digital_Animation</th>           <td> 4.163e-17</td> <td> 1.45e-16</td> <td>    0.287</td> <td> 0.774</td> <td>-2.43e-16</td> <td> 3.26e-16</td>\n",
       "</tr>\n",
       "<tr>\n",
       "  <th>creativetype_Hand_Animation</th>              <td>-4.718e-16</td> <td> 5.46e-16</td> <td>   -0.863</td> <td> 0.388</td> <td>-1.54e-15</td> <td>    6e-16</td>\n",
       "</tr>\n",
       "<tr>\n",
       "  <th>creativetype_Live_Action</th>                 <td> 1.041e-16</td> <td>  1.2e-16</td> <td>    0.869</td> <td> 0.385</td> <td>-1.31e-16</td> <td> 3.39e-16</td>\n",
       "</tr>\n",
       "<tr>\n",
       "  <th>creativetype_Multiple_Production_Methods</th> <td>-5.551e-17</td> <td> 6.21e-16</td> <td>   -0.089</td> <td> 0.929</td> <td>-1.27e-15</td> <td> 1.16e-15</td>\n",
       "</tr>\n",
       "<tr>\n",
       "  <th>creativetype_Stop_Motion_Animation</th>       <td>-3.608e-16</td> <td> 3.67e-16</td> <td>   -0.983</td> <td> 0.326</td> <td>-1.08e-15</td> <td> 3.59e-16</td>\n",
       "</tr>\n",
       "</table>\n",
       "<table class=\"simpletable\">\n",
       "<tr>\n",
       "  <th>Omnibus:</th>       <td>100.187</td> <th>  Durbin-Watson:     </th> <td>   0.895</td>\n",
       "</tr>\n",
       "<tr>\n",
       "  <th>Prob(Omnibus):</th> <td> 0.000</td>  <th>  Jarque-Bera (JB):  </th> <td> 122.340</td>\n",
       "</tr>\n",
       "<tr>\n",
       "  <th>Skew:</th>          <td>-0.630</td>  <th>  Prob(JB):          </th> <td>2.72e-27</td>\n",
       "</tr>\n",
       "<tr>\n",
       "  <th>Kurtosis:</th>      <td> 3.598</td>  <th>  Cond. No.          </th> <td>1.28e+16</td>\n",
       "</tr>\n",
       "</table><br/><br/>Notes:<br/>[1] Standard Errors assume that the covariance matrix of the errors is correctly specified.<br/>[2] The smallest eigenvalue is 2.97e-29. This might indicate that there are<br/>strong multicollinearity problems or that the design matrix is singular."
      ],
      "text/plain": [
       "<class 'statsmodels.iolib.summary.Summary'>\n",
       "\"\"\"\n",
       "                            OLS Regression Results                            \n",
       "==============================================================================\n",
       "Dep. Variable:         inf_dombox_log   R-squared:                       1.000\n",
       "Model:                            OLS   Adj. R-squared:                  1.000\n",
       "Method:                 Least Squares   F-statistic:                 1.125e+31\n",
       "Date:                Thu, 09 Sep 2021   Prob (F-statistic):               0.00\n",
       "Time:                        03:45:55   Log-Likelihood:                 49054.\n",
       "No. Observations:                1508   AIC:                        -9.803e+04\n",
       "Df Residuals:                    1467   BIC:                        -9.781e+04\n",
       "Df Model:                          40                                         \n",
       "Covariance Type:            nonrobust                                         \n",
       "============================================================================================================\n",
       "                                               coef    std err          t      P>|t|      [0.025      0.975]\n",
       "------------------------------------------------------------------------------------------------------------\n",
       "Intercept                                -7.459e-17   2.99e-16     -0.249      0.803   -6.62e-16    5.13e-16\n",
       "productionbudget_log                     -2.914e-16   8.02e-17     -3.632      0.000   -4.49e-16   -1.34e-16\n",
       "maxtheaters_log                          -1.527e-16   1.04e-16     -1.471      0.141   -3.56e-16    5.09e-17\n",
       "inf_dombox_log                               1.0000   1.11e-16   8.98e+15      0.000       1.000       1.000\n",
       "runtime_min_log                            -1.7e-16   6.04e-17     -2.813      0.005   -2.89e-16   -5.15e-17\n",
       "act_infl_log                             -1.141e-16   5.15e-17     -2.215      0.027   -2.15e-16   -1.31e-17\n",
       "franchise                                 5.239e-16   1.46e-16      3.585      0.000    2.37e-16    8.11e-16\n",
       "genre_Adventure                           4.372e-16   2.27e-16      1.922      0.055   -9.09e-18    8.83e-16\n",
       "genre_Black_Comedy                       -9.437e-16   3.65e-16     -2.588      0.010   -1.66e-15   -2.28e-16\n",
       "genre_Comedy                              -7.98e-17      2e-16     -0.399      0.690   -4.72e-16    3.12e-16\n",
       "genre_ConcertPerformance                  2.762e-15   9.44e-16      2.924      0.004    9.09e-16    4.61e-15\n",
       "genre_Documentary                        -7.772e-16   9.62e-16     -0.808      0.419   -2.66e-15    1.11e-15\n",
       "genre_Drama                               4.684e-16   1.94e-16      2.420      0.016    8.88e-17    8.48e-16\n",
       "genre_Horror                             -1.804e-16   2.35e-16     -0.767      0.443   -6.42e-16    2.81e-16\n",
       "genre_Musical                             1.193e-15   4.63e-16      2.575      0.010    2.84e-16     2.1e-15\n",
       "genre_Romantic_Comedy                     1.013e-15   3.03e-16      3.347      0.001    4.19e-16    1.61e-15\n",
       "genre_ThrillerSuspense                    1.093e-16   1.99e-16      0.548      0.584   -2.82e-16       5e-16\n",
       "genre_Western                            -6.384e-16   4.71e-16     -1.356      0.175   -1.56e-15    2.85e-16\n",
       "source_Based_on_Factual_BookArticle       3.331e-16   3.18e-16      1.047      0.295   -2.91e-16    9.57e-16\n",
       "source_Based_on_Fiction_BookShort_Story   -2.29e-16   2.57e-16     -0.892      0.373   -7.33e-16    2.75e-16\n",
       "source_Based_on_Folk_TaleLegendFairytale  3.469e-17   4.66e-16      0.074      0.941    -8.8e-16    9.49e-16\n",
       "source_Based_on_Game                      7.633e-17   5.07e-16      0.150      0.880   -9.19e-16    1.07e-15\n",
       "source_Based_on_Movie                    -1.041e-16   6.29e-16     -0.166      0.869   -1.34e-15    1.13e-15\n",
       "source_Based_on_Musical_Group            -3.331e-15   2.07e-15     -1.612      0.107   -7.38e-15    7.22e-16\n",
       "source_Based_on_Musical_or_Opera         -1.665e-15   1.04e-15     -1.597      0.111   -3.71e-15     3.8e-16\n",
       "source_Based_on_Play                      2.776e-16   5.13e-16      0.542      0.588   -7.28e-16    1.28e-15\n",
       "source_Based_on_Real_Life_Events          4.857e-17   2.94e-16      0.165      0.869   -5.27e-16    6.25e-16\n",
       "source_Based_on_Religious_Text            1.589e-15   8.58e-16      1.852      0.064   -9.43e-17    3.27e-15\n",
       "source_Based_on_Short_Film               -1.166e-15   6.07e-16     -1.921      0.055   -2.36e-15    2.48e-17\n",
       "source_Based_on_Song                      2.442e-15   1.85e-15      1.319      0.187   -1.19e-15    6.07e-15\n",
       "source_Based_on_TV                       -2.213e-15   3.67e-16     -6.030      0.000   -2.93e-15   -1.49e-15\n",
       "source_Based_on_Theme_Park_Ride          -8.327e-16   1.32e-15     -0.629      0.529   -3.43e-15    1.76e-15\n",
       "source_Based_on_Toy                      -3.886e-16   6.09e-16     -0.638      0.524   -1.58e-15    8.06e-16\n",
       "source_Compilation                         1.11e-16   6.21e-16      0.179      0.858   -1.11e-15    1.33e-15\n",
       "source_Original_Screenplay               -3.469e-17   2.45e-16     -0.141      0.888   -5.16e-16    4.46e-16\n",
       "source_Remake                            -4.302e-16   3.34e-16     -1.290      0.197   -1.08e-15    2.24e-16\n",
       "source_Spin_Off                           2.498e-16   5.25e-16      0.476      0.634   -7.79e-16    1.28e-15\n",
       "prodmethod_Digital_Animation             -1.388e-17   1.45e-16     -0.096      0.924   -2.98e-16    2.71e-16\n",
       "prodmethod_Hand_Animation                -3.886e-16   5.46e-16     -0.711      0.477   -1.46e-15    6.83e-16\n",
       "prodmethod_Live_Action                    3.192e-16    1.2e-16      2.666      0.008    8.44e-17    5.54e-16\n",
       "prodmethod_Multiple_Production_Methods    6.939e-17   6.21e-16      0.112      0.911   -1.15e-15    1.29e-15\n",
       "prodmethod_Stop_Motion_Animation         -3.886e-16   3.67e-16     -1.058      0.290   -1.11e-15    3.32e-16\n",
       "creativetype_Digital_Animation            4.163e-17   1.45e-16      0.287      0.774   -2.43e-16    3.26e-16\n",
       "creativetype_Hand_Animation              -4.718e-16   5.46e-16     -0.863      0.388   -1.54e-15       6e-16\n",
       "creativetype_Live_Action                  1.041e-16    1.2e-16      0.869      0.385   -1.31e-16    3.39e-16\n",
       "creativetype_Multiple_Production_Methods -5.551e-17   6.21e-16     -0.089      0.929   -1.27e-15    1.16e-15\n",
       "creativetype_Stop_Motion_Animation       -3.608e-16   3.67e-16     -0.983      0.326   -1.08e-15    3.59e-16\n",
       "==============================================================================\n",
       "Omnibus:                      100.187   Durbin-Watson:                   0.895\n",
       "Prob(Omnibus):                  0.000   Jarque-Bera (JB):              122.340\n",
       "Skew:                          -0.630   Prob(JB):                     2.72e-27\n",
       "Kurtosis:                       3.598   Cond. No.                     1.28e+16\n",
       "==============================================================================\n",
       "\n",
       "Notes:\n",
       "[1] Standard Errors assume that the covariance matrix of the errors is correctly specified.\n",
       "[2] The smallest eigenvalue is 2.97e-29. This might indicate that there are\n",
       "strong multicollinearity problems or that the design matrix is singular.\n",
       "\"\"\""
      ]
     },
     "execution_count": 1016,
     "metadata": {},
     "output_type": "execute_result"
    }
   ],
   "source": [
    "model2 = ols(formula = formula, data = preprocessed2).fit()\n",
    "model2.summary()"
   ]
  },
  {
   "cell_type": "markdown",
   "metadata": {},
   "source": [
    "Conclusions from model 2:\n",
    "\n",
    "1. genre_Documentary,genre_Comedy,genre_Horror,genre_ThrillerSuspense,genre_Western,source_Based_on_Factual_BookArticle,    source_Based_on_Song,source_Based_on_Theme_Park_Ride,source_Based_on_Toy,\n",
    "source_Compilation,source_Original_Screenplay,source_Remake,source_Spin_Off,prodmethod_Digital_Animation,\n",
    "prodmethod_Hand_Animation,creativetype_Live_Action,creativetype_Multiple_Production_Methods,creativetype_Stop_Motion_Animation\n",
    "no longerrelevant feature. Will need to drop it in the next model\n"
   ]
  },
  {
   "cell_type": "code",
   "execution_count": 1017,
   "metadata": {
    "ExecuteTime": {
     "end_time": "2021-09-09T08:13:41.021404Z",
     "start_time": "2021-09-09T08:13:40.975392Z"
    }
   },
   "outputs": [],
   "source": [
    "X = preprocessed2.drop(columns='inf_dombox_log',axis=1)\n",
    "y = preprocessed2['inf_dombox_log']"
   ]
  },
  {
   "cell_type": "markdown",
   "metadata": {},
   "source": [
    "### Perform a train-test split"
   ]
  },
  {
   "cell_type": "code",
   "execution_count": 1018,
   "metadata": {
    "ExecuteTime": {
     "end_time": "2021-09-09T08:16:30.155741Z",
     "start_time": "2021-09-09T08:16:30.080741Z"
    }
   },
   "outputs": [
    {
     "name": "stdout",
     "output_type": "stream",
     "text": [
      "1131 377 1131 377\n"
     ]
    }
   ],
   "source": [
    "# Split the data into training and test sets. Use the default split size\n",
    "from sklearn.model_selection import train_test_split\n",
    "X_train, X_test, y_train, y_test = train_test_split(X, y, test_size = 0.25, random_state = 25)\n",
    "print(len(X_train), len(X_test), len(y_train), len(y_test))"
   ]
  },
  {
   "cell_type": "markdown",
   "metadata": {},
   "source": [
    "### Apply model to train set"
   ]
  },
  {
   "cell_type": "code",
   "execution_count": 1019,
   "metadata": {
    "ExecuteTime": {
     "end_time": "2021-09-09T08:17:07.033082Z",
     "start_time": "2021-09-09T08:17:06.678638Z"
    }
   },
   "outputs": [
    {
     "data": {
      "text/plain": [
       "LinearRegression()"
      ]
     },
     "execution_count": 1019,
     "metadata": {},
     "output_type": "execute_result"
    }
   ],
   "source": [
    "# Import and initialize the linear regression model class\n",
    "from sklearn.linear_model import LinearRegression\n",
    "model2linreg = LinearRegression()\n",
    "# Fit the model to train data\n",
    "model2linreg.fit(X_train, y_train)"
   ]
  },
  {
   "cell_type": "markdown",
   "metadata": {},
   "source": [
    "### Calculate predictions on training and test sets"
   ]
  },
  {
   "cell_type": "code",
   "execution_count": 1020,
   "metadata": {
    "ExecuteTime": {
     "end_time": "2021-09-09T08:17:09.792692Z",
     "start_time": "2021-09-09T08:17:09.777692Z"
    }
   },
   "outputs": [],
   "source": [
    "# Calculate predictions on training and test sets\n",
    "y_hat_train = model2linreg.predict(X_train)\n",
    "y_pred = model2linreg.predict(X_test)"
   ]
  },
  {
   "cell_type": "code",
   "execution_count": 1021,
   "metadata": {
    "ExecuteTime": {
     "end_time": "2021-09-09T08:17:12.330009Z",
     "start_time": "2021-09-09T08:17:12.324988Z"
    }
   },
   "outputs": [],
   "source": [
    "# Calculate residuals\n",
    "train_residuals = y_hat_train - y_train\n",
    "test_residuals = y_pred - y_test"
   ]
  },
  {
   "cell_type": "code",
   "execution_count": null,
   "metadata": {},
   "outputs": [],
   "source": []
  },
  {
   "cell_type": "markdown",
   "metadata": {},
   "source": [
    "### Calculate the Mean Squared Error (MSE)\n",
    "\n",
    "A good way to compare overall performance is to compare the mean squarred error for the predicted values on the training and test sets."
   ]
  },
  {
   "cell_type": "code",
   "execution_count": 1024,
   "metadata": {
    "ExecuteTime": {
     "end_time": "2021-09-09T08:18:58.257211Z",
     "start_time": "2021-09-09T08:18:58.249228Z"
    }
   },
   "outputs": [
    {
     "name": "stdout",
     "output_type": "stream",
     "text": [
      "Train Mean Squarred Error: 0.17329494155248945\n",
      "Test Mean Squarred Error: 0.2060230345661356\n"
     ]
    }
   ],
   "source": [
    "# Calculate training and test MSE\n",
    "train_mse = mean_squared_error(y_train, y_hat_train)\n",
    "test_mse = mean_squared_error(y_test, y_pred)\n",
    "print('Train Mean Squarred Error:', train_mse)\n",
    "print('Test Mean Squarred Error:', test_mse)"
   ]
  },
  {
   "cell_type": "code",
   "execution_count": 1026,
   "metadata": {
    "ExecuteTime": {
     "end_time": "2021-09-09T08:19:52.866080Z",
     "start_time": "2021-09-09T08:19:52.470740Z"
    }
   },
   "outputs": [
    {
     "data": {
      "image/png": "[encoded data removed]",
      "text/plain": [
       "<Figure size 432x288 with 1 Axes>"
      ]
     },
     "metadata": {
      "needs_background": "light"
     },
     "output_type": "display_data"
    }
   ],
   "source": [
    "fig2 = sm.graphics.qqplot(model2.resid, dist=stats.norm, line='45', fit=True)"
   ]
  },
  {
   "cell_type": "code",
   "execution_count": null,
   "metadata": {},
   "outputs": [],
   "source": []
  },
  {
   "cell_type": "code",
   "execution_count": null,
   "metadata": {},
   "outputs": [],
   "source": []
  },
  {
   "cell_type": "markdown",
   "metadata": {},
   "source": [
    "## Model 3 -  Remove Prodbudget and other cols"
   ]
  },
  {
   "cell_type": "code",
   "execution_count": 1028,
   "metadata": {
    "ExecuteTime": {
     "end_time": "2021-09-09T08:52:57.123319Z",
     "start_time": "2021-09-09T08:52:57.117323Z"
    }
   },
   "outputs": [],
   "source": [
    "continuous = ['maxtheaters', 'inf_dombox','runtime_min','act_infl']\n",
    "categoricals = ['genre', 'source', 'prodmethod', 'creativetype']"
   ]
  },
  {
   "cell_type": "code",
   "execution_count": null,
   "metadata": {
    "ExecuteTime": {
     "end_time": "2021-09-09T07:20:07.413388Z",
     "start_time": "2021-09-09T07:20:07.406392Z"
    }
   },
   "outputs": [],
   "source": []
  },
  {
   "cell_type": "code",
   "execution_count": 1047,
   "metadata": {
    "ExecuteTime": {
     "end_time": "2021-09-09T13:10:12.560862Z",
     "start_time": "2021-09-09T13:10:12.523833Z"
    }
   },
   "outputs": [],
   "source": [
    "movies_cont = merged_df[continuous]\n",
    "\n",
    "# log features\n",
    "log_names = [f'{column}_log' for column in movies_cont.columns]\n",
    "\n",
    "movies_log = np.log(movies_cont)\n",
    "movies_log.columns = log_names\n",
    "\n",
    "movies_log_norm = movies_log.apply(normalize)\n",
    "\n",
    "# one hot encode categoricals\n",
    "movies_ohe = pd.get_dummies(merged_df[categoricals], prefix=categoricals, drop_first=True)\n",
    "movies_ohe.drop(columns=['genre_Documentary','genre_Comedy','genre_Horror','genre_ThrillerSuspense'\n",
    "                         ,'genre_Western','source_Based_on_Factual_BookArticle',\n",
    "                         'source_Based_on_Song','source_Based_on_Theme_Park_Ride','source_Based_on_Toy',\n",
    "'source_Compilation','source_Original_Screenplay','source_Remake','source_Spin_Off','prodmethod_Digital_Animation',\n",
    "'prodmethod_Hand_Animation','creativetype_Live_Action','creativetype_Multiple_Production_Methods',\n",
    "                         'creativetype_Stop_Motion_Animation','genre_Black_Comedy','genre_ConcertPerformance',\n",
    "                        'genre_Musical','source_Based_on_Folk_TaleLegendFairytale','source_Based_on_Game',\n",
    "'source_Based_on_Movie',\n",
    "'source_Based_on_Musical_Group',\n",
    "'source_Based_on_Musical_or_Opera',\n",
    "'source_Based_on_Play',\n",
    "'source_Based_on_Real_Life_Events',\n",
    "'source_Based_on_Religious_Text',\n",
    "'source_Based_on_Short_Film',\n",
    "'source_Based_on_TV','prodmethod_Multiple_Production_Methods',\n",
    "'prodmethod_Stop_Motion_Animation',\n",
    "'creativetype_Hand_Animation',], inplace=True)\n",
    "preprocessed3 = pd.concat([movies_log_norm,merged_df['franchise'] ,movies_ohe], axis=1)\n",
    "\n",
    "\n",
    "\n"
   ]
  },
  {
   "cell_type": "code",
   "execution_count": 1048,
   "metadata": {
    "ExecuteTime": {
     "end_time": "2021-09-09T13:10:15.339702Z",
     "start_time": "2021-09-09T13:10:15.296700Z"
    }
   },
   "outputs": [],
   "source": [
    "\n",
    "outcome = 'inf_dombox_log'\n",
    "predictor_variables = \"+\".join(preprocessed3.columns)\n",
    "formula = outcome + '~' + predictor_variables\n"
   ]
  },
  {
   "cell_type": "code",
   "execution_count": 1049,
   "metadata": {
    "ExecuteTime": {
     "end_time": "2021-09-09T13:10:26.386912Z",
     "start_time": "2021-09-09T13:10:26.259916Z"
    }
   },
   "outputs": [
    {
     "data": {
      "text/html": [
       "<table class=\"simpletable\">\n",
       "<caption>OLS Regression Results</caption>\n",
       "<tr>\n",
       "  <th>Dep. Variable:</th>     <td>inf_dombox_log</td>  <th>  R-squared:         </th>  <td>   1.000</td> \n",
       "</tr>\n",
       "<tr>\n",
       "  <th>Model:</th>                   <td>OLS</td>       <th>  Adj. R-squared:    </th>  <td>   1.000</td> \n",
       "</tr>\n",
       "<tr>\n",
       "  <th>Method:</th>             <td>Least Squares</td>  <th>  F-statistic:       </th>  <td>7.897e+31</td>\n",
       "</tr>\n",
       "<tr>\n",
       "  <th>Date:</th>             <td>Thu, 09 Sep 2021</td> <th>  Prob (F-statistic):</th>   <td>  0.00</td>  \n",
       "</tr>\n",
       "<tr>\n",
       "  <th>Time:</th>                 <td>09:10:26</td>     <th>  Log-Likelihood:    </th>  <td>  49535.</td> \n",
       "</tr>\n",
       "<tr>\n",
       "  <th>No. Observations:</th>      <td>  1508</td>      <th>  AIC:               </th> <td>-9.905e+04</td>\n",
       "</tr>\n",
       "<tr>\n",
       "  <th>Df Residuals:</th>          <td>  1496</td>      <th>  BIC:               </th> <td>-9.898e+04</td>\n",
       "</tr>\n",
       "<tr>\n",
       "  <th>Df Model:</th>              <td>    11</td>      <th>                     </th>      <td> </td>    \n",
       "</tr>\n",
       "<tr>\n",
       "  <th>Covariance Type:</th>      <td>nonrobust</td>    <th>                     </th>      <td> </td>    \n",
       "</tr>\n",
       "</table>\n",
       "<table class=\"simpletable\">\n",
       "<tr>\n",
       "                     <td></td>                        <th>coef</th>     <th>std err</th>      <th>t</th>      <th>P>|t|</th>  <th>[0.025</th>    <th>0.975]</th>  \n",
       "</tr>\n",
       "<tr>\n",
       "  <th>Intercept</th>                               <td>  1.37e-16</td> <td> 1.62e-16</td> <td>    0.843</td> <td> 0.399</td> <td>-1.82e-16</td> <td> 4.56e-16</td>\n",
       "</tr>\n",
       "<tr>\n",
       "  <th>maxtheaters_log</th>                         <td>  4.51e-16</td> <td> 7.17e-17</td> <td>    6.295</td> <td> 0.000</td> <td>  3.1e-16</td> <td> 5.92e-16</td>\n",
       "</tr>\n",
       "<tr>\n",
       "  <th>inf_dombox_log</th>                          <td>    1.0000</td> <td> 7.73e-17</td> <td> 1.29e+16</td> <td> 0.000</td> <td>    1.000</td> <td>    1.000</td>\n",
       "</tr>\n",
       "<tr>\n",
       "  <th>runtime_min_log</th>                         <td> 8.032e-16</td> <td> 3.98e-17</td> <td>   20.178</td> <td> 0.000</td> <td> 7.25e-16</td> <td> 8.81e-16</td>\n",
       "</tr>\n",
       "<tr>\n",
       "  <th>act_infl_log</th>                            <td> 3.799e-16</td> <td> 3.63e-17</td> <td>   10.454</td> <td> 0.000</td> <td> 3.09e-16</td> <td> 4.51e-16</td>\n",
       "</tr>\n",
       "<tr>\n",
       "  <th>franchise</th>                               <td>-2.463e-16</td> <td> 1.01e-16</td> <td>   -2.448</td> <td> 0.014</td> <td>-4.44e-16</td> <td>-4.89e-17</td>\n",
       "</tr>\n",
       "<tr>\n",
       "  <th>genre_Adventure</th>                         <td>-9.298e-16</td> <td> 1.39e-16</td> <td>   -6.668</td> <td> 0.000</td> <td> -1.2e-15</td> <td>-6.56e-16</td>\n",
       "</tr>\n",
       "<tr>\n",
       "  <th>genre_Drama</th>                             <td> 5.794e-16</td> <td> 8.66e-17</td> <td>    6.689</td> <td> 0.000</td> <td> 4.09e-16</td> <td> 7.49e-16</td>\n",
       "</tr>\n",
       "<tr>\n",
       "  <th>genre_Romantic_Comedy</th>                   <td>         0</td> <td> 1.93e-16</td> <td>        0</td> <td> 1.000</td> <td>-3.78e-16</td> <td> 3.78e-16</td>\n",
       "</tr>\n",
       "<tr>\n",
       "  <th>source_Based_on_Fiction_BookShort_Story</th> <td> 3.712e-16</td> <td>  9.2e-17</td> <td>    4.037</td> <td> 0.000</td> <td> 1.91e-16</td> <td> 5.52e-16</td>\n",
       "</tr>\n",
       "<tr>\n",
       "  <th>prodmethod_Live_Action</th>                  <td>-6.939e-17</td> <td> 1.59e-16</td> <td>   -0.437</td> <td> 0.662</td> <td>-3.81e-16</td> <td> 2.42e-16</td>\n",
       "</tr>\n",
       "<tr>\n",
       "  <th>creativetype_Digital_Animation</th>          <td>  1.18e-16</td> <td> 1.95e-16</td> <td>    0.605</td> <td> 0.545</td> <td>-2.65e-16</td> <td> 5.01e-16</td>\n",
       "</tr>\n",
       "</table>\n",
       "<table class=\"simpletable\">\n",
       "<tr>\n",
       "  <th>Omnibus:</th>       <td>55.732</td> <th>  Durbin-Watson:     </th> <td>   1.595</td>\n",
       "</tr>\n",
       "<tr>\n",
       "  <th>Prob(Omnibus):</th> <td> 0.000</td> <th>  Jarque-Bera (JB):  </th> <td>  62.864</td>\n",
       "</tr>\n",
       "<tr>\n",
       "  <th>Skew:</th>          <td> 0.448</td> <th>  Prob(JB):          </th> <td>2.24e-14</td>\n",
       "</tr>\n",
       "<tr>\n",
       "  <th>Kurtosis:</th>      <td> 3.443</td> <th>  Cond. No.          </th> <td>    11.1</td>\n",
       "</tr>\n",
       "</table><br/><br/>Notes:<br/>[1] Standard Errors assume that the covariance matrix of the errors is correctly specified."
      ],
      "text/plain": [
       "<class 'statsmodels.iolib.summary.Summary'>\n",
       "\"\"\"\n",
       "                            OLS Regression Results                            \n",
       "==============================================================================\n",
       "Dep. Variable:         inf_dombox_log   R-squared:                       1.000\n",
       "Model:                            OLS   Adj. R-squared:                  1.000\n",
       "Method:                 Least Squares   F-statistic:                 7.897e+31\n",
       "Date:                Thu, 09 Sep 2021   Prob (F-statistic):               0.00\n",
       "Time:                        09:10:26   Log-Likelihood:                 49535.\n",
       "No. Observations:                1508   AIC:                        -9.905e+04\n",
       "Df Residuals:                    1496   BIC:                        -9.898e+04\n",
       "Df Model:                          11                                         \n",
       "Covariance Type:            nonrobust                                         \n",
       "===========================================================================================================\n",
       "                                              coef    std err          t      P>|t|      [0.025      0.975]\n",
       "-----------------------------------------------------------------------------------------------------------\n",
       "Intercept                                 1.37e-16   1.62e-16      0.843      0.399   -1.82e-16    4.56e-16\n",
       "maxtheaters_log                           4.51e-16   7.17e-17      6.295      0.000     3.1e-16    5.92e-16\n",
       "inf_dombox_log                              1.0000   7.73e-17   1.29e+16      0.000       1.000       1.000\n",
       "runtime_min_log                          8.032e-16   3.98e-17     20.178      0.000    7.25e-16    8.81e-16\n",
       "act_infl_log                             3.799e-16   3.63e-17     10.454      0.000    3.09e-16    4.51e-16\n",
       "franchise                               -2.463e-16   1.01e-16     -2.448      0.014   -4.44e-16   -4.89e-17\n",
       "genre_Adventure                         -9.298e-16   1.39e-16     -6.668      0.000    -1.2e-15   -6.56e-16\n",
       "genre_Drama                              5.794e-16   8.66e-17      6.689      0.000    4.09e-16    7.49e-16\n",
       "genre_Romantic_Comedy                            0   1.93e-16          0      1.000   -3.78e-16    3.78e-16\n",
       "source_Based_on_Fiction_BookShort_Story  3.712e-16    9.2e-17      4.037      0.000    1.91e-16    5.52e-16\n",
       "prodmethod_Live_Action                  -6.939e-17   1.59e-16     -0.437      0.662   -3.81e-16    2.42e-16\n",
       "creativetype_Digital_Animation            1.18e-16   1.95e-16      0.605      0.545   -2.65e-16    5.01e-16\n",
       "==============================================================================\n",
       "Omnibus:                       55.732   Durbin-Watson:                   1.595\n",
       "Prob(Omnibus):                  0.000   Jarque-Bera (JB):               62.864\n",
       "Skew:                           0.448   Prob(JB):                     2.24e-14\n",
       "Kurtosis:                       3.443   Cond. No.                         11.1\n",
       "==============================================================================\n",
       "\n",
       "Notes:\n",
       "[1] Standard Errors assume that the covariance matrix of the errors is correctly specified.\n",
       "\"\"\""
      ]
     },
     "execution_count": 1049,
     "metadata": {},
     "output_type": "execute_result"
    }
   ],
   "source": [
    "model3 =ols(formula = formula, data = preprocessed3).fit()\n",
    "model3.summary()"
   ]
  },
  {
   "cell_type": "markdown",
   "metadata": {},
   "source": [
    "Conclusions from model 2:\n",
    "\n",
    "1. genre_Documentary,genre_Comedy,genre_Horror,genre_ThrillerSuspense,genre_Western,source_Based_on_Factual_BookArticle,    source_Based_on_Song,source_Based_on_Theme_Park_Ride,source_Based_on_Toy,\n",
    "source_Compilation,source_Original_Screenplay,source_Remake,source_Spin_Off,prodmethod_Digital_Animation,\n",
    "prodmethod_Hand_Animation,creativetype_Live_Action,creativetype_Multiple_Production_Methods,creativetype_Stop_Motion_Animation\n",
    "no longerrelevant feature. Will need to drop it in the next model\n"
   ]
  },
  {
   "cell_type": "code",
   "execution_count": 1050,
   "metadata": {
    "ExecuteTime": {
     "end_time": "2021-09-09T13:10:57.585052Z",
     "start_time": "2021-09-09T13:10:57.555029Z"
    }
   },
   "outputs": [],
   "source": [
    "X = preprocessed3.drop(columns='inf_dombox_log',axis=1)\n",
    "y = preprocessed3['inf_dombox_log']"
   ]
  },
  {
   "cell_type": "markdown",
   "metadata": {},
   "source": [
    "### Perform a train-test split"
   ]
  },
  {
   "cell_type": "code",
   "execution_count": 1051,
   "metadata": {
    "ExecuteTime": {
     "end_time": "2021-09-09T13:11:00.709682Z",
     "start_time": "2021-09-09T13:11:00.283829Z"
    }
   },
   "outputs": [
    {
     "name": "stdout",
     "output_type": "stream",
     "text": [
      "1131 377 1131 377\n"
     ]
    }
   ],
   "source": [
    "X_train, X_test, y_train, y_test = train_test_split(X, y, test_size = 0.25, random_state = 25)\n",
    "print(len(X_train), len(X_test), len(y_train), len(y_test))"
   ]
  },
  {
   "cell_type": "markdown",
   "metadata": {},
   "source": [
    "### Apply model to train set"
   ]
  },
  {
   "cell_type": "code",
   "execution_count": 1037,
   "metadata": {
    "ExecuteTime": {
     "end_time": "2021-09-09T09:11:11.014736Z",
     "start_time": "2021-09-09T09:11:10.914729Z"
    }
   },
   "outputs": [
    {
     "data": {
      "text/plain": [
       "LinearRegression()"
      ]
     },
     "execution_count": 1037,
     "metadata": {},
     "output_type": "execute_result"
    }
   ],
   "source": [
    "# Import and initialize the linear regression model class\n",
    "from sklearn.linear_model import LinearRegression\n",
    "model3linreg = LinearRegression()\n",
    "# Fit the model to train data\n",
    "model3linreg.fit(X_train, y_train)"
   ]
  },
  {
   "cell_type": "markdown",
   "metadata": {},
   "source": [
    "### Calculate predictions on training and test sets"
   ]
  },
  {
   "cell_type": "code",
   "execution_count": 1041,
   "metadata": {
    "ExecuteTime": {
     "end_time": "2021-09-09T09:12:15.366127Z",
     "start_time": "2021-09-09T09:12:15.348127Z"
    }
   },
   "outputs": [],
   "source": [
    "# Calculate predictions on training and test sets\n",
    "y_hat_train = model3linreg.predict(X_train)\n",
    "y_pred = model3linreg.predict(X_test)"
   ]
  },
  {
   "cell_type": "code",
   "execution_count": 1042,
   "metadata": {
    "ExecuteTime": {
     "end_time": "2021-09-09T09:12:17.887633Z",
     "start_time": "2021-09-09T09:12:17.881638Z"
    }
   },
   "outputs": [],
   "source": [
    "# Calculate residuals\n",
    "train_residuals = y_hat_train - y_train\n",
    "test_residuals = y_pred - y_test"
   ]
  },
  {
   "cell_type": "code",
   "execution_count": null,
   "metadata": {},
   "outputs": [],
   "source": []
  },
  {
   "cell_type": "markdown",
   "metadata": {},
   "source": [
    "### Calculate the Mean Squared Error (MSE)\n",
    "\n",
    "A good way to compare overall performance is to compare the mean squarred error for the predicted values on the training and test sets."
   ]
  },
  {
   "cell_type": "code",
   "execution_count": 1043,
   "metadata": {
    "ExecuteTime": {
     "end_time": "2021-09-09T09:12:22.076366Z",
     "start_time": "2021-09-09T09:12:22.065367Z"
    }
   },
   "outputs": [
    {
     "name": "stdout",
     "output_type": "stream",
     "text": [
      "Train Mean Squarred Error: 0.17329494155248945\n",
      "Test Mean Squarred Error: 0.2060230345661356\n"
     ]
    }
   ],
   "source": [
    "# Calculate training and test MSE\n",
    "train_mse = mean_squared_error(y_train, y_hat_train)\n",
    "test_mse = mean_squared_error(y_test, y_pred)\n",
    "print('Train Mean Squarred Error:', train_mse)\n",
    "print('Test Mean Squarred Error:', test_mse)"
   ]
  },
  {
   "cell_type": "code",
   "execution_count": 1026,
   "metadata": {
    "ExecuteTime": {
     "end_time": "2021-09-09T08:19:52.866080Z",
     "start_time": "2021-09-09T08:19:52.470740Z"
    }
   },
   "outputs": [
    {
     "data": {
      "image/png": "[encoded data removed]",
      "text/plain": [
       "<Figure size 432x288 with 1 Axes>"
      ]
     },
     "metadata": {
      "needs_background": "light"
     },
     "output_type": "display_data"
    }
   ],
   "source": [
    "fig2 = sm.graphics.qqplot(model2.resid, dist=stats.norm, line='45', fit=True)"
   ]
  },
  {
   "cell_type": "code",
   "execution_count": null,
   "metadata": {},
   "outputs": [],
   "source": []
  },
  {
   "cell_type": "markdown",
   "metadata": {
    "ExecuteTime": {
     "end_time": "2021-09-09T13:19:08.407781Z",
     "start_time": "2021-09-09T13:19:08.388781Z"
    }
   },
   "source": [
    "## Regress for inference on M Q and P for Bass Model"
   ]
  },
  {
   "cell_type": "code",
   "execution_count": 1057,
   "metadata": {
    "ExecuteTime": {
     "end_time": "2021-09-09T13:24:07.391671Z",
     "start_time": "2021-09-09T13:24:07.187697Z"
    }
   },
   "outputs": [],
   "source": [
    "bass_df = pd.read_csv('./data/bass_model_values.csv', encoding='utf-8',index_col=0)"
   ]
  },
  {
   "cell_type": "code",
   "execution_count": 1064,
   "metadata": {
    "ExecuteTime": {
     "end_time": "2021-09-09T13:43:12.909498Z",
     "start_time": "2021-09-09T13:43:12.458511Z"
    }
   },
   "outputs": [
    {
     "data": {
      "text/html": [
       "<div>\n",
       "<style scoped>\n",
       "    .dataframe tbody tr th:only-of-type {\n",
       "        vertical-align: middle;\n",
       "    }\n",
       "\n",
       "    .dataframe tbody tr th {\n",
       "        vertical-align: top;\n",
       "    }\n",
       "\n",
       "    .dataframe thead th {\n",
       "        text-align: right;\n",
       "    }\n",
       "</style>\n",
       "<table border=\"1\" class=\"dataframe\">\n",
       "  <thead>\n",
       "    <tr style=\"text-align: right;\">\n",
       "      <th></th>\n",
       "      <th>year</th>\n",
       "      <th>M</th>\n",
       "      <th>p</th>\n",
       "      <th>q</th>\n",
       "    </tr>\n",
       "  </thead>\n",
       "  <tbody>\n",
       "    <tr>\n",
       "      <th>count</th>\n",
       "      <td>2381.000000</td>\n",
       "      <td>2.381000e+03</td>\n",
       "      <td>2381.000000</td>\n",
       "      <td>2381.000000</td>\n",
       "    </tr>\n",
       "    <tr>\n",
       "      <th>mean</th>\n",
       "      <td>2014.338933</td>\n",
       "      <td>5.163880e+06</td>\n",
       "      <td>0.116816</td>\n",
       "      <td>0.253071</td>\n",
       "    </tr>\n",
       "    <tr>\n",
       "      <th>std</th>\n",
       "      <td>3.111208</td>\n",
       "      <td>1.174091e+07</td>\n",
       "      <td>1.049731</td>\n",
       "      <td>0.721073</td>\n",
       "    </tr>\n",
       "    <tr>\n",
       "      <th>min</th>\n",
       "      <td>2009.000000</td>\n",
       "      <td>1.731849e+02</td>\n",
       "      <td>-27.190591</td>\n",
       "      <td>-4.968029</td>\n",
       "    </tr>\n",
       "    <tr>\n",
       "      <th>25%</th>\n",
       "      <td>2011.000000</td>\n",
       "      <td>2.996146e+04</td>\n",
       "      <td>0.067116</td>\n",
       "      <td>0.000023</td>\n",
       "    </tr>\n",
       "    <tr>\n",
       "      <th>50%</th>\n",
       "      <td>2014.000000</td>\n",
       "      <td>4.076424e+05</td>\n",
       "      <td>0.158372</td>\n",
       "      <td>0.140461</td>\n",
       "    </tr>\n",
       "    <tr>\n",
       "      <th>75%</th>\n",
       "      <td>2017.000000</td>\n",
       "      <td>5.989178e+06</td>\n",
       "      <td>0.395063</td>\n",
       "      <td>0.424750</td>\n",
       "    </tr>\n",
       "    <tr>\n",
       "      <th>max</th>\n",
       "      <td>2021.000000</td>\n",
       "      <td>2.849854e+08</td>\n",
       "      <td>11.955771</td>\n",
       "      <td>21.027340</td>\n",
       "    </tr>\n",
       "  </tbody>\n",
       "</table>\n",
       "</div>"
      ],
      "text/plain": [
       "              year             M            p            q\n",
       "count  2381.000000  2.381000e+03  2381.000000  2381.000000\n",
       "mean   2014.338933  5.163880e+06     0.116816     0.253071\n",
       "std       3.111208  1.174091e+07     1.049731     0.721073\n",
       "min    2009.000000  1.731849e+02   -27.190591    -4.968029\n",
       "25%    2011.000000  2.996146e+04     0.067116     0.000023\n",
       "50%    2014.000000  4.076424e+05     0.158372     0.140461\n",
       "75%    2017.000000  5.989178e+06     0.395063     0.424750\n",
       "max    2021.000000  2.849854e+08    11.955771    21.027340"
      ]
     },
     "execution_count": 1064,
     "metadata": {},
     "output_type": "execute_result"
    }
   ],
   "source": [
    "bass_df.describe()"
   ]
  },
  {
   "cell_type": "code",
   "execution_count": 1063,
   "metadata": {
    "ExecuteTime": {
     "end_time": "2021-09-09T13:42:47.685860Z",
     "start_time": "2021-09-09T13:42:47.555637Z"
    }
   },
   "outputs": [],
   "source": [
    "bass_merged_df = merged_df.merge(bass_df,left_on='title', right_on='title')"
   ]
  },
  {
   "cell_type": "code",
   "execution_count": 1062,
   "metadata": {
    "ExecuteTime": {
     "end_time": "2021-09-09T13:30:42.863044Z",
     "start_time": "2021-09-09T13:30:42.743072Z"
    }
   },
   "outputs": [
    {
     "data": {
      "text/html": [
       "<div>\n",
       "<style scoped>\n",
       "    .dataframe tbody tr th:only-of-type {\n",
       "        vertical-align: middle;\n",
       "    }\n",
       "\n",
       "    .dataframe tbody tr th {\n",
       "        vertical-align: top;\n",
       "    }\n",
       "\n",
       "    .dataframe thead th {\n",
       "        text-align: right;\n",
       "    }\n",
       "</style>\n",
       "<table border=\"1\" class=\"dataframe\">\n",
       "  <thead>\n",
       "    <tr style=\"text-align: right;\">\n",
       "      <th></th>\n",
       "      <th>tconst</th>\n",
       "      <th>title</th>\n",
       "      <th>released</th>\n",
       "      <th>distributor</th>\n",
       "      <th>genre</th>\n",
       "      <th>source</th>\n",
       "      <th>prodmethod</th>\n",
       "      <th>creativetype</th>\n",
       "      <th>productionbudget</th>\n",
       "      <th>maxtheaters</th>\n",
       "      <th>...</th>\n",
       "      <th>inf_dombox</th>\n",
       "      <th>year_x</th>\n",
       "      <th>franchise</th>\n",
       "      <th>runtime_min</th>\n",
       "      <th>act_infl</th>\n",
       "      <th>dir_infl</th>\n",
       "      <th>year_y</th>\n",
       "      <th>M</th>\n",
       "      <th>p</th>\n",
       "      <th>q</th>\n",
       "    </tr>\n",
       "  </thead>\n",
       "  <tbody>\n",
       "    <tr>\n",
       "      <th>0</th>\n",
       "      <td>tt1606378</td>\n",
       "      <td>A Good Day to Die Hard</td>\n",
       "      <td>Feb 14, 2013</td>\n",
       "      <td>20th_Century_Fox</td>\n",
       "      <td>Action</td>\n",
       "      <td>Original_Screenplay</td>\n",
       "      <td>Live_Action</td>\n",
       "      <td>Live_Action</td>\n",
       "      <td>92000000</td>\n",
       "      <td>3555</td>\n",
       "      <td>...</td>\n",
       "      <td>75881751</td>\n",
       "      <td>2013</td>\n",
       "      <td>1</td>\n",
       "      <td>98</td>\n",
       "      <td>1.622326e+08</td>\n",
       "      <td>3.029308e+06</td>\n",
       "      <td>2013</td>\n",
       "      <td>8.176613e+06</td>\n",
       "      <td>0.267647</td>\n",
       "      <td>0.660205</td>\n",
       "    </tr>\n",
       "    <tr>\n",
       "      <th>1</th>\n",
       "      <td>tt2935510</td>\n",
       "      <td>Ad Astra</td>\n",
       "      <td>Sep 20, 2019</td>\n",
       "      <td>20th_Century_Fox</td>\n",
       "      <td>ThrillerSuspense</td>\n",
       "      <td>Original_Screenplay</td>\n",
       "      <td>Live_Action</td>\n",
       "      <td>Live_Action</td>\n",
       "      <td>80000000</td>\n",
       "      <td>3460</td>\n",
       "      <td>...</td>\n",
       "      <td>50188370</td>\n",
       "      <td>2019</td>\n",
       "      <td>0</td>\n",
       "      <td>123</td>\n",
       "      <td>2.257948e+09</td>\n",
       "      <td>4.875923e+06</td>\n",
       "      <td>2019</td>\n",
       "      <td>5.463108e+06</td>\n",
       "      <td>0.508063</td>\n",
       "      <td>0.077618</td>\n",
       "    </tr>\n",
       "    <tr>\n",
       "      <th>2</th>\n",
       "      <td>tt2316204</td>\n",
       "      <td>Alien: Covenant</td>\n",
       "      <td>May 19, 2017</td>\n",
       "      <td>20th_Century_Fox</td>\n",
       "      <td>Horror</td>\n",
       "      <td>Original_Screenplay</td>\n",
       "      <td>Live_Action</td>\n",
       "      <td>Live_Action</td>\n",
       "      <td>97000000</td>\n",
       "      <td>3772</td>\n",
       "      <td>...</td>\n",
       "      <td>75835026</td>\n",
       "      <td>2017</td>\n",
       "      <td>1</td>\n",
       "      <td>122</td>\n",
       "      <td>2.301957e+08</td>\n",
       "      <td>6.396533e+07</td>\n",
       "      <td>2017</td>\n",
       "      <td>8.259052e+06</td>\n",
       "      <td>0.632185</td>\n",
       "      <td>-0.055396</td>\n",
       "    </tr>\n",
       "    <tr>\n",
       "      <th>3</th>\n",
       "      <td>tt0437086</td>\n",
       "      <td>Alita: Battle Angel</td>\n",
       "      <td>Feb 14, 2019</td>\n",
       "      <td>20th_Century_Fox</td>\n",
       "      <td>Action</td>\n",
       "      <td>Based_on_ComicGraphic_Novel</td>\n",
       "      <td>AnimationLive_Action</td>\n",
       "      <td>AnimationLive_Action</td>\n",
       "      <td>170000000</td>\n",
       "      <td>3802</td>\n",
       "      <td>...</td>\n",
       "      <td>85838210</td>\n",
       "      <td>2019</td>\n",
       "      <td>0</td>\n",
       "      <td>122</td>\n",
       "      <td>7.990851e+08</td>\n",
       "      <td>5.905082e+06</td>\n",
       "      <td>2019</td>\n",
       "      <td>9.238700e+06</td>\n",
       "      <td>0.252952</td>\n",
       "      <td>0.518043</td>\n",
       "    </tr>\n",
       "    <tr>\n",
       "      <th>4</th>\n",
       "      <td>tt1727824</td>\n",
       "      <td>Bohemian Rhapsody</td>\n",
       "      <td>Nov 2, 2018</td>\n",
       "      <td>20th_Century_Fox</td>\n",
       "      <td>Drama</td>\n",
       "      <td>Based_on_Real_Life_Events</td>\n",
       "      <td>Live_Action</td>\n",
       "      <td>Live_Action</td>\n",
       "      <td>55000000</td>\n",
       "      <td>4000</td>\n",
       "      <td>...</td>\n",
       "      <td>217345118</td>\n",
       "      <td>2018</td>\n",
       "      <td>0</td>\n",
       "      <td>134</td>\n",
       "      <td>6.591602e+04</td>\n",
       "      <td>7.480995e+07</td>\n",
       "      <td>2018</td>\n",
       "      <td>2.367270e+07</td>\n",
       "      <td>0.326295</td>\n",
       "      <td>-0.157782</td>\n",
       "    </tr>\n",
       "    <tr>\n",
       "      <th>...</th>\n",
       "      <td>...</td>\n",
       "      <td>...</td>\n",
       "      <td>...</td>\n",
       "      <td>...</td>\n",
       "      <td>...</td>\n",
       "      <td>...</td>\n",
       "      <td>...</td>\n",
       "      <td>...</td>\n",
       "      <td>...</td>\n",
       "      <td>...</td>\n",
       "      <td>...</td>\n",
       "      <td>...</td>\n",
       "      <td>...</td>\n",
       "      <td>...</td>\n",
       "      <td>...</td>\n",
       "      <td>...</td>\n",
       "      <td>...</td>\n",
       "      <td>...</td>\n",
       "      <td>...</td>\n",
       "      <td>...</td>\n",
       "      <td>...</td>\n",
       "    </tr>\n",
       "    <tr>\n",
       "      <th>810</th>\n",
       "      <td>tt5362988</td>\n",
       "      <td>Wind River</td>\n",
       "      <td>Aug 4, 2017</td>\n",
       "      <td>Weinstein_Co</td>\n",
       "      <td>ThrillerSuspense</td>\n",
       "      <td>Original_Screenplay</td>\n",
       "      <td>Live_Action</td>\n",
       "      <td>Live_Action</td>\n",
       "      <td>11000000</td>\n",
       "      <td>2890</td>\n",
       "      <td>...</td>\n",
       "      <td>34516822</td>\n",
       "      <td>2017</td>\n",
       "      <td>0</td>\n",
       "      <td>107</td>\n",
       "      <td>4.507963e+08</td>\n",
       "      <td>1.000000e-02</td>\n",
       "      <td>2017</td>\n",
       "      <td>3.728025e+06</td>\n",
       "      <td>0.059571</td>\n",
       "      <td>0.804957</td>\n",
       "    </tr>\n",
       "    <tr>\n",
       "      <th>811</th>\n",
       "      <td>tt2404425</td>\n",
       "      <td>Woman in Gold</td>\n",
       "      <td>Apr 1, 2015</td>\n",
       "      <td>Weinstein_Co</td>\n",
       "      <td>Drama</td>\n",
       "      <td>Original_Screenplay</td>\n",
       "      <td>Live_Action</td>\n",
       "      <td>Live_Action</td>\n",
       "      <td>11000000</td>\n",
       "      <td>2011</td>\n",
       "      <td>...</td>\n",
       "      <td>36192094</td>\n",
       "      <td>2015</td>\n",
       "      <td>0</td>\n",
       "      <td>109</td>\n",
       "      <td>2.190229e+08</td>\n",
       "      <td>2.080154e+06</td>\n",
       "      <td>2015</td>\n",
       "      <td>3.885660e+06</td>\n",
       "      <td>0.101435</td>\n",
       "      <td>0.433702</td>\n",
       "    </tr>\n",
       "    <tr>\n",
       "      <th>812</th>\n",
       "      <td>tt0464154</td>\n",
       "      <td>Piranha 3D</td>\n",
       "      <td>Aug 20, 2010</td>\n",
       "      <td>WeinsteinDimension</td>\n",
       "      <td>Horror</td>\n",
       "      <td>Remake</td>\n",
       "      <td>Live_Action</td>\n",
       "      <td>Live_Action</td>\n",
       "      <td>24000000</td>\n",
       "      <td>2491</td>\n",
       "      <td>...</td>\n",
       "      <td>29027738</td>\n",
       "      <td>2010</td>\n",
       "      <td>0</td>\n",
       "      <td>88</td>\n",
       "      <td>2.397599e+07</td>\n",
       "      <td>7.838763e+05</td>\n",
       "      <td>2010</td>\n",
       "      <td>3.172514e+06</td>\n",
       "      <td>0.555840</td>\n",
       "      <td>0.057390</td>\n",
       "    </tr>\n",
       "    <tr>\n",
       "      <th>813</th>\n",
       "      <td>tt1262416</td>\n",
       "      <td>Scream 4</td>\n",
       "      <td>Apr 15, 2011</td>\n",
       "      <td>WeinsteinDimension</td>\n",
       "      <td>Horror</td>\n",
       "      <td>Original_Screenplay</td>\n",
       "      <td>Live_Action</td>\n",
       "      <td>Live_Action</td>\n",
       "      <td>40000000</td>\n",
       "      <td>3314</td>\n",
       "      <td>...</td>\n",
       "      <td>44103064</td>\n",
       "      <td>2011</td>\n",
       "      <td>0</td>\n",
       "      <td>111</td>\n",
       "      <td>3.070934e+07</td>\n",
       "      <td>5.564623e+05</td>\n",
       "      <td>2011</td>\n",
       "      <td>4.792566e+06</td>\n",
       "      <td>0.632045</td>\n",
       "      <td>0.035520</td>\n",
       "    </tr>\n",
       "    <tr>\n",
       "      <th>814</th>\n",
       "      <td>tt1403177</td>\n",
       "      <td>Hesher</td>\n",
       "      <td>May 13, 2011</td>\n",
       "      <td>Wrekin_Hill_Entertainment</td>\n",
       "      <td>Drama</td>\n",
       "      <td>Original_Screenplay</td>\n",
       "      <td>Live_Action</td>\n",
       "      <td>Live_Action</td>\n",
       "      <td>7000000</td>\n",
       "      <td>42</td>\n",
       "      <td>...</td>\n",
       "      <td>442336</td>\n",
       "      <td>2011</td>\n",
       "      <td>0</td>\n",
       "      <td>106</td>\n",
       "      <td>6.446718e+07</td>\n",
       "      <td>1.000000e-02</td>\n",
       "      <td>2011</td>\n",
       "      <td>4.738672e+04</td>\n",
       "      <td>0.511406</td>\n",
       "      <td>0.026282</td>\n",
       "    </tr>\n",
       "  </tbody>\n",
       "</table>\n",
       "<p>815 rows × 21 columns</p>\n",
       "</div>"
      ],
      "text/plain": [
       "        tconst                   title      released  \\\n",
       "0    tt1606378  A Good Day to Die Hard  Feb 14, 2013   \n",
       "1    tt2935510                Ad Astra  Sep 20, 2019   \n",
       "2    tt2316204         Alien: Covenant  May 19, 2017   \n",
       "3    tt0437086     Alita: Battle Angel  Feb 14, 2019   \n",
       "4    tt1727824       Bohemian Rhapsody   Nov 2, 2018   \n",
       "..         ...                     ...           ...   \n",
       "810  tt5362988              Wind River   Aug 4, 2017   \n",
       "811  tt2404425           Woman in Gold   Apr 1, 2015   \n",
       "812  tt0464154              Piranha 3D  Aug 20, 2010   \n",
       "813  tt1262416                Scream 4  Apr 15, 2011   \n",
       "814  tt1403177                  Hesher  May 13, 2011   \n",
       "\n",
       "                   distributor             genre                       source  \\\n",
       "0             20th_Century_Fox            Action          Original_Screenplay   \n",
       "1             20th_Century_Fox  ThrillerSuspense          Original_Screenplay   \n",
       "2             20th_Century_Fox            Horror          Original_Screenplay   \n",
       "3             20th_Century_Fox            Action  Based_on_ComicGraphic_Novel   \n",
       "4             20th_Century_Fox             Drama    Based_on_Real_Life_Events   \n",
       "..                         ...               ...                          ...   \n",
       "810               Weinstein_Co  ThrillerSuspense          Original_Screenplay   \n",
       "811               Weinstein_Co             Drama          Original_Screenplay   \n",
       "812         WeinsteinDimension            Horror                       Remake   \n",
       "813         WeinsteinDimension            Horror          Original_Screenplay   \n",
       "814  Wrekin_Hill_Entertainment             Drama          Original_Screenplay   \n",
       "\n",
       "               prodmethod          creativetype  productionbudget  \\\n",
       "0             Live_Action           Live_Action          92000000   \n",
       "1             Live_Action           Live_Action          80000000   \n",
       "2             Live_Action           Live_Action          97000000   \n",
       "3    AnimationLive_Action  AnimationLive_Action         170000000   \n",
       "4             Live_Action           Live_Action          55000000   \n",
       "..                    ...                   ...               ...   \n",
       "810           Live_Action           Live_Action          11000000   \n",
       "811           Live_Action           Live_Action          11000000   \n",
       "812           Live_Action           Live_Action          24000000   \n",
       "813           Live_Action           Live_Action          40000000   \n",
       "814           Live_Action           Live_Action           7000000   \n",
       "\n",
       "     maxtheaters  ...  inf_dombox  year_x  franchise  runtime_min  \\\n",
       "0           3555  ...    75881751    2013          1           98   \n",
       "1           3460  ...    50188370    2019          0          123   \n",
       "2           3772  ...    75835026    2017          1          122   \n",
       "3           3802  ...    85838210    2019          0          122   \n",
       "4           4000  ...   217345118    2018          0          134   \n",
       "..           ...  ...         ...     ...        ...          ...   \n",
       "810         2890  ...    34516822    2017          0          107   \n",
       "811         2011  ...    36192094    2015          0          109   \n",
       "812         2491  ...    29027738    2010          0           88   \n",
       "813         3314  ...    44103064    2011          0          111   \n",
       "814           42  ...      442336    2011          0          106   \n",
       "\n",
       "         act_infl      dir_infl  year_y             M         p         q  \n",
       "0    1.622326e+08  3.029308e+06    2013  8.176613e+06  0.267647  0.660205  \n",
       "1    2.257948e+09  4.875923e+06    2019  5.463108e+06  0.508063  0.077618  \n",
       "2    2.301957e+08  6.396533e+07    2017  8.259052e+06  0.632185 -0.055396  \n",
       "3    7.990851e+08  5.905082e+06    2019  9.238700e+06  0.252952  0.518043  \n",
       "4    6.591602e+04  7.480995e+07    2018  2.367270e+07  0.326295 -0.157782  \n",
       "..            ...           ...     ...           ...       ...       ...  \n",
       "810  4.507963e+08  1.000000e-02    2017  3.728025e+06  0.059571  0.804957  \n",
       "811  2.190229e+08  2.080154e+06    2015  3.885660e+06  0.101435  0.433702  \n",
       "812  2.397599e+07  7.838763e+05    2010  3.172514e+06  0.555840  0.057390  \n",
       "813  3.070934e+07  5.564623e+05    2011  4.792566e+06  0.632045  0.035520  \n",
       "814  6.446718e+07  1.000000e-02    2011  4.738672e+04  0.511406  0.026282  \n",
       "\n",
       "[815 rows x 21 columns]"
      ]
     },
     "execution_count": 1062,
     "metadata": {},
     "output_type": "execute_result"
    }
   ],
   "source": [
    "bass_merged_df.describe()"
   ]
  },
  {
   "cell_type": "code",
   "execution_count": null,
   "metadata": {},
   "outputs": [],
   "source": [
    "**Regress for M**"
   ]
  },
  {
   "cell_type": "code",
   "execution_count": null,
   "metadata": {},
   "outputs": [],
   "source": []
  },
  {
   "cell_type": "code",
   "execution_count": null,
   "metadata": {},
   "outputs": [],
   "source": [
    "**Regress for P**"
   ]
  },
  {
   "cell_type": "code",
   "execution_count": null,
   "metadata": {},
   "outputs": [],
   "source": []
  },
  {
   "cell_type": "code",
   "execution_count": null,
   "metadata": {},
   "outputs": [],
   "source": [
    "**Regress for Q**"
   ]
  },
  {
   "cell_type": "markdown",
   "metadata": {},
   "source": [
    "## Random Forest"
   ]
  },
  {
   "cell_type": "code",
   "execution_count": 1066,
   "metadata": {
    "ExecuteTime": {
     "end_time": "2021-09-10T13:28:03.605296Z",
     "start_time": "2021-09-10T13:27:56.144320Z"
    }
   },
   "outputs": [],
   "source": [
    "import pandas as pd\n",
    "import numpy as np\n",
    "np.random.seed(0)\n",
    "import matplotlib.pyplot as plt\n",
    "from sklearn.model_selection import train_test_split\n",
    "from sklearn.metrics import accuracy_score, confusion_matrix, classification_report\n",
    "from sklearn.tree import DecisionTreeClassifier\n",
    "from sklearn.ensemble import BaggingClassifier, RandomForestClassifier"
   ]
  },
  {
   "cell_type": "code",
   "execution_count": 1071,
   "metadata": {
    "ExecuteTime": {
     "end_time": "2021-09-10T13:38:09.914506Z",
     "start_time": "2021-09-10T13:38:09.551483Z"
    }
   },
   "outputs": [],
   "source": [
    "X = preprocessed.drop(columns='inf_dombox_log',axis=1)\n",
    "y = preprocessed['inf_dombox_log']"
   ]
  },
  {
   "cell_type": "code",
   "execution_count": 1072,
   "metadata": {
    "ExecuteTime": {
     "end_time": "2021-09-10T13:38:12.013716Z",
     "start_time": "2021-09-10T13:38:11.951723Z"
    }
   },
   "outputs": [
    {
     "name": "stdout",
     "output_type": "stream",
     "text": [
      "1131 377 1131 377\n"
     ]
    }
   ],
   "source": [
    "# Split the data into training and test sets. Use the default split size\n",
    "X_train, X_test, y_train, y_test = train_test_split(X, y, test_size = 0.25, random_state = 25)\n",
    "print(len(X_train), len(X_test), len(y_train), len(y_test))"
   ]
  },
  {
   "cell_type": "markdown",
   "metadata": {},
   "source": [
    "### Decision tree Baseline"
   ]
  },
  {
   "cell_type": "code",
   "execution_count": 1073,
   "metadata": {
    "ExecuteTime": {
     "end_time": "2021-09-10T13:38:15.268835Z",
     "start_time": "2021-09-10T13:38:15.237802Z"
    }
   },
   "outputs": [
    {
     "ename": "ValueError",
     "evalue": "Unknown label type: 'continuous'",
     "output_type": "error",
     "traceback": [
      "\u001b[1;31m---------------------------------------------------------------------------\u001b[0m",
      "\u001b[1;31mValueError\u001b[0m                                Traceback (most recent call last)",
      "\u001b[1;32m<ipython-input-1073-4b283d00851f>\u001b[0m in \u001b[0;36m<module>\u001b[1;34m\u001b[0m\n\u001b[0;32m      1\u001b[0m \u001b[1;31m#Baseline a Decision Tree\u001b[0m\u001b[1;33m\u001b[0m\u001b[1;33m\u001b[0m\u001b[1;33m\u001b[0m\u001b[0m\n\u001b[0;32m      2\u001b[0m \u001b[0mtree_clf\u001b[0m \u001b[1;33m=\u001b[0m \u001b[0mDecisionTreeClassifier\u001b[0m\u001b[1;33m(\u001b[0m\u001b[0mcriterion\u001b[0m\u001b[1;33m=\u001b[0m\u001b[1;34m'gini'\u001b[0m\u001b[1;33m,\u001b[0m \u001b[0mmax_depth\u001b[0m\u001b[1;33m=\u001b[0m\u001b[1;36m5\u001b[0m\u001b[1;33m)\u001b[0m\u001b[1;33m\u001b[0m\u001b[1;33m\u001b[0m\u001b[0m\n\u001b[1;32m----> 3\u001b[1;33m \u001b[0mtree_clf\u001b[0m\u001b[1;33m.\u001b[0m\u001b[0mfit\u001b[0m\u001b[1;33m(\u001b[0m\u001b[0mX_train\u001b[0m\u001b[1;33m,\u001b[0m \u001b[0my_train\u001b[0m\u001b[1;33m)\u001b[0m\u001b[1;33m\u001b[0m\u001b[1;33m\u001b[0m\u001b[0m\n\u001b[0m",
      "\u001b[1;32m~\\anaconda3\\envs\\learn-env\\lib\\site-packages\\sklearn\\tree\\_classes.py\u001b[0m in \u001b[0;36mfit\u001b[1;34m(self, X, y, sample_weight, check_input, X_idx_sorted)\u001b[0m\n\u001b[0;32m    888\u001b[0m         \"\"\"\n\u001b[0;32m    889\u001b[0m \u001b[1;33m\u001b[0m\u001b[0m\n\u001b[1;32m--> 890\u001b[1;33m         super().fit(\n\u001b[0m\u001b[0;32m    891\u001b[0m             \u001b[0mX\u001b[0m\u001b[1;33m,\u001b[0m \u001b[0my\u001b[0m\u001b[1;33m,\u001b[0m\u001b[1;33m\u001b[0m\u001b[1;33m\u001b[0m\u001b[0m\n\u001b[0;32m    892\u001b[0m             \u001b[0msample_weight\u001b[0m\u001b[1;33m=\u001b[0m\u001b[0msample_weight\u001b[0m\u001b[1;33m,\u001b[0m\u001b[1;33m\u001b[0m\u001b[1;33m\u001b[0m\u001b[0m\n",
      "\u001b[1;32m~\\anaconda3\\envs\\learn-env\\lib\\site-packages\\sklearn\\tree\\_classes.py\u001b[0m in \u001b[0;36mfit\u001b[1;34m(self, X, y, sample_weight, check_input, X_idx_sorted)\u001b[0m\n\u001b[0;32m    179\u001b[0m \u001b[1;33m\u001b[0m\u001b[0m\n\u001b[0;32m    180\u001b[0m         \u001b[1;32mif\u001b[0m \u001b[0mis_classification\u001b[0m\u001b[1;33m:\u001b[0m\u001b[1;33m\u001b[0m\u001b[1;33m\u001b[0m\u001b[0m\n\u001b[1;32m--> 181\u001b[1;33m             \u001b[0mcheck_classification_targets\u001b[0m\u001b[1;33m(\u001b[0m\u001b[0my\u001b[0m\u001b[1;33m)\u001b[0m\u001b[1;33m\u001b[0m\u001b[1;33m\u001b[0m\u001b[0m\n\u001b[0m\u001b[0;32m    182\u001b[0m             \u001b[0my\u001b[0m \u001b[1;33m=\u001b[0m \u001b[0mnp\u001b[0m\u001b[1;33m.\u001b[0m\u001b[0mcopy\u001b[0m\u001b[1;33m(\u001b[0m\u001b[0my\u001b[0m\u001b[1;33m)\u001b[0m\u001b[1;33m\u001b[0m\u001b[1;33m\u001b[0m\u001b[0m\n\u001b[0;32m    183\u001b[0m \u001b[1;33m\u001b[0m\u001b[0m\n",
      "\u001b[1;32m~\\anaconda3\\envs\\learn-env\\lib\\site-packages\\sklearn\\utils\\multiclass.py\u001b[0m in \u001b[0;36mcheck_classification_targets\u001b[1;34m(y)\u001b[0m\n\u001b[0;32m    170\u001b[0m     if y_type not in ['binary', 'multiclass', 'multiclass-multioutput',\n\u001b[0;32m    171\u001b[0m                       'multilabel-indicator', 'multilabel-sequences']:\n\u001b[1;32m--> 172\u001b[1;33m         \u001b[1;32mraise\u001b[0m \u001b[0mValueError\u001b[0m\u001b[1;33m(\u001b[0m\u001b[1;34m\"Unknown label type: %r\"\u001b[0m \u001b[1;33m%\u001b[0m \u001b[0my_type\u001b[0m\u001b[1;33m)\u001b[0m\u001b[1;33m\u001b[0m\u001b[1;33m\u001b[0m\u001b[0m\n\u001b[0m\u001b[0;32m    173\u001b[0m \u001b[1;33m\u001b[0m\u001b[0m\n\u001b[0;32m    174\u001b[0m \u001b[1;33m\u001b[0m\u001b[0m\n",
      "\u001b[1;31mValueError\u001b[0m: Unknown label type: 'continuous'"
     ]
    }
   ],
   "source": [
    "#Baseline a Decision Tree\n",
    "tree_clf = DecisionTreeClassifier(criterion='gini', max_depth=5) \n",
    "tree_clf.fit(X_train, y_train)"
   ]
  },
  {
   "cell_type": "code",
   "execution_count": null,
   "metadata": {
    "ExecuteTime": {
     "end_time": "2021-09-10T13:18:20.884049Z",
     "start_time": "2021-09-10T13:18:19.832Z"
    }
   },
   "outputs": [],
   "source": [
    "DecisionTreeClassifier(class_weight=None, criterion='gini', max_depth=5,\n",
    "                       max_features=None, max_leaf_nodes=None,\n",
    "                       min_impurity_decrease=0.0, min_impurity_split=None,\n",
    "                       min_samples_leaf=1, min_samples_split=2,\n",
    "                       min_weight_fraction_leaf=0.0, presort=False,\n",
    "                       random_state=None, splitter='best')"
   ]
  },
  {
   "cell_type": "markdown",
   "metadata": {
    "ExecuteTime": {
     "end_time": "2021-09-10T14:29:44.291067Z",
     "start_time": "2021-09-10T14:29:44.200063Z"
    }
   },
   "source": [
    "#### Feature Importances"
   ]
  },
  {
   "cell_type": "code",
   "execution_count": null,
   "metadata": {},
   "outputs": [],
   "source": [
    "# Feature importance\n",
    "tree_clf.feature_importances_"
   ]
  },
  {
   "cell_type": "code",
   "execution_count": null,
   "metadata": {},
   "outputs": [],
   "source": [
    "def plot_feature_importances(model):\n",
    "    n_features = data_train.shape[1]\n",
    "    plt.figure(figsize=(8,8))\n",
    "    plt.barh(range(n_features), model.feature_importances_, align='center') \n",
    "    plt.yticks(np.arange(n_features), data_train.columns.values) \n",
    "    plt.xlabel('Feature importance')\n",
    "    plt.ylabel('Feature')\n",
    "\n",
    "plot_feature_importances(tree_clf)"
   ]
  },
  {
   "cell_type": "code",
   "execution_count": null,
   "metadata": {},
   "outputs": [],
   "source": [
    "# Test set predictions\n",
    "pred = tree_clf.predict(data_test)\n",
    "\n",
    "# Confusion matrix and classification report\n",
    "print(confusion_matrix(target_test, pred))\n",
    "print(classification_report(target_test, pred))"
   ]
  },
  {
   "cell_type": "code",
   "execution_count": null,
   "metadata": {},
   "outputs": [],
   "source": [
    "print(\"Testing Accuracy for Decision Tree Classifier: {:.4}%\".format(accuracy_score(target_test, pred) * 100))"
   ]
  },
  {
   "cell_type": "code",
   "execution_count": null,
   "metadata": {},
   "outputs": [],
   "source": []
  },
  {
   "cell_type": "code",
   "execution_count": null,
   "metadata": {},
   "outputs": [],
   "source": []
  },
  {
   "cell_type": "markdown",
   "metadata": {
    "ExecuteTime": {
     "end_time": "2021-09-10T14:30:02.880512Z",
     "start_time": "2021-09-10T14:30:02.875533Z"
    }
   },
   "source": [
    "### Random Forest"
   ]
  },
  {
   "cell_type": "code",
   "execution_count": null,
   "metadata": {},
   "outputs": [],
   "source": [
    "# Instantiate and fit a RandomForestClassifier\n",
    "forest = RandomForestClassifier(n_estimators=100, max_depth= 5)\n",
    "forest.fit(data_train, target_train)"
   ]
  },
  {
   "cell_type": "code",
   "execution_count": null,
   "metadata": {},
   "outputs": [],
   "source": [
    "RandomForestClassifier(bootstrap=True, class_weight=None, criterion='gini',\n",
    "                       max_depth=5, max_features='auto', max_leaf_nodes=None,\n",
    "                       min_impurity_decrease=0.0, min_impurity_split=None,\n",
    "                       min_samples_leaf=1, min_samples_split=2,\n",
    "                       min_weight_fraction_leaf=0.0, n_estimators=100,\n",
    "                       n_jobs=None, oob_score=False, random_state=None,\n",
    "                       verbose=0, warm_start=False)"
   ]
  },
  {
   "cell_type": "code",
   "execution_count": null,
   "metadata": {},
   "outputs": [],
   "source": [
    "# Training accuracy score\n",
    "forest.score(data_train, target_train)"
   ]
  },
  {
   "cell_type": "code",
   "execution_count": null,
   "metadata": {},
   "outputs": [],
   "source": [
    "# Test accuracy score\n",
    "forest.score(data_test, target_test)"
   ]
  },
  {
   "cell_type": "code",
   "execution_count": null,
   "metadata": {},
   "outputs": [],
   "source": [
    "plot_feature_importances(forest)"
   ]
  },
  {
   "cell_type": "code",
   "execution_count": null,
   "metadata": {},
   "outputs": [],
   "source": []
  },
  {
   "cell_type": "code",
   "execution_count": null,
   "metadata": {},
   "outputs": [],
   "source": []
  },
  {
   "cell_type": "code",
   "execution_count": null,
   "metadata": {},
   "outputs": [],
   "source": []
  },
  {
   "cell_type": "code",
   "execution_count": null,
   "metadata": {},
   "outputs": [],
   "source": []
  },
  {
   "cell_type": "code",
   "execution_count": null,
   "metadata": {},
   "outputs": [],
   "source": []
  },
  {
   "cell_type": "code",
   "execution_count": null,
   "metadata": {},
   "outputs": [],
   "source": []
  },
  {
   "cell_type": "code",
   "execution_count": null,
   "metadata": {},
   "outputs": [],
   "source": []
  },
  {
   "cell_type": "code",
   "execution_count": null,
   "metadata": {},
   "outputs": [],
   "source": []
  }
 ],
 "metadata": {
  "kernelspec": {
   "display_name": "learn-env",
   "language": "python",
   "name": "learn-env"
  },
  "language_info": {
   "codemirror_mode": {
    "name": "ipython",
    "version": 3
   },
   "file_extension": ".py",
   "mimetype": "text/x-python",
   "name": "python",
   "nbconvert_exporter": "python",
   "pygments_lexer": "ipython3",
   "version": "3.8.5"
  },
  "toc": {
   "base_numbering": 1,
   "nav_menu": {},
   "number_sections": true,
   "sideBar": true,
   "skip_h1_title": false,
   "title_cell": "Table of Contents",
   "title_sidebar": "Contents",
   "toc_cell": false,
   "toc_position": {},
   "toc_section_display": true,
   "toc_window_display": true
  },
  "varInspector": {
   "cols": {
    "lenName": 16,
    "lenType": 16,
    "lenVar": 40
   },
   "kernels_config": {
    "python": {
     "delete_cmd_postfix": "",
     "delete_cmd_prefix": "del ",
     "library": "var_list.py",
     "varRefreshCmd": "print(var_dic_list())"
    },
    "r": {
     "delete_cmd_postfix": ") ",
     "delete_cmd_prefix": "rm(",
     "library": "var_list.r",
     "varRefreshCmd": "cat(var_dic_list()) "
    }
   },
   "types_to_exclude": [
    "module",
    "function",
    "builtin_function_or_method",
    "instance",
    "_Feature"
   ],
   "window_display": false
  }
 },
 "nbformat": 4,
 "nbformat_minor": 4
}
